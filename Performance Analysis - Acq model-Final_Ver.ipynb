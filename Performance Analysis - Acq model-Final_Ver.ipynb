{
 "cells": [
  {
   "cell_type": "code",
   "execution_count": 1,
   "metadata": {},
   "outputs": [],
   "source": [
    "import pandas as pd\n",
    "import numpy as np\n",
    "import warnings\n",
    "from functools import reduce\n",
    "from dateutil import relativedelta\n",
    "\n",
    "warnings.filterwarnings('ignore')\n",
    "\n",
    "pd.set_option('display.max_rows', 500)\n",
    "pd.set_option('display.max_columns', 500)"
   ]
  },
  {
   "cell_type": "code",
   "execution_count": 2,
   "metadata": {},
   "outputs": [],
   "source": [
    "def intck_month( start, end ):\n",
    "    rd = relativedelta.relativedelta( pd.to_datetime( end ), pd.to_datetime( start ) )\n",
    "    return rd.months"
   ]
  },
  {
   "cell_type": "code",
   "execution_count": 3,
   "metadata": {},
   "outputs": [],
   "source": [
    "df = pd.read_csv(\"D:/Varthana/MOM_DATA_28-Sep-20.csv\")"
   ]
  },
  {
   "cell_type": "code",
   "execution_count": 4,
   "metadata": {},
   "outputs": [],
   "source": [
    "df.columns = df.columns.str.lower()"
   ]
  },
  {
   "cell_type": "markdown",
   "metadata": {},
   "source": [
    "### Business date conversion to date format"
   ]
  },
  {
   "cell_type": "code",
   "execution_count": 5,
   "metadata": {},
   "outputs": [
    {
     "data": {
      "text/plain": [
       "(153571, 29)"
      ]
     },
     "execution_count": 5,
     "metadata": {},
     "output_type": "execute_result"
    }
   ],
   "source": [
    "df['dt_businessdate'] = pd.to_datetime(df['dt_businessdate'])\n",
    "df.shape"
   ]
  },
  {
   "cell_type": "markdown",
   "metadata": {},
   "source": [
    "### Flagging Education loans and excluding"
   ]
  },
  {
   "cell_type": "code",
   "execution_count": 6,
   "metadata": {},
   "outputs": [],
   "source": [
    "df[\"EL_Flag\"] = np.where(df['sz_loan_account_no'].str[-2:] == \"EL\", 1,0)"
   ]
  },
  {
   "cell_type": "code",
   "execution_count": 7,
   "metadata": {},
   "outputs": [
    {
     "data": {
      "text/plain": [
       "0    153571\n",
       "Name: EL_Flag, dtype: int64"
      ]
     },
     "execution_count": 7,
     "metadata": {},
     "output_type": "execute_result"
    }
   ],
   "source": [
    "df[\"EL_Flag\"].value_counts()"
   ]
  },
  {
   "cell_type": "code",
   "execution_count": 8,
   "metadata": {},
   "outputs": [
    {
     "data": {
      "text/plain": [
       "(153571, 30)"
      ]
     },
     "execution_count": 8,
     "metadata": {},
     "output_type": "execute_result"
    }
   ],
   "source": [
    "df[df[\"EL_Flag\"]==0].shape"
   ]
  },
  {
   "cell_type": "markdown",
   "metadata": {},
   "source": [
    "##### Keeping only the records with School loans by excluding the Education loans"
   ]
  },
  {
   "cell_type": "code",
   "execution_count": 9,
   "metadata": {},
   "outputs": [],
   "source": [
    "df_1 = df[df[\"EL_Flag\"]==0]"
   ]
  },
  {
   "cell_type": "markdown",
   "metadata": {},
   "source": [
    "#### excluding the old accounts\n"
   ]
  },
  {
   "cell_type": "code",
   "execution_count": 10,
   "metadata": {},
   "outputs": [],
   "source": [
    "df_x = df_1[df_1[\"sz_loan_account_no\"].str.len()>9]"
   ]
  },
  {
   "cell_type": "markdown",
   "metadata": {},
   "source": [
    "#### Data subset with only necessary columns"
   ]
  },
  {
   "cell_type": "code",
   "execution_count": 11,
   "metadata": {},
   "outputs": [],
   "source": [
    "df_2=pd.DataFrame(df_x[['sz_loan_account_no','dt_businessdate','i_dpd',\"sz_delinquency_str\" ]])"
   ]
  },
  {
   "cell_type": "code",
   "execution_count": 12,
   "metadata": {},
   "outputs": [],
   "source": [
    "df_2 = df_2.sort_values(by = ['sz_loan_account_no','dt_businessdate'])\n",
    "df_2 = df_2.reset_index()"
   ]
  },
  {
   "cell_type": "markdown",
   "metadata": {},
   "source": [
    "### Creating 30+, 60+ & 90+ flags"
   ]
  },
  {
   "cell_type": "code",
   "execution_count": 13,
   "metadata": {},
   "outputs": [],
   "source": [
    "df_2[\"30Plus_flag\"] = np.where((df_2[\"i_dpd\"]>=30),1,0)\n",
    "df_2[\"60Plus_flag\"] = np.where((df_2[\"i_dpd\"]>=60),1,0)\n",
    "df_2[\"90Plus_flag\"] = np.where((df_2[\"i_dpd\"]>=90),1,0)\n",
    "df_2[\"XPlus_flag\"] = np.where((df_2[\"i_dpd\"]>0),1,0)"
   ]
  },
  {
   "cell_type": "code",
   "execution_count": 14,
   "metadata": {},
   "outputs": [
    {
     "data": {
      "text/plain": [
       "0    72989\n",
       "1     4073\n",
       "Name: 30Plus_flag, dtype: int64"
      ]
     },
     "execution_count": 14,
     "metadata": {},
     "output_type": "execute_result"
    }
   ],
   "source": [
    "df_2[\"30Plus_flag\"].value_counts()"
   ]
  },
  {
   "cell_type": "code",
   "execution_count": 15,
   "metadata": {},
   "outputs": [
    {
     "data": {
      "text/plain": [
       "0    74316\n",
       "1     2746\n",
       "Name: 60Plus_flag, dtype: int64"
      ]
     },
     "execution_count": 15,
     "metadata": {},
     "output_type": "execute_result"
    }
   ],
   "source": [
    "df_2[\"60Plus_flag\"].value_counts()"
   ]
  },
  {
   "cell_type": "code",
   "execution_count": 16,
   "metadata": {
    "scrolled": true
   },
   "outputs": [
    {
     "data": {
      "text/plain": [
       "0    75760\n",
       "1     1302\n",
       "Name: 90Plus_flag, dtype: int64"
      ]
     },
     "execution_count": 16,
     "metadata": {},
     "output_type": "execute_result"
    }
   ],
   "source": [
    "df_2[\"90Plus_flag\"].value_counts()"
   ]
  },
  {
   "cell_type": "code",
   "execution_count": 17,
   "metadata": {},
   "outputs": [],
   "source": [
    "#df_2[\"MOB\"] = df_2.groupby('sz_loan_account_no')['dt_businessdate'].rank(method='first')"
   ]
  },
  {
   "cell_type": "code",
   "execution_count": 18,
   "metadata": {},
   "outputs": [],
   "source": [
    "df_2[\"MaxBusDate\"] = max(df_2.dt_businessdate)"
   ]
  },
  {
   "cell_type": "markdown",
   "metadata": {},
   "source": [
    "### LOS Data import to include disb date"
   ]
  },
  {
   "cell_type": "code",
   "execution_count": 19,
   "metadata": {},
   "outputs": [],
   "source": [
    "LOS_Base =  pd.read_excel(\"D:/Varthana/PIPELINE (1.xlsx\")"
   ]
  },
  {
   "cell_type": "code",
   "execution_count": 20,
   "metadata": {},
   "outputs": [
    {
     "data": {
      "text/plain": [
       "(11311, 47)"
      ]
     },
     "execution_count": 20,
     "metadata": {},
     "output_type": "execute_result"
    }
   ],
   "source": [
    "LOS_Base[\"DISBURSEMENT_DATE\"] = pd.to_datetime(LOS_Base[\"DISBURSEMENT_DATE\"]) \n",
    "LOS_Base.shape"
   ]
  },
  {
   "cell_type": "code",
   "execution_count": 21,
   "metadata": {},
   "outputs": [],
   "source": [
    "LOS_temp = pd.DataFrame(LOS_Base[[\"SZ_APPLICATION_NO\",\"DISBURSEMENT_DATE\"]])"
   ]
  },
  {
   "cell_type": "code",
   "execution_count": 22,
   "metadata": {},
   "outputs": [],
   "source": [
    "LOS_temp = LOS_temp.sort_values(\"DISBURSEMENT_DATE\",ascending=True )"
   ]
  },
  {
   "cell_type": "code",
   "execution_count": 23,
   "metadata": {},
   "outputs": [],
   "source": [
    "LOS_temp_1 = LOS_temp.drop_duplicates('SZ_APPLICATION_NO').sort_index()"
   ]
  },
  {
   "cell_type": "code",
   "execution_count": 24,
   "metadata": {},
   "outputs": [],
   "source": [
    "df_3  = pd.merge(df_2, LOS_temp_1,how=\"left\",left_on=\"sz_loan_account_no\", right_on=\"SZ_APPLICATION_NO\")"
   ]
  },
  {
   "cell_type": "code",
   "execution_count": 25,
   "metadata": {},
   "outputs": [],
   "source": [
    "df_3[\"nb_mths\"] =  round(((df_3[\"MaxBusDate\"] - df_3[\"DISBURSEMENT_DATE\"])/np.timedelta64(1, 'M')))"
   ]
  },
  {
   "cell_type": "code",
   "execution_count": 26,
   "metadata": {},
   "outputs": [],
   "source": [
    "df_3[\"MOB\"] =  round(((df_3[\"dt_businessdate\"] - df_3[\"DISBURSEMENT_DATE\"])/np.timedelta64(1, 'M')))"
   ]
  },
  {
   "cell_type": "code",
   "execution_count": 27,
   "metadata": {},
   "outputs": [],
   "source": [
    "# df_3[\"nb_mths\"] = round(df_3['nb_mths'])\n",
    "# df_3[\"MOB\"] = round(df_3['MOB'])"
   ]
  },
  {
   "cell_type": "code",
   "execution_count": 28,
   "metadata": {},
   "outputs": [],
   "source": [
    "df_30plusever_3M = df_3[(df_3[\"MOB\"]<=3) & (df_3[\"nb_mths\"]>3)].groupby('sz_loan_account_no').agg(ever_30plus_3m = (\"30Plus_flag\",\"max\"))"
   ]
  },
  {
   "cell_type": "code",
   "execution_count": 29,
   "metadata": {},
   "outputs": [],
   "source": [
    "df_3['disb_year'] = pd.DatetimeIndex(df_3['DISBURSEMENT_DATE']).year"
   ]
  },
  {
   "cell_type": "markdown",
   "metadata": {},
   "source": [
    "## Bad rate creation for business case - 90+ in 12 MOB for final model "
   ]
  },
  {
   "cell_type": "code",
   "execution_count": 30,
   "metadata": {},
   "outputs": [],
   "source": [
    "df_xx = pd.merge(df_3,df_x.loc[:,[\"sz_loan_account_no\",\"dt_businessdate\",\"f_future_principal\"]]\n",
    "         ,how = \"left\", on = [\"sz_loan_account_no\",\"dt_businessdate\"])"
   ]
  },
  {
   "cell_type": "markdown",
   "metadata": {},
   "source": [
    "##### LMS data overview to get the loan amoutn"
   ]
  },
  {
   "cell_type": "code",
   "execution_count": 31,
   "metadata": {},
   "outputs": [],
   "source": [
    "LMS_det_all = pd.read_csv('D:/Varthana/LMS_DETAILS_11-Sep-20.csv')"
   ]
  },
  {
   "cell_type": "code",
   "execution_count": 32,
   "metadata": {},
   "outputs": [],
   "source": [
    "df_xxx = pd.merge(df_xx, LMS_det_all.loc[:,[\"LOAN_ID\",\"LOAN_AMOUNT\"]],how=\"left\", left_on = \"sz_loan_account_no\", right_on = \"LOAN_ID\")"
   ]
  },
  {
   "cell_type": "code",
   "execution_count": 33,
   "metadata": {},
   "outputs": [
    {
     "data": {
      "text/plain": [
       "(53729, 18)"
      ]
     },
     "execution_count": 33,
     "metadata": {},
     "output_type": "execute_result"
    }
   ],
   "source": [
    "df_4 = df_xxx[(df_xxx['dt_businessdate'] <= '2020-02-29') ]\n",
    "df_4.shape"
   ]
  },
  {
   "cell_type": "markdown",
   "metadata": {},
   "source": [
    "## Data for roll rate analysis\n"
   ]
  },
  {
   "cell_type": "code",
   "execution_count": 34,
   "metadata": {},
   "outputs": [],
   "source": [
    "df_2018_orig = df_xxx[df_xxx['disb_year'] == 2018]"
   ]
  },
  {
   "cell_type": "code",
   "execution_count": 35,
   "metadata": {},
   "outputs": [],
   "source": [
    "#df_2018_orig.to_csv('D:/Varthana/MoM_2018_origdata.csv')"
   ]
  },
  {
   "cell_type": "markdown",
   "metadata": {},
   "source": [
    "### perf calculation for impact analysis"
   ]
  },
  {
   "cell_type": "code",
   "execution_count": 36,
   "metadata": {},
   "outputs": [],
   "source": [
    "df_temp = df_4.sort_values(by = ['sz_loan_account_no','dt_businessdate'], ascending=[True, False])"
   ]
  },
  {
   "cell_type": "code",
   "execution_count": 37,
   "metadata": {},
   "outputs": [],
   "source": [
    "df_temp_2 = df_temp.drop_duplicates('SZ_APPLICATION_NO').reset_index()"
   ]
  },
  {
   "cell_type": "code",
   "execution_count": 38,
   "metadata": {},
   "outputs": [],
   "source": [
    "df_3_temp = df_3[df_3['dt_businessdate'] <= '2020-02-29']"
   ]
  },
  {
   "cell_type": "code",
   "execution_count": 39,
   "metadata": {},
   "outputs": [],
   "source": [
    "aggreg_12_90_2018 = df_3_temp[ (df_3_temp[\"disb_year\"] == 2018) ].groupby('sz_loan_account_no').agg(ever_90p_12m = (\"90Plus_flag\",\"max\"))\n",
    "aggreg_12_90_2018.reset_index(inplace=True)"
   ]
  },
  {
   "cell_type": "code",
   "execution_count": 40,
   "metadata": {},
   "outputs": [],
   "source": [
    "aggreg_12_60_2018 = df_3_temp[(df_3_temp[\"disb_year\"] == 2018) ].groupby('sz_loan_account_no').agg(ever_60p_12m = (\"60Plus_flag\",\"max\"))\n",
    "aggreg_12_60_2018.reset_index(inplace=True)"
   ]
  },
  {
   "cell_type": "code",
   "execution_count": 41,
   "metadata": {},
   "outputs": [],
   "source": [
    "aggreg_12_90_2018_v2 = pd.merge(aggreg_12_90_2018,df_temp_2.loc[:,[\"sz_loan_account_no\",\n",
    "                                                                 \"MOB\",\n",
    "                                                                 \"f_future_principal\",\n",
    "                                                                 \"LOAN_AMOUNT\"]],\n",
    "                                how = \"left\",\n",
    "                                on=\"sz_loan_account_no\")"
   ]
  },
  {
   "cell_type": "code",
   "execution_count": 42,
   "metadata": {},
   "outputs": [],
   "source": [
    "aggreg_12_60_2018_v2 = pd.merge(aggreg_12_60_2018,df_temp_2.loc[:,[\"sz_loan_account_no\",\n",
    "                                                                 \"MOB\",\n",
    "                                                                 \"f_future_principal\",\n",
    "                                                                 \"LOAN_AMOUNT\"]],\n",
    "                                how = \"left\",\n",
    "                                on=\"sz_loan_account_no\")"
   ]
  },
  {
   "cell_type": "code",
   "execution_count": 43,
   "metadata": {},
   "outputs": [],
   "source": [
    "def perf(MOB_perf, n_mths, flag):\n",
    "    df1 = df_xxx[(df_xxx[\"MOB\"] <=MOB_perf) & (df_xxx[\"nb_mths\"] >n_mths)]\n",
    "    df_temp = df1.sort_values(by = ['sz_loan_account_no','dt_businessdate'], ascending=[True, False])\n",
    "    df_temp_2 = df_temp.drop_duplicates('SZ_APPLICATION_NO').reset_index()  \n",
    "    aggreg_90 = df_3[(df_3[\"MOB\"] <=MOB_perf) & (df_3[\"nb_mths\"] >n_mths) ].groupby('sz_loan_account_no').agg(ever_90p = (flag,\"max\"))\n",
    "    aggreg_90.reset_index(inplace=True)\n",
    "    aggreg_90_v2 = pd.merge(aggreg_90,df_temp_2.loc[:,[\"sz_loan_account_no\",\n",
    "                                                                     \"MOB\",\n",
    "                                                                     \"f_future_principal\",\n",
    "                                                                     \"LOAN_AMOUNT\"]],\n",
    "                                    how = \"left\",\n",
    "                                    on=\"sz_loan_account_no\")\n",
    "    return aggreg_90_v2"
   ]
  },
  {
   "cell_type": "code",
   "execution_count": 44,
   "metadata": {},
   "outputs": [],
   "source": [
    "aggreg_15_90_9m_v2 = perf(15,9,\"90Plus_flag\")"
   ]
  },
  {
   "cell_type": "code",
   "execution_count": 45,
   "metadata": {},
   "outputs": [],
   "source": [
    "aggreg_18_90_9m_v2 = perf(18,9,\"90Plus_flag\")"
   ]
  },
  {
   "cell_type": "code",
   "execution_count": 46,
   "metadata": {},
   "outputs": [],
   "source": [
    "aggreg_24_90_9m_v2 = perf(24,9,\"90Plus_flag\")"
   ]
  },
  {
   "cell_type": "code",
   "execution_count": 47,
   "metadata": {},
   "outputs": [],
   "source": [
    "aggreg_12_90_9m_v2 = perf(12,9,\"90Plus_flag\")"
   ]
  },
  {
   "cell_type": "code",
   "execution_count": 48,
   "metadata": {},
   "outputs": [
    {
     "data": {
      "text/plain": [
       "0    3942\n",
       "1      46\n",
       "Name: ever_90p, dtype: int64"
      ]
     },
     "execution_count": 48,
     "metadata": {},
     "output_type": "execute_result"
    }
   ],
   "source": [
    "aggreg_12_90_9m_v2[\"ever_90p\"].value_counts()"
   ]
  },
  {
   "cell_type": "code",
   "execution_count": 49,
   "metadata": {},
   "outputs": [],
   "source": [
    "aggreg_12_90_9m_v3  = aggreg_12_90_9m_v2.rename(columns = {\"ever_90p\": \"ever_90p_12m\",\n",
    "                                                          \"MOB\":\"MOB_12m\",\n",
    "                                                          \"f_future_principal\":\"f_future_principal_12m\",\n",
    "                                                          \"LOAN_AMOUNT\":\"LOAN_AMOUNT_12m\"})\n",
    "\n",
    "aggreg_15_90_9m_v3  = aggreg_15_90_9m_v2.rename(columns = {\"ever_90p\": \"ever_90p_15m\",\n",
    "                                                          \"MOB\":\"MOB_15m\",\n",
    "                                                          \"f_future_principal\":\"f_future_principal_15m\",\n",
    "                                                          \"LOAN_AMOUNT\":\"LOAN_AMOUNT_15m\"})\n",
    "aggreg_18_90_9m_v3  = aggreg_18_90_9m_v2.rename(columns = {\"ever_90p\": \"ever_90p_18m\",\n",
    "                                                          \"MOB\":\"MOB_18m\",\n",
    "                                                          \"f_future_principal\":\"f_future_principal_18m\",\n",
    "                                                          \"LOAN_AMOUNT\":\"LOAN_AMOUNT_18m\"})\n",
    "aggreg_24_90_9m_v3  = aggreg_24_90_9m_v2.rename(columns = {\"ever_90p\": \"ever_90p_24m\",\n",
    "                                                          \"MOB\":\"MOB_24m\",\n",
    "                                                          \"f_future_principal\":\"f_future_principal_24m\",\n",
    "                                                          \"LOAN_AMOUNT\":\"LOAN_AMOUNT_24m\"})"
   ]
  },
  {
   "cell_type": "code",
   "execution_count": 50,
   "metadata": {},
   "outputs": [],
   "source": [
    "mer_list = [aggreg_12_90_9m_v3,aggreg_15_90_9m_v3,aggreg_18_90_9m_v3,aggreg_24_90_9m_v3]"
   ]
  },
  {
   "cell_type": "code",
   "execution_count": 51,
   "metadata": {},
   "outputs": [],
   "source": [
    "df_merged_perf = reduce(lambda  left,right: pd.merge(left,right,on=['sz_loan_account_no'],\n",
    "                                            how='outer'), mer_list)"
   ]
  },
  {
   "cell_type": "code",
   "execution_count": 52,
   "metadata": {
    "scrolled": true
   },
   "outputs": [],
   "source": [
    "#df_merged_perf.to_csv('/home/siddarth/LOS_data/aggreg_12151824_mob_perf_9mob_data.csv')"
   ]
  },
  {
   "cell_type": "markdown",
   "metadata": {},
   "source": [
    "### Function for getting the bad rates as required\n"
   ]
  },
  {
   "cell_type": "code",
   "execution_count": 53,
   "metadata": {},
   "outputs": [],
   "source": [
    "def badrates_ever(data, mob, dpd_flag):\n",
    "    aggreg = data[(data[\"MOB\"]<=mob) & (data[\"nb_mths\"]>mob) ].groupby('sz_loan_account_no').agg(ever_dpd = (dpd_flag,\"max\"))\n",
    "    aggreg.reset_index(inplace=True)\n",
    "#     aggreg.value_counts()\n",
    "    return aggreg\n",
    "    "
   ]
  },
  {
   "cell_type": "code",
   "execution_count": 54,
   "metadata": {},
   "outputs": [
    {
     "name": "stdout",
     "output_type": "stream",
     "text": [
      "0    4026\n",
      "1     276\n",
      "Name: ever_dpd, dtype: int64\n"
     ]
    }
   ],
   "source": [
    "print(badrates_ever(df_3,6,\"XPlus_flag\")[\"ever_dpd\"].value_counts())"
   ]
  },
  {
   "cell_type": "code",
   "execution_count": 55,
   "metadata": {},
   "outputs": [],
   "source": [
    "aggreg_30_3 = badrates_ever(df_3,3,\"30Plus_flag\")\n",
    "aggreg_60_3 = badrates_ever(df_3,3,\"60Plus_flag\")\n",
    "aggreg_90_3 = badrates_ever(df_3,3,\"90Plus_flag\")\n",
    "aggreg_X_3 = badrates_ever(df_3,3,\"XPlus_flag\")\n",
    "\n",
    "aggreg_30_6 = badrates_ever(df_3,6,\"30Plus_flag\")\n",
    "aggreg_60_6 = badrates_ever(df_3,6,\"60Plus_flag\")\n",
    "aggreg_90_6 = badrates_ever(df_3,6,\"90Plus_flag\")\n",
    "aggreg_X_6 = badrates_ever(df_3,6,\"XPlus_flag\")\n",
    "\n",
    "aggreg_30_9 = badrates_ever(df_3,9,\"30Plus_flag\")\n",
    "aggreg_60_9 = badrates_ever(df_3,9,\"60Plus_flag\")\n",
    "aggreg_90_9 = badrates_ever(df_3,9,\"90Plus_flag\")\n",
    "aggreg_X_9 = badrates_ever(df_3,9,\"XPlus_flag\")\n",
    "\n",
    "aggreg_30_12 = badrates_ever(df_3,12,\"30Plus_flag\")\n",
    "aggreg_60_12 = badrates_ever(df_3,12,\"60Plus_flag\")\n",
    "aggreg_90_12 = badrates_ever(df_3,12,\"90Plus_flag\")\n",
    "aggreg_X_12 = badrates_ever(df_3,12,\"XPlus_flag\")\n",
    "\n",
    "aggreg_30_15 = badrates_ever(df_3,15,\"30Plus_flag\")\n",
    "aggreg_60_15 = badrates_ever(df_3,15,\"60Plus_flag\")\n",
    "aggreg_90_15 = badrates_ever(df_3,15,\"90Plus_flag\")\n",
    "aggreg_X_15 = badrates_ever(df_3,15,\"XPlus_flag\")\n",
    "\n",
    "aggreg_30_18 = badrates_ever(df_3,18,\"30Plus_flag\")\n",
    "aggreg_60_18 = badrates_ever(df_3,18,\"60Plus_flag\")\n",
    "aggreg_90_18 = badrates_ever(df_3,18,\"90Plus_flag\")\n",
    "aggreg_X_18 = badrates_ever(df_3,18,\"XPlus_flag\")\n",
    "\n",
    "aggreg_30_24 = badrates_ever(df_3,24,\"30Plus_flag\")\n",
    "aggreg_60_24 = badrates_ever(df_3,24,\"60Plus_flag\")\n",
    "aggreg_90_24 = badrates_ever(df_3,24,\"90Plus_flag\")\n",
    "aggreg_X_24 = badrates_ever(df_3,24,\"XPlus_flag\")\n"
   ]
  },
  {
   "cell_type": "code",
   "execution_count": 56,
   "metadata": {},
   "outputs": [],
   "source": [
    "aggreg_30_3  = aggreg_30_3.rename(columns = {\"ever_dpd\": \"ever_dpd_30_3\"})\n",
    "aggreg_60_3  = aggreg_60_3.rename(columns = {\"ever_dpd\": \"ever_dpd_60_3\"})\n",
    "aggreg_90_3  = aggreg_90_3.rename(columns = {\"ever_dpd\": \"ever_dpd_90_3\"})\n",
    "aggreg_X_3  = aggreg_X_3.rename(columns = {\"ever_dpd\": \"ever_dpd_X_3\"})\n",
    "aggreg_30_6  = aggreg_30_6.rename(columns = {\"ever_dpd\": \"ever_dpd_30_6\"})\n",
    "aggreg_60_6  = aggreg_60_6.rename(columns = {\"ever_dpd\": \"ever_dpd_60_6\"})\n",
    "aggreg_90_6  = aggreg_90_6.rename(columns = {\"ever_dpd\": \"ever_dpd_90_6\"})\n",
    "aggreg_X_6  = aggreg_X_6.rename(columns = {\"ever_dpd\": \"ever_dpd_X_6\"})\n",
    "aggreg_30_9  = aggreg_30_9.rename(columns = {\"ever_dpd\": \"ever_dpd_30_9\"})\n",
    "aggreg_60_9  = aggreg_60_9.rename(columns = {\"ever_dpd\": \"ever_dpd_60_9\"})\n",
    "aggreg_90_9  = aggreg_90_9.rename(columns = {\"ever_dpd\": \"ever_dpd_90_9\"})\n",
    "aggreg_X_9  = aggreg_X_9.rename(columns = {\"ever_dpd\": \"ever_dpd_X_9\"})\n",
    "aggreg_30_12  = aggreg_30_12.rename(columns = {\"ever_dpd\": \"ever_dpd_30_12\"})\n",
    "aggreg_60_12  = aggreg_60_12.rename(columns = {\"ever_dpd\": \"ever_dpd_60_12\"})\n",
    "aggreg_90_12  = aggreg_90_12.rename(columns = {\"ever_dpd\": \"ever_dpd_90_12\"})\n",
    "aggreg_X_12  = aggreg_X_12.rename(columns = {\"ever_dpd\": \"ever_dpd_X_12\"})\n",
    "aggreg_30_15  = aggreg_30_15.rename(columns = {\"ever_dpd\": \"ever_dpd_30_15\"})\n",
    "aggreg_60_15  = aggreg_60_15.rename(columns = {\"ever_dpd\": \"ever_dpd_60_15\"})\n",
    "aggreg_90_15  = aggreg_90_15.rename(columns = {\"ever_dpd\": \"ever_dpd_90_15\"})\n",
    "aggreg_X_15  = aggreg_X_15.rename(columns = {\"ever_dpd\": \"ever_dpd_X_15\"})\n",
    "aggreg_30_18  = aggreg_30_18.rename(columns = {\"ever_dpd\": \"ever_dpd_30_18\"})\n",
    "aggreg_60_18  = aggreg_60_18.rename(columns = {\"ever_dpd\": \"ever_dpd_60_18\"})\n",
    "aggreg_90_18  = aggreg_90_18.rename(columns = {\"ever_dpd\": \"ever_dpd_90_18\"})\n",
    "aggreg_X_18  = aggreg_X_18.rename(columns = {\"ever_dpd\": \"ever_dpd_X_18\"})\n",
    "aggreg_30_24  = aggreg_30_24.rename(columns = {\"ever_dpd\": \"ever_dpd_30_24\"})\n",
    "aggreg_60_24  = aggreg_60_24.rename(columns = {\"ever_dpd\": \"ever_dpd_60_24\"})\n",
    "aggreg_90_24  = aggreg_90_24.rename(columns = {\"ever_dpd\": \"ever_dpd_90_24\"})\n",
    "aggreg_X_24  = aggreg_X_24.rename(columns = {\"ever_dpd\": \"ever_dpd_X_24\"})"
   ]
  },
  {
   "cell_type": "code",
   "execution_count": 57,
   "metadata": {},
   "outputs": [],
   "source": [
    "df_mer_list = [aggreg_30_3,aggreg_60_3,aggreg_90_3,aggreg_X_3,\n",
    "               aggreg_30_6,aggreg_60_6,aggreg_90_6,aggreg_X_6,\n",
    "               aggreg_30_9,aggreg_60_9,aggreg_90_9,aggreg_X_9,\n",
    "              aggreg_30_12,aggreg_60_12,aggreg_90_12,aggreg_X_12,\n",
    "               aggreg_30_15,aggreg_60_15,aggreg_90_15,aggreg_X_15,\n",
    "               aggreg_30_18,aggreg_60_18,aggreg_90_18,aggreg_X_18,\n",
    "              aggreg_30_24,aggreg_60_24,aggreg_90_24,aggreg_X_24]"
   ]
  },
  {
   "cell_type": "code",
   "execution_count": 58,
   "metadata": {},
   "outputs": [],
   "source": [
    "df_merged = reduce(lambda  left,right: pd.merge(left,right,on=['sz_loan_account_no'],\n",
    "                                            how='outer'), df_mer_list)"
   ]
  },
  {
   "cell_type": "code",
   "execution_count": 59,
   "metadata": {},
   "outputs": [
    {
     "data": {
      "text/plain": [
       "(4460, 29)"
      ]
     },
     "execution_count": 59,
     "metadata": {},
     "output_type": "execute_result"
    }
   ],
   "source": [
    "df_merged.shape"
   ]
  },
  {
   "cell_type": "code",
   "execution_count": 60,
   "metadata": {},
   "outputs": [
    {
     "data": {
      "text/plain": [
       "(3988, 29)"
      ]
     },
     "execution_count": 60,
     "metadata": {},
     "output_type": "execute_result"
    }
   ],
   "source": [
    "df_merged[df_merged['ever_dpd_30_9'].notnull()].shape"
   ]
  },
  {
   "cell_type": "code",
   "execution_count": 129,
   "metadata": {},
   "outputs": [],
   "source": [
    "df_merged.to_csv(\"D:/Varthana/all_perf.csv\")"
   ]
  },
  {
   "cell_type": "code",
   "execution_count": null,
   "metadata": {},
   "outputs": [],
   "source": []
  },
  {
   "cell_type": "code",
   "execution_count": null,
   "metadata": {},
   "outputs": [],
   "source": []
  }
 ],
 "metadata": {
  "kernelspec": {
   "display_name": "Python 3",
   "language": "python",
   "name": "python3"
  },
  "language_info": {
   "codemirror_mode": {
    "name": "ipython",
    "version": 3
   },
   "file_extension": ".py",
   "mimetype": "text/x-python",
   "name": "python",
   "nbconvert_exporter": "python",
   "pygments_lexer": "ipython3",
   "version": "3.8.3"
  }
 },
 "nbformat": 4,
 "nbformat_minor": 4
}
