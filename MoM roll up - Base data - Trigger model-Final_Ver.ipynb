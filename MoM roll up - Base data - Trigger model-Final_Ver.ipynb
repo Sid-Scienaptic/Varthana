{
 "cells": [
  {
   "cell_type": "code",
   "execution_count": 3,
   "metadata": {},
   "outputs": [],
   "source": [
    "import pandas as pd\n",
    "import numpy as np \n",
    "import datetime\n",
    "from datetime import date\n",
    "from datetime import timedelta\n",
    "from dateutil.relativedelta import relativedelta\n",
    "from pandas.tseries.offsets import MonthEnd\n",
    "from functools import reduce\n",
    "\n",
    "import warnings\n",
    "warnings.filterwarnings(\"ignore\")"
   ]
  },
  {
   "cell_type": "markdown",
   "metadata": {},
   "source": [
    "## Data constants "
   ]
  },
  {
   "cell_type": "code",
   "execution_count": 4,
   "metadata": {},
   "outputs": [],
   "source": [
    "bus_dates = ['2019-07-31',\n",
    "             '2019-09-30',\n",
    "             '2019-10-31',\n",
    "             '2019-12-31'\n",
    "#              '2019-03-31'\n",
    "            ]\n",
    "# df_mom_0_30['DT_BUSINESSDATE'].head()"
   ]
  },
  {
   "cell_type": "code",
   "execution_count": 5,
   "metadata": {},
   "outputs": [],
   "source": [
    "#### =6 means all the accounts with at least 6 MOB as of snapshot \n",
    "min_perf_AO_snapshot = 6"
   ]
  },
  {
   "cell_type": "markdown",
   "metadata": {},
   "source": [
    "### import MoM data"
   ]
  },
  {
   "cell_type": "code",
   "execution_count": 6,
   "metadata": {},
   "outputs": [],
   "source": [
    "df_mom = pd.read_csv('D:/Varthana/MOM_DATA_28-Sep-20.csv')"
   ]
  },
  {
   "cell_type": "markdown",
   "metadata": {},
   "source": [
    "##### Convert date variable to date format"
   ]
  },
  {
   "cell_type": "code",
   "execution_count": 7,
   "metadata": {},
   "outputs": [],
   "source": [
    "df_mom['DT_BUSINESSDATE'] = pd.to_datetime(df_mom['DT_BUSINESSDATE'])\n",
    "df_mom['DT_INSTALLMENTDUE'] = pd.to_datetime(df_mom['DT_INSTALLMENTDUE'])\n",
    "df_mom['DT_LAST_PAYMENT'] = pd.to_datetime(df_mom['DT_LAST_PAYMENT'])\n",
    "df_mom['DT_CREATED'] = pd.to_datetime(df_mom['DT_CREATED'])\n",
    "df_mom['DT_LAST_UPDATE'] = pd.to_datetime(df_mom['DT_LAST_UPDATE'])\n"
   ]
  },
  {
   "cell_type": "markdown",
   "metadata": {},
   "source": [
    "### Adding disb date to MoM data"
   ]
  },
  {
   "cell_type": "code",
   "execution_count": 8,
   "metadata": {},
   "outputs": [],
   "source": [
    "LMS_det_all = pd.read_csv('D:/Varthana/LMS_DETAILS_11-Sep-20.csv')"
   ]
  },
  {
   "cell_type": "code",
   "execution_count": 9,
   "metadata": {},
   "outputs": [],
   "source": [
    "LMS_det_all_1 = pd.DataFrame(LMS_det_all[['LOAN_ID',\n",
    "                                          'FIRST_DISB_DATE',\n",
    "                                          'TENOR',\n",
    "                                          'START_DATE',\n",
    "                                          'END_DATE',\n",
    "                                         'LOAN_AMOUNT']])"
   ]
  },
  {
   "cell_type": "code",
   "execution_count": 10,
   "metadata": {},
   "outputs": [],
   "source": [
    "LMS_det_all_1['FIRST_DISB_DATE'] = pd.to_datetime(LMS_det_all_1['FIRST_DISB_DATE'])\n",
    "LMS_det_all_1['START_DATE'] = pd.to_datetime(LMS_det_all_1['START_DATE'])\n",
    "LMS_det_all_1['END_DATE'] = pd.to_datetime(LMS_det_all_1['END_DATE'])"
   ]
  },
  {
   "cell_type": "code",
   "execution_count": 11,
   "metadata": {},
   "outputs": [],
   "source": [
    "df_mom_2  = pd.merge(df_mom, LMS_det_all_1,how=\"left\",left_on=\"SZ_LOAN_ACCOUNT_NO\", right_on=\"LOAN_ID\")"
   ]
  },
  {
   "cell_type": "code",
   "execution_count": 12,
   "metadata": {},
   "outputs": [
    {
     "data": {
      "text/plain": [
       "['PUR7108U',\n",
       " 'S18BLR-BLR-002142',\n",
       " 'S19NAS-NAS-007192',\n",
       " 'S20NAG-GON-013978',\n",
       " 'U18HYD-HYD-000835']"
      ]
     },
     "execution_count": 12,
     "metadata": {},
     "output_type": "execute_result"
    }
   ],
   "source": [
    "## disb date not available\n",
    "list(df_mom_2[df_mom_2['FIRST_DISB_DATE'].isnull()]['SZ_LOAN_ACCOUNT_NO'].unique())"
   ]
  },
  {
   "cell_type": "markdown",
   "metadata": {},
   "source": [
    "## creating delinq flag vars"
   ]
  },
  {
   "cell_type": "code",
   "execution_count": 13,
   "metadata": {},
   "outputs": [],
   "source": [
    "df_mom_2[\"flag_30p\"] = np.where(df_mom_2[\"I_DPD\"] >=30,1,0)\n",
    "df_mom_2[\"flag_60p\"] = np.where(df_mom_2[\"I_DPD\"] >=60,1,0)\n",
    "df_mom_2[\"flag_90p\"] = np.where(df_mom_2[\"I_DPD\"] >=90,1,0)"
   ]
  },
  {
   "cell_type": "markdown",
   "metadata": {},
   "source": [
    "### creating Days late payment var & delq vars"
   ]
  },
  {
   "cell_type": "code",
   "execution_count": 14,
   "metadata": {},
   "outputs": [],
   "source": [
    "df_mom_2['days_late_paid'] = (df_mom_2['DT_LAST_PAYMENT'] - df_mom_2['DT_INSTALLMENTDUE']).dt.days"
   ]
  },
  {
   "cell_type": "code",
   "execution_count": 15,
   "metadata": {},
   "outputs": [],
   "source": [
    "df_mom_2['late_paymt_flag'] = np.where(df_mom_2['DT_LAST_PAYMENT']> df_mom_2['DT_INSTALLMENTDUE'],1,0)"
   ]
  },
  {
   "cell_type": "markdown",
   "metadata": {},
   "source": [
    "##### Lag variables creation"
   ]
  },
  {
   "cell_type": "code",
   "execution_count": 16,
   "metadata": {},
   "outputs": [],
   "source": [
    "df_mom_2 = df_mom_2.sort_values([\"SZ_LOAN_ACCOUNT_NO\",\"DT_BUSINESSDATE\"],ascending=[True,True] )"
   ]
  },
  {
   "cell_type": "code",
   "execution_count": 17,
   "metadata": {},
   "outputs": [],
   "source": [
    "df_mom_2['late_paymt_flag_lag_1'] = df_mom_2.groupby(['SZ_LOAN_ACCOUNT_NO'])['late_paymt_flag'].shift(1)\n",
    "df_mom_2['late_paymt_flag_lag_2'] = df_mom_2.groupby(['SZ_LOAN_ACCOUNT_NO'])['late_paymt_flag'].shift(2)\n",
    "df_mom_2['late_paymt_flag_lag_3'] = df_mom_2.groupby(['SZ_LOAN_ACCOUNT_NO'])['late_paymt_flag'].shift(3)\n",
    "df_mom_2['late_paymt_flag_lag_4'] = df_mom_2.groupby(['SZ_LOAN_ACCOUNT_NO'])['late_paymt_flag'].shift(4)\n",
    "df_mom_2['late_paymt_flag_lag_5'] = df_mom_2.groupby(['SZ_LOAN_ACCOUNT_NO'])['late_paymt_flag'].shift(5)\n",
    "df_mom_2['late_paymt_flag_lag_6'] = df_mom_2.groupby(['SZ_LOAN_ACCOUNT_NO'])['late_paymt_flag'].shift(6)\n",
    "df_mom_2['late_paymt_flag_lag_7'] = df_mom_2.groupby(['SZ_LOAN_ACCOUNT_NO'])['late_paymt_flag'].shift(7)\n",
    "df_mom_2['late_paymt_flag_lag_8'] = df_mom_2.groupby(['SZ_LOAN_ACCOUNT_NO'])['late_paymt_flag'].shift(8)\n",
    "df_mom_2['late_paymt_flag_lag_9'] = df_mom_2.groupby(['SZ_LOAN_ACCOUNT_NO'])['late_paymt_flag'].shift(9)\n",
    "df_mom_2['late_paymt_flag_lag_10'] = df_mom_2.groupby(['SZ_LOAN_ACCOUNT_NO'])['late_paymt_flag'].shift(10)\n",
    "df_mom_2['late_paymt_flag_lag_11'] = df_mom_2.groupby(['SZ_LOAN_ACCOUNT_NO'])['late_paymt_flag'].shift(11)\n",
    "df_mom_2['late_paymt_flag_lag_12'] = df_mom_2.groupby(['SZ_LOAN_ACCOUNT_NO'])['late_paymt_flag'].shift(12)"
   ]
  },
  {
   "cell_type": "code",
   "execution_count": 18,
   "metadata": {},
   "outputs": [],
   "source": [
    "df_mom_2['days_late_paid_lag_1'] = df_mom_2.groupby(['SZ_LOAN_ACCOUNT_NO'])['days_late_paid'].shift(1)\n",
    "df_mom_2['days_late_paid_lag_2'] = df_mom_2.groupby(['SZ_LOAN_ACCOUNT_NO'])['days_late_paid'].shift(2)\n",
    "df_mom_2['days_late_paid_lag_3'] = df_mom_2.groupby(['SZ_LOAN_ACCOUNT_NO'])['days_late_paid'].shift(3)\n",
    "df_mom_2['days_late_paid_lag_4'] = df_mom_2.groupby(['SZ_LOAN_ACCOUNT_NO'])['days_late_paid'].shift(4)\n",
    "df_mom_2['days_late_paid_lag_5'] = df_mom_2.groupby(['SZ_LOAN_ACCOUNT_NO'])['days_late_paid'].shift(5)\n",
    "df_mom_2['days_late_paid_lag_6'] = df_mom_2.groupby(['SZ_LOAN_ACCOUNT_NO'])['days_late_paid'].shift(6)\n",
    "df_mom_2['days_late_paid_lag_7'] = df_mom_2.groupby(['SZ_LOAN_ACCOUNT_NO'])['days_late_paid'].shift(7)\n",
    "df_mom_2['days_late_paid_lag_8'] = df_mom_2.groupby(['SZ_LOAN_ACCOUNT_NO'])['days_late_paid'].shift(8)\n",
    "df_mom_2['days_late_paid_lag_9'] = df_mom_2.groupby(['SZ_LOAN_ACCOUNT_NO'])['days_late_paid'].shift(9)\n",
    "df_mom_2['days_late_paid_lag_10'] = df_mom_2.groupby(['SZ_LOAN_ACCOUNT_NO'])['days_late_paid'].shift(10)\n",
    "df_mom_2['days_late_paid_lag_11'] = df_mom_2.groupby(['SZ_LOAN_ACCOUNT_NO'])['days_late_paid'].shift(11)\n",
    "df_mom_2['days_late_paid_lag_12'] = df_mom_2.groupby(['SZ_LOAN_ACCOUNT_NO'])['days_late_paid'].shift(12)"
   ]
  },
  {
   "cell_type": "code",
   "execution_count": 19,
   "metadata": {},
   "outputs": [],
   "source": [
    "df_mom_2['xdays_flag_lag1'] = np.where((df_mom_2['days_late_paid_lag_1'] >=1) & (df_mom_2['days_late_paid_lag_1']<=29),1,0)\n",
    "df_mom_2['xdays_flag_lag2'] = np.where((df_mom_2['days_late_paid_lag_2'] >=1) & (df_mom_2['days_late_paid_lag_2']<=29),1,0)\n",
    "df_mom_2['xdays_flag_lag3'] = np.where((df_mom_2['days_late_paid_lag_3'] >=1) & (df_mom_2['days_late_paid_lag_3']<=29),1,0)\n",
    "df_mom_2['xdays_flag_lag4'] = np.where((df_mom_2['days_late_paid_lag_4'] >=1) & (df_mom_2['days_late_paid_lag_4']<=29),1,0)\n",
    "df_mom_2['xdays_flag_lag5'] = np.where((df_mom_2['days_late_paid_lag_5'] >=1) & (df_mom_2['days_late_paid_lag_5']<=29),1,0)\n",
    "df_mom_2['xdays_flag_lag6'] = np.where((df_mom_2['days_late_paid_lag_6'] >=1) & (df_mom_2['days_late_paid_lag_6']<=29),1,0)\n",
    "df_mom_2['xdays_flag_lag7'] = np.where((df_mom_2['days_late_paid_lag_7'] >=1) & (df_mom_2['days_late_paid_lag_7']<=29),1,0)\n",
    "df_mom_2['xdays_flag_lag8'] = np.where((df_mom_2['days_late_paid_lag_8'] >=1) & (df_mom_2['days_late_paid_lag_8']<=29),1,0)\n",
    "df_mom_2['xdays_flag_lag9'] = np.where((df_mom_2['days_late_paid_lag_9'] >=1) & (df_mom_2['days_late_paid_lag_9']<=29),1,0)\n",
    "df_mom_2['xdays_flag_lag10'] = np.where((df_mom_2['days_late_paid_lag_10'] >=1) & (df_mom_2['days_late_paid_lag_10']<=29),1,0)\n",
    "df_mom_2['xdays_flag_lag11'] = np.where((df_mom_2['days_late_paid_lag_11'] >=1) & (df_mom_2['days_late_paid_lag_11']<=29),1,0)\n",
    "df_mom_2['xdays_flag_lag12'] = np.where((df_mom_2['days_late_paid_lag_12'] >=1) & (df_mom_2['days_late_paid_lag_12']<=29),1,0)\n"
   ]
  },
  {
   "cell_type": "code",
   "execution_count": 20,
   "metadata": {},
   "outputs": [],
   "source": [
    "df_mom_2['dpd_lag_1'] = df_mom_2.groupby(['SZ_LOAN_ACCOUNT_NO'])['I_DPD'].shift(1)\n",
    "df_mom_2['dpd_lag_2'] = df_mom_2.groupby(['SZ_LOAN_ACCOUNT_NO'])['I_DPD'].shift(2)\n",
    "df_mom_2['dpd_lag_3'] = df_mom_2.groupby(['SZ_LOAN_ACCOUNT_NO'])['I_DPD'].shift(3)\n",
    "df_mom_2['dpd_lag_4'] = df_mom_2.groupby(['SZ_LOAN_ACCOUNT_NO'])['I_DPD'].shift(4)\n",
    "df_mom_2['dpd_lag_5'] = df_mom_2.groupby(['SZ_LOAN_ACCOUNT_NO'])['I_DPD'].shift(5)\n",
    "df_mom_2['dpd_lag_6'] = df_mom_2.groupby(['SZ_LOAN_ACCOUNT_NO'])['I_DPD'].shift(6)\n",
    "df_mom_2['dpd_lag_7'] = df_mom_2.groupby(['SZ_LOAN_ACCOUNT_NO'])['I_DPD'].shift(7)\n",
    "df_mom_2['dpd_lag_8'] = df_mom_2.groupby(['SZ_LOAN_ACCOUNT_NO'])['I_DPD'].shift(8)\n",
    "df_mom_2['dpd_lag_9'] = df_mom_2.groupby(['SZ_LOAN_ACCOUNT_NO'])['I_DPD'].shift(9)\n",
    "df_mom_2['dpd_lag_10'] = df_mom_2.groupby(['SZ_LOAN_ACCOUNT_NO'])['I_DPD'].shift(10)\n",
    "df_mom_2['dpd_lag_11'] = df_mom_2.groupby(['SZ_LOAN_ACCOUNT_NO'])['I_DPD'].shift(11)\n",
    "df_mom_2['dpd_lag_12'] = df_mom_2.groupby(['SZ_LOAN_ACCOUNT_NO'])['I_DPD'].shift(12)"
   ]
  },
  {
   "cell_type": "code",
   "execution_count": 21,
   "metadata": {},
   "outputs": [],
   "source": [
    "df_mom_2['dpd_30pflag_lag1'] = df_mom_2.groupby(['SZ_LOAN_ACCOUNT_NO'])['flag_30p'].shift(1)\n",
    "df_mom_2['dpd_30pflag_lag2'] = df_mom_2.groupby(['SZ_LOAN_ACCOUNT_NO'])['flag_30p'].shift(2)\n",
    "df_mom_2['dpd_30pflag_lag3'] = df_mom_2.groupby(['SZ_LOAN_ACCOUNT_NO'])['flag_30p'].shift(3)\n",
    "df_mom_2['dpd_30pflag_lag4'] = df_mom_2.groupby(['SZ_LOAN_ACCOUNT_NO'])['flag_30p'].shift(4)\n",
    "df_mom_2['dpd_30pflag_lag5'] = df_mom_2.groupby(['SZ_LOAN_ACCOUNT_NO'])['flag_30p'].shift(5)\n",
    "df_mom_2['dpd_30pflag_lag6'] = df_mom_2.groupby(['SZ_LOAN_ACCOUNT_NO'])['flag_30p'].shift(6)\n",
    "df_mom_2['dpd_30pflag_lag7'] = df_mom_2.groupby(['SZ_LOAN_ACCOUNT_NO'])['flag_30p'].shift(7)\n",
    "df_mom_2['dpd_30pflag_lag8'] = df_mom_2.groupby(['SZ_LOAN_ACCOUNT_NO'])['flag_30p'].shift(8)\n",
    "df_mom_2['dpd_30pflag_lag9'] = df_mom_2.groupby(['SZ_LOAN_ACCOUNT_NO'])['flag_30p'].shift(9)\n",
    "df_mom_2['dpd_30pflag_lag10'] = df_mom_2.groupby(['SZ_LOAN_ACCOUNT_NO'])['flag_30p'].shift(10)\n",
    "df_mom_2['dpd_30pflag_lag11'] = df_mom_2.groupby(['SZ_LOAN_ACCOUNT_NO'])['flag_30p'].shift(11)\n",
    "df_mom_2['dpd_30pflag_lag12'] = df_mom_2.groupby(['SZ_LOAN_ACCOUNT_NO'])['flag_30p'].shift(12)\n"
   ]
  },
  {
   "cell_type": "code",
   "execution_count": 22,
   "metadata": {},
   "outputs": [],
   "source": [
    "df_mom_2['dpd_60pflag_lag1'] = df_mom_2.groupby(['SZ_LOAN_ACCOUNT_NO'])['flag_60p'].shift(1)\n",
    "df_mom_2['dpd_60pflag_lag2'] = df_mom_2.groupby(['SZ_LOAN_ACCOUNT_NO'])['flag_60p'].shift(2)\n",
    "df_mom_2['dpd_60pflag_lag3'] = df_mom_2.groupby(['SZ_LOAN_ACCOUNT_NO'])['flag_60p'].shift(3)\n",
    "df_mom_2['dpd_60pflag_lag4'] = df_mom_2.groupby(['SZ_LOAN_ACCOUNT_NO'])['flag_60p'].shift(4)\n",
    "df_mom_2['dpd_60pflag_lag5'] = df_mom_2.groupby(['SZ_LOAN_ACCOUNT_NO'])['flag_60p'].shift(5)\n",
    "df_mom_2['dpd_60pflag_lag6'] = df_mom_2.groupby(['SZ_LOAN_ACCOUNT_NO'])['flag_60p'].shift(6)\n",
    "df_mom_2['dpd_60pflag_lag7'] = df_mom_2.groupby(['SZ_LOAN_ACCOUNT_NO'])['flag_60p'].shift(7)\n",
    "df_mom_2['dpd_60pflag_lag8'] = df_mom_2.groupby(['SZ_LOAN_ACCOUNT_NO'])['flag_60p'].shift(8)\n",
    "df_mom_2['dpd_60pflag_lag9'] = df_mom_2.groupby(['SZ_LOAN_ACCOUNT_NO'])['flag_60p'].shift(9)\n",
    "df_mom_2['dpd_60pflag_lag10'] = df_mom_2.groupby(['SZ_LOAN_ACCOUNT_NO'])['flag_60p'].shift(10)\n",
    "df_mom_2['dpd_60pflag_lag11'] = df_mom_2.groupby(['SZ_LOAN_ACCOUNT_NO'])['flag_60p'].shift(11)\n",
    "df_mom_2['dpd_60pflag_lag12'] = df_mom_2.groupby(['SZ_LOAN_ACCOUNT_NO'])['flag_60p'].shift(12)"
   ]
  },
  {
   "cell_type": "code",
   "execution_count": 23,
   "metadata": {},
   "outputs": [],
   "source": [
    "df_mom_2['dpd_90pflag_lag1'] = df_mom_2.groupby(['SZ_LOAN_ACCOUNT_NO'])['flag_90p'].shift(1)\n",
    "df_mom_2['dpd_90pflag_lag2'] = df_mom_2.groupby(['SZ_LOAN_ACCOUNT_NO'])['flag_90p'].shift(2)\n",
    "df_mom_2['dpd_90pflag_lag3'] = df_mom_2.groupby(['SZ_LOAN_ACCOUNT_NO'])['flag_90p'].shift(3)\n",
    "df_mom_2['dpd_90pflag_lag4'] = df_mom_2.groupby(['SZ_LOAN_ACCOUNT_NO'])['flag_90p'].shift(4)\n",
    "df_mom_2['dpd_90pflag_lag5'] = df_mom_2.groupby(['SZ_LOAN_ACCOUNT_NO'])['flag_90p'].shift(5)\n",
    "df_mom_2['dpd_90pflag_lag6'] = df_mom_2.groupby(['SZ_LOAN_ACCOUNT_NO'])['flag_90p'].shift(6)\n",
    "df_mom_2['dpd_90pflag_lag7'] = df_mom_2.groupby(['SZ_LOAN_ACCOUNT_NO'])['flag_90p'].shift(7)\n",
    "df_mom_2['dpd_90pflag_lag8'] = df_mom_2.groupby(['SZ_LOAN_ACCOUNT_NO'])['flag_90p'].shift(8)\n",
    "df_mom_2['dpd_90pflag_lag9'] = df_mom_2.groupby(['SZ_LOAN_ACCOUNT_NO'])['flag_90p'].shift(9)\n",
    "df_mom_2['dpd_90pflag_lag10'] = df_mom_2.groupby(['SZ_LOAN_ACCOUNT_NO'])['flag_90p'].shift(10)\n",
    "df_mom_2['dpd_90pflag_lag11'] = df_mom_2.groupby(['SZ_LOAN_ACCOUNT_NO'])['flag_90p'].shift(11)\n",
    "df_mom_2['dpd_90pflag_lag12'] = df_mom_2.groupby(['SZ_LOAN_ACCOUNT_NO'])['flag_90p'].shift(12)"
   ]
  },
  {
   "cell_type": "markdown",
   "metadata": {},
   "source": [
    "# Times xdays, 30+,60+,90+ variables"
   ]
  },
  {
   "cell_type": "markdown",
   "metadata": {},
   "source": [
    "##### Times 30+,60+,90+ in last 12mths"
   ]
  },
  {
   "cell_type": "code",
   "execution_count": 24,
   "metadata": {},
   "outputs": [],
   "source": [
    "df_mom_2['Times_30p_12m'] = df_mom_2.loc[:,[\"dpd_30pflag_lag1\",\n",
    "                                            \"dpd_30pflag_lag2\",\n",
    "                                            \"dpd_30pflag_lag3\",\n",
    "                                            \"dpd_30pflag_lag4\",\n",
    "                                            \"dpd_30pflag_lag5\",\n",
    "                                            \"dpd_30pflag_lag6\",\n",
    "                                            \"dpd_30pflag_lag7\",\n",
    "                                            \"dpd_30pflag_lag8\",\n",
    "                                            \"dpd_30pflag_lag9\",\n",
    "                                            \"dpd_30pflag_lag10\",\n",
    "                                            \"dpd_30pflag_lag11\",\n",
    "                                            \"dpd_30pflag_lag12\"\n",
    "                                            \n",
    "                                           ]].sum(axis=1)\n"
   ]
  },
  {
   "cell_type": "code",
   "execution_count": 25,
   "metadata": {},
   "outputs": [],
   "source": [
    "df_mom_2['Times_60p_12m'] = df_mom_2.loc[:,[\"dpd_60pflag_lag1\",\n",
    "                                            \"dpd_60pflag_lag2\",\n",
    "                                            \"dpd_60pflag_lag3\",\n",
    "                                            \"dpd_60pflag_lag4\",\n",
    "                                            \"dpd_60pflag_lag5\",\n",
    "                                            \"dpd_60pflag_lag6\",\n",
    "                                            \"dpd_60pflag_lag7\",\n",
    "                                            \"dpd_60pflag_lag8\",\n",
    "                                            \"dpd_60pflag_lag9\",\n",
    "                                            \"dpd_60pflag_lag10\",\n",
    "                                            \"dpd_60pflag_lag11\",\n",
    "                                            \"dpd_60pflag_lag12\"\n",
    "                                            \n",
    "                                           ]].sum(axis=1)"
   ]
  },
  {
   "cell_type": "code",
   "execution_count": 26,
   "metadata": {},
   "outputs": [],
   "source": [
    "df_mom_2['Times_90p_12m'] = df_mom_2.loc[:,[\"dpd_90pflag_lag1\",\n",
    "                                            \"dpd_90pflag_lag2\",\n",
    "                                            \"dpd_90pflag_lag3\",\n",
    "                                            \"dpd_90pflag_lag4\",\n",
    "                                            \"dpd_90pflag_lag5\",\n",
    "                                            \"dpd_90pflag_lag6\",\n",
    "                                            \"dpd_90pflag_lag7\",\n",
    "                                            \"dpd_90pflag_lag8\",\n",
    "                                            \"dpd_90pflag_lag9\",\n",
    "                                            \"dpd_90pflag_lag10\",\n",
    "                                            \"dpd_90pflag_lag11\",\n",
    "                                            \"dpd_90pflag_lag12\"\n",
    "                                            \n",
    "                                           ]].sum(axis=1)"
   ]
  },
  {
   "cell_type": "code",
   "execution_count": 27,
   "metadata": {},
   "outputs": [],
   "source": [
    "df_mom_2['Times_xdays_12m'] = df_mom_2.loc[:,['xdays_flag_lag1',\n",
    "                                              'xdays_flag_lag2',\n",
    "                                              'xdays_flag_lag3',\n",
    "                                              'xdays_flag_lag4',\n",
    "                                              'xdays_flag_lag5',\n",
    "                                              'xdays_flag_lag6',\n",
    "                                              'xdays_flag_lag7',\n",
    "                                              'xdays_flag_lag8',\n",
    "                                              'xdays_flag_lag9',\n",
    "                                              'xdays_flag_lag10',\n",
    "                                              'xdays_flag_lag11',\n",
    "                                              'xdays_flag_lag12'\n",
    "                                             ]].sum(axis=1)"
   ]
  },
  {
   "cell_type": "markdown",
   "metadata": {},
   "source": [
    "##### Times 30+,60+,90+ in last 9mths"
   ]
  },
  {
   "cell_type": "code",
   "execution_count": 28,
   "metadata": {},
   "outputs": [],
   "source": [
    "df_mom_2['Times_30p_9m'] = df_mom_2.loc[:,[\"dpd_30pflag_lag1\",\n",
    "                                            \"dpd_30pflag_lag2\",\n",
    "                                            \"dpd_30pflag_lag3\",\n",
    "                                            \"dpd_30pflag_lag4\",\n",
    "                                            \"dpd_30pflag_lag5\",\n",
    "                                            \"dpd_30pflag_lag6\",\n",
    "                                            \"dpd_30pflag_lag7\",\n",
    "                                            \"dpd_30pflag_lag8\",\n",
    "                                            \"dpd_30pflag_lag9\"\n",
    "                                            \n",
    "                                           ]].sum(axis=1)"
   ]
  },
  {
   "cell_type": "code",
   "execution_count": 29,
   "metadata": {},
   "outputs": [],
   "source": [
    "df_mom_2['Times_60p_9m'] = df_mom_2.loc[:,[\"dpd_60pflag_lag1\",\n",
    "                                            \"dpd_60pflag_lag2\",\n",
    "                                            \"dpd_60pflag_lag3\",\n",
    "                                            \"dpd_60pflag_lag4\",\n",
    "                                            \"dpd_60pflag_lag5\",\n",
    "                                            \"dpd_60pflag_lag6\",\n",
    "                                            \"dpd_60pflag_lag7\",\n",
    "                                            \"dpd_60pflag_lag8\",\n",
    "                                            \"dpd_60pflag_lag9\"\n",
    "                                            \n",
    "                                           ]].sum(axis=1)"
   ]
  },
  {
   "cell_type": "code",
   "execution_count": 30,
   "metadata": {},
   "outputs": [],
   "source": [
    "df_mom_2['Times_90p_9m'] = df_mom_2.loc[:,[\"dpd_90pflag_lag1\",\n",
    "                                            \"dpd_90pflag_lag2\",\n",
    "                                            \"dpd_90pflag_lag3\",\n",
    "                                            \"dpd_90pflag_lag4\",\n",
    "                                            \"dpd_90pflag_lag5\",\n",
    "                                            \"dpd_90pflag_lag6\",\n",
    "                                            \"dpd_90pflag_lag7\",\n",
    "                                            \"dpd_90pflag_lag8\",\n",
    "                                            \"dpd_90pflag_lag9\"\n",
    "                                           ]].sum(axis=1)"
   ]
  },
  {
   "cell_type": "code",
   "execution_count": 31,
   "metadata": {},
   "outputs": [],
   "source": [
    "df_mom_2['Times_xdays_9m'] = df_mom_2.loc[:,['xdays_flag_lag1',\n",
    "                                              'xdays_flag_lag2',\n",
    "                                              'xdays_flag_lag3',\n",
    "                                              'xdays_flag_lag4',\n",
    "                                              'xdays_flag_lag5',\n",
    "                                              'xdays_flag_lag6',\n",
    "                                              'xdays_flag_lag7',\n",
    "                                              'xdays_flag_lag8',\n",
    "                                              'xdays_flag_lag9'\n",
    "                                             ]].sum(axis=1)"
   ]
  },
  {
   "cell_type": "markdown",
   "metadata": {},
   "source": [
    "##### Times 30+,60+,90+ in last 6mths"
   ]
  },
  {
   "cell_type": "code",
   "execution_count": 32,
   "metadata": {},
   "outputs": [],
   "source": [
    "df_mom_2['Times_30p_6m'] = df_mom_2.loc[:,[\"dpd_30pflag_lag1\",\n",
    "                                            \"dpd_30pflag_lag2\",\n",
    "                                            \"dpd_30pflag_lag3\",\n",
    "                                            \"dpd_30pflag_lag4\",\n",
    "                                            \"dpd_30pflag_lag5\",\n",
    "                                            \"dpd_30pflag_lag6\"\n",
    "                                                                                       \n",
    "                                           ]].sum(axis=1)"
   ]
  },
  {
   "cell_type": "code",
   "execution_count": 33,
   "metadata": {},
   "outputs": [],
   "source": [
    "df_mom_2['Times_60p_6m'] = df_mom_2.loc[:,[\"dpd_60pflag_lag1\",\n",
    "                                            \"dpd_60pflag_lag2\",\n",
    "                                            \"dpd_60pflag_lag3\",\n",
    "                                            \"dpd_60pflag_lag4\",\n",
    "                                            \"dpd_60pflag_lag5\",\n",
    "                                            \"dpd_60pflag_lag6\"\n",
    "                                          \n",
    "                                           ]].sum(axis=1)"
   ]
  },
  {
   "cell_type": "code",
   "execution_count": 34,
   "metadata": {},
   "outputs": [],
   "source": [
    "df_mom_2['Times_90p_6m'] = df_mom_2.loc[:,[\"dpd_90pflag_lag1\",\n",
    "                                            \"dpd_90pflag_lag2\",\n",
    "                                            \"dpd_90pflag_lag3\",\n",
    "                                            \"dpd_90pflag_lag4\",\n",
    "                                            \"dpd_90pflag_lag5\",\n",
    "                                            \"dpd_90pflag_lag6\"\n",
    "                                         \n",
    "                                           ]].sum(axis=1)"
   ]
  },
  {
   "cell_type": "code",
   "execution_count": 35,
   "metadata": {},
   "outputs": [],
   "source": [
    "df_mom_2['Times_xdays_6m'] = df_mom_2.loc[:,['xdays_flag_lag1',\n",
    "                                              'xdays_flag_lag2',\n",
    "                                              'xdays_flag_lag3',\n",
    "                                              'xdays_flag_lag4',\n",
    "                                              'xdays_flag_lag5',\n",
    "                                              'xdays_flag_lag6'\n",
    "                                             ]].sum(axis=1)"
   ]
  },
  {
   "cell_type": "markdown",
   "metadata": {},
   "source": [
    "##### Times 30+,60+,90+ in last 3mths"
   ]
  },
  {
   "cell_type": "code",
   "execution_count": 36,
   "metadata": {},
   "outputs": [],
   "source": [
    "df_mom_2['Times_30p_3m'] = df_mom_2.loc[:,[\"dpd_30pflag_lag1\",\n",
    "                                            \"dpd_30pflag_lag2\",\n",
    "                                            \"dpd_30pflag_lag3\"                        \n",
    "                                           ]].sum(axis=1)"
   ]
  },
  {
   "cell_type": "code",
   "execution_count": 37,
   "metadata": {},
   "outputs": [],
   "source": [
    "df_mom_2['Times_60p_3m'] = df_mom_2.loc[:,[\"dpd_60pflag_lag1\",\n",
    "                                            \"dpd_60pflag_lag2\",\n",
    "                                            \"dpd_60pflag_lag3\"\n",
    "                                           ]].sum(axis=1)"
   ]
  },
  {
   "cell_type": "code",
   "execution_count": 38,
   "metadata": {},
   "outputs": [],
   "source": [
    "df_mom_2['Times_90p_3m'] = df_mom_2.loc[:,[\"dpd_90pflag_lag1\",\n",
    "                                            \"dpd_90pflag_lag2\",\n",
    "                                            \"dpd_90pflag_lag3\"\n",
    "                                           ]].sum(axis=1)"
   ]
  },
  {
   "cell_type": "code",
   "execution_count": 39,
   "metadata": {},
   "outputs": [],
   "source": [
    "df_mom_2['Times_xdays_3m'] = df_mom_2.loc[:,['xdays_flag_lag1',\n",
    "                                              'xdays_flag_lag2',\n",
    "                                              'xdays_flag_lag3'\n",
    "                                             ]].sum(axis=1)"
   ]
  },
  {
   "cell_type": "markdown",
   "metadata": {},
   "source": [
    "# Flag - 30p,60p,90p"
   ]
  },
  {
   "cell_type": "markdown",
   "metadata": {},
   "source": [
    "##### Flag - 30p,60p,90p in 12 mths "
   ]
  },
  {
   "cell_type": "code",
   "execution_count": 40,
   "metadata": {},
   "outputs": [],
   "source": [
    "df_mom_2['Last_12mths_30p_flag'] = np.where(df_mom_2.loc[:,['dpd_lag_1',\n",
    "                                                  'dpd_lag_2',\n",
    "                                                   'dpd_lag_3',\n",
    "                                                   'dpd_lag_4',\n",
    "                                                   'dpd_lag_5',\n",
    "                                                   'dpd_lag_6',\n",
    "                                                   'dpd_lag_7',\n",
    "                                                   'dpd_lag_8',\n",
    "                                                   'dpd_lag_9',\n",
    "                                                   'dpd_lag_10',\n",
    "                                                    'dpd_lag_11',\n",
    "                                                    'dpd_lag_12'\n",
    "                                                 ]].max(axis=1) >=30,1,0)\n",
    "\n"
   ]
  },
  {
   "cell_type": "code",
   "execution_count": 41,
   "metadata": {},
   "outputs": [],
   "source": [
    "df_mom_2['Last_12mths_60p_flag'] = np.where(df_mom_2.loc[:,['dpd_lag_1',\n",
    "                                                  'dpd_lag_2',\n",
    "                                                   'dpd_lag_3',\n",
    "                                                   'dpd_lag_4',\n",
    "                                                   'dpd_lag_5',\n",
    "                                                   'dpd_lag_6',\n",
    "                                                   'dpd_lag_7',\n",
    "                                                   'dpd_lag_8',\n",
    "                                                   'dpd_lag_9',\n",
    "                                                   'dpd_lag_10',\n",
    "                                                    'dpd_lag_11',\n",
    "                                                    'dpd_lag_12'\n",
    "                                                 ]].max(axis=1) >=60,1,0)"
   ]
  },
  {
   "cell_type": "code",
   "execution_count": 42,
   "metadata": {},
   "outputs": [],
   "source": [
    "df_mom_2['Last_12mths_90p_flag'] = np.where(df_mom_2.loc[:,['dpd_lag_1',\n",
    "                                                  'dpd_lag_2',\n",
    "                                                   'dpd_lag_3',\n",
    "                                                   'dpd_lag_4',\n",
    "                                                   'dpd_lag_5',\n",
    "                                                   'dpd_lag_6',\n",
    "                                                   'dpd_lag_7',\n",
    "                                                   'dpd_lag_8',\n",
    "                                                   'dpd_lag_9',\n",
    "                                                   'dpd_lag_10',\n",
    "                                                    'dpd_lag_11',\n",
    "                                                    'dpd_lag_12'\n",
    "                                                 ]].max(axis=1) >=90,1,0)"
   ]
  },
  {
   "cell_type": "code",
   "execution_count": 43,
   "metadata": {},
   "outputs": [],
   "source": [
    "df_mom_2['Last_12mths_xdays_flag'] = np.where(df_mom_2.loc[:,['xdays_flag_lag1',\n",
    "                                              'xdays_flag_lag2',\n",
    "                                              'xdays_flag_lag3',\n",
    "                                              'xdays_flag_lag4',\n",
    "                                              'xdays_flag_lag5',\n",
    "                                              'xdays_flag_lag6',\n",
    "                                              'xdays_flag_lag7',\n",
    "                                              'xdays_flag_lag8',\n",
    "                                              'xdays_flag_lag9',\n",
    "                                              'xdays_flag_lag10',\n",
    "                                              'xdays_flag_lag11',\n",
    "                                              'xdays_flag_lag12'\n",
    "                                             ]].max(axis=1)==1,1,0)"
   ]
  },
  {
   "cell_type": "markdown",
   "metadata": {},
   "source": [
    "##### Flag - 30p,60p,90p in 9 mths "
   ]
  },
  {
   "cell_type": "code",
   "execution_count": 44,
   "metadata": {},
   "outputs": [],
   "source": [
    "df_mom_2['Last_9mths_30p_flag'] = np.where(df_mom_2.loc[:,['dpd_lag_1',\n",
    "                                                  'dpd_lag_2',\n",
    "                                                   'dpd_lag_3',\n",
    "                                                   'dpd_lag_4',\n",
    "                                                   'dpd_lag_5',\n",
    "                                                   'dpd_lag_6',\n",
    "                                                   'dpd_lag_7',\n",
    "                                                   'dpd_lag_8',\n",
    "                                                   'dpd_lag_9'\n",
    "                                                 ]].max(axis=1) >=30,1,0)\n",
    "\n"
   ]
  },
  {
   "cell_type": "code",
   "execution_count": 45,
   "metadata": {},
   "outputs": [],
   "source": [
    "df_mom_2['Last_9mths_60p_flag'] = np.where(df_mom_2.loc[:,['dpd_lag_1',\n",
    "                                                  'dpd_lag_2',\n",
    "                                                   'dpd_lag_3',\n",
    "                                                   'dpd_lag_4',\n",
    "                                                   'dpd_lag_5',\n",
    "                                                   'dpd_lag_6',\n",
    "                                                   'dpd_lag_7',\n",
    "                                                   'dpd_lag_8',\n",
    "                                                   'dpd_lag_9'\n",
    "                                                 ]].max(axis=1) >=60,1,0)"
   ]
  },
  {
   "cell_type": "code",
   "execution_count": 46,
   "metadata": {},
   "outputs": [],
   "source": [
    "df_mom_2['Last_9mths_90p_flag'] = np.where(df_mom_2.loc[:,['dpd_lag_1',\n",
    "                                                  'dpd_lag_2',\n",
    "                                                   'dpd_lag_3',\n",
    "                                                   'dpd_lag_4',\n",
    "                                                   'dpd_lag_5',\n",
    "                                                   'dpd_lag_6',\n",
    "                                                   'dpd_lag_7',\n",
    "                                                   'dpd_lag_8',\n",
    "                                                   'dpd_lag_9'\n",
    "                                                 ]].max(axis=1) >=90,1,0)"
   ]
  },
  {
   "cell_type": "code",
   "execution_count": 47,
   "metadata": {},
   "outputs": [],
   "source": [
    "df_mom_2['Last_9mths_xdays_flag'] = np.where(df_mom_2.loc[:,['xdays_flag_lag1',\n",
    "                                              'xdays_flag_lag2',\n",
    "                                              'xdays_flag_lag3',\n",
    "                                              'xdays_flag_lag4',\n",
    "                                              'xdays_flag_lag5',\n",
    "                                              'xdays_flag_lag6',\n",
    "                                              'xdays_flag_lag7',\n",
    "                                              'xdays_flag_lag8',\n",
    "                                              'xdays_flag_lag9'\n",
    "                                             ]].max(axis=1)==1,1,0)"
   ]
  },
  {
   "cell_type": "markdown",
   "metadata": {},
   "source": [
    "##### Flag - 30p,60p,90p in 6 mths "
   ]
  },
  {
   "cell_type": "code",
   "execution_count": 48,
   "metadata": {},
   "outputs": [],
   "source": [
    "df_mom_2['Last_6mths_30p_flag'] = np.where(df_mom_2.loc[:,['dpd_lag_1',\n",
    "                                                  'dpd_lag_2',\n",
    "                                                   'dpd_lag_3',\n",
    "                                                   'dpd_lag_4',\n",
    "                                                   'dpd_lag_5',\n",
    "                                                   'dpd_lag_6'\n",
    "                                                 ]].max(axis=1) >=30,1,0)"
   ]
  },
  {
   "cell_type": "code",
   "execution_count": 49,
   "metadata": {},
   "outputs": [],
   "source": [
    "df_mom_2['Last_6mths_60p_flag'] = np.where(df_mom_2.loc[:,['dpd_lag_1',\n",
    "                                                  'dpd_lag_2',\n",
    "                                                   'dpd_lag_3',\n",
    "                                                   'dpd_lag_4',\n",
    "                                                   'dpd_lag_5',\n",
    "                                                   'dpd_lag_6'\n",
    "                                                 ]].max(axis=1) >=60,1,0)"
   ]
  },
  {
   "cell_type": "code",
   "execution_count": 50,
   "metadata": {},
   "outputs": [],
   "source": [
    "df_mom_2['Last_6mths_90p_flag'] = np.where(df_mom_2.loc[:,['dpd_lag_1',\n",
    "                                                  'dpd_lag_2',\n",
    "                                                   'dpd_lag_3',\n",
    "                                                   'dpd_lag_4',\n",
    "                                                   'dpd_lag_5',\n",
    "                                                   'dpd_lag_6'\n",
    "                                                 ]].max(axis=1) >=90,1,0)"
   ]
  },
  {
   "cell_type": "code",
   "execution_count": 51,
   "metadata": {},
   "outputs": [],
   "source": [
    "df_mom_2['Last_6mths_xdays_flag'] = np.where(df_mom_2.loc[:,['xdays_flag_lag1',\n",
    "                                              'xdays_flag_lag2',\n",
    "                                              'xdays_flag_lag3',\n",
    "                                              'xdays_flag_lag4',\n",
    "                                              'xdays_flag_lag5',\n",
    "                                              'xdays_flag_lag6'\n",
    "                                             ]].max(axis=1)==1,1,0)"
   ]
  },
  {
   "cell_type": "markdown",
   "metadata": {},
   "source": [
    "##### Flag - 30p,60p,90p in 3 mths "
   ]
  },
  {
   "cell_type": "code",
   "execution_count": 52,
   "metadata": {},
   "outputs": [],
   "source": [
    "df_mom_2['Last_3mths_30p_flag'] = np.where(df_mom_2.loc[:,['dpd_lag_1',\n",
    "                                                  'dpd_lag_2',\n",
    "                                                   'dpd_lag_3'\n",
    "                                                 ]].max(axis=1) >=30,1,0)"
   ]
  },
  {
   "cell_type": "code",
   "execution_count": 53,
   "metadata": {},
   "outputs": [],
   "source": [
    "df_mom_2['Last_3mths_60p_flag'] = np.where(df_mom_2.loc[:,['dpd_lag_1',\n",
    "                                                  'dpd_lag_2',\n",
    "                                                   'dpd_lag_3'\n",
    "                                                 ]].max(axis=1) >=60,1,0)"
   ]
  },
  {
   "cell_type": "code",
   "execution_count": 54,
   "metadata": {},
   "outputs": [],
   "source": [
    "df_mom_2['Last_3mths_90p_flag'] = np.where(df_mom_2.loc[:,['dpd_lag_1',\n",
    "                                                  'dpd_lag_2',\n",
    "                                                   'dpd_lag_3'\n",
    "                                                 ]].max(axis=1) >=90,1,0)"
   ]
  },
  {
   "cell_type": "code",
   "execution_count": 55,
   "metadata": {},
   "outputs": [],
   "source": [
    "df_mom_2['Last_3mths_xdays_flag'] = np.where(df_mom_2.loc[:,['xdays_flag_lag1',\n",
    "                                              'xdays_flag_lag2',\n",
    "                                              'xdays_flag_lag3'\n",
    "                                             ]].max(axis=1)==1,1,0)"
   ]
  },
  {
   "cell_type": "markdown",
   "metadata": {},
   "source": [
    "# Max delinq last 12mths/9mths/6mths/3mths"
   ]
  },
  {
   "cell_type": "code",
   "execution_count": 56,
   "metadata": {},
   "outputs": [],
   "source": [
    "df_mom_2['Max_dpd_Last_12m'] = df_mom_2.loc[:,['dpd_lag_1',\n",
    "                                                  'dpd_lag_2',\n",
    "                                                   'dpd_lag_3',\n",
    "                                                   'dpd_lag_4',\n",
    "                                                   'dpd_lag_5',\n",
    "                                                   'dpd_lag_6',\n",
    "                                                   'dpd_lag_7',\n",
    "                                                   'dpd_lag_8',\n",
    "                                                   'dpd_lag_9',\n",
    "                                                   'dpd_lag_10',\n",
    "                                                    'dpd_lag_11',\n",
    "                                                    'dpd_lag_12'\n",
    "                                                 ]].max(axis=1) "
   ]
  },
  {
   "cell_type": "code",
   "execution_count": 57,
   "metadata": {},
   "outputs": [],
   "source": [
    "df_mom_2['Max_dpd_Last_9m'] = df_mom_2.loc[:,['dpd_lag_1',\n",
    "                                                  'dpd_lag_2',\n",
    "                                                   'dpd_lag_3',\n",
    "                                                   'dpd_lag_4',\n",
    "                                                   'dpd_lag_5',\n",
    "                                                   'dpd_lag_6',\n",
    "                                                   'dpd_lag_7',\n",
    "                                                   'dpd_lag_8',\n",
    "                                                   'dpd_lag_9'\n",
    "                                                 ]].max(axis=1) "
   ]
  },
  {
   "cell_type": "code",
   "execution_count": 58,
   "metadata": {},
   "outputs": [],
   "source": [
    "df_mom_2['Max_dpd_Last_6m'] = df_mom_2.loc[:,['dpd_lag_1',\n",
    "                                                  'dpd_lag_2',\n",
    "                                                   'dpd_lag_3',\n",
    "                                                   'dpd_lag_4',\n",
    "                                                   'dpd_lag_5',\n",
    "                                                   'dpd_lag_6'\n",
    "                                                 ]].max(axis=1) "
   ]
  },
  {
   "cell_type": "code",
   "execution_count": 59,
   "metadata": {},
   "outputs": [],
   "source": [
    "df_mom_2['Max_dpd_Last_3m'] = df_mom_2.loc[:,['dpd_lag_1',\n",
    "                                                  'dpd_lag_2',\n",
    "                                                   'dpd_lag_3'\n",
    "                                                 ]].max(axis=1) "
   ]
  },
  {
   "cell_type": "markdown",
   "metadata": {},
   "source": [
    "# Times late payment last 12/9/6/3 mths "
   ]
  },
  {
   "cell_type": "code",
   "execution_count": 60,
   "metadata": {},
   "outputs": [],
   "source": [
    "df_mom_2['Times_late_paymt_12mths'] = df_mom_2.loc[:,['late_paymt_flag_lag_1',\n",
    "                                                  'late_paymt_flag_lag_2',\n",
    "                                                   'late_paymt_flag_lag_3',\n",
    "                                                   'late_paymt_flag_lag_4',\n",
    "                                                   'late_paymt_flag_lag_5',\n",
    "                                                   'late_paymt_flag_lag_6',\n",
    "                                                   'late_paymt_flag_lag_7',\n",
    "                                                   'late_paymt_flag_lag_8',\n",
    "                                                   'late_paymt_flag_lag_9',\n",
    "                                                   'late_paymt_flag_lag_10',\n",
    "                                                    'late_paymt_flag_lag_11',\n",
    "                                                    'late_paymt_flag_lag_12'\n",
    "                                                 ]].sum(axis=1) "
   ]
  },
  {
   "cell_type": "code",
   "execution_count": 61,
   "metadata": {},
   "outputs": [],
   "source": [
    "df_mom_2['Times_late_paymt_9mths'] = df_mom_2.loc[:,['late_paymt_flag_lag_1',\n",
    "                                                  'late_paymt_flag_lag_2',\n",
    "                                                   'late_paymt_flag_lag_3',\n",
    "                                                   'late_paymt_flag_lag_4',\n",
    "                                                   'late_paymt_flag_lag_5',\n",
    "                                                   'late_paymt_flag_lag_6',\n",
    "                                                   'late_paymt_flag_lag_7',\n",
    "                                                   'late_paymt_flag_lag_8',\n",
    "                                                   'late_paymt_flag_lag_9'\n",
    "                                                 ]].sum(axis=1) "
   ]
  },
  {
   "cell_type": "code",
   "execution_count": 62,
   "metadata": {},
   "outputs": [],
   "source": [
    "df_mom_2['Times_late_paymt_6mths'] = df_mom_2.loc[:,['late_paymt_flag_lag_1',\n",
    "                                                  'late_paymt_flag_lag_2',\n",
    "                                                   'late_paymt_flag_lag_3',\n",
    "                                                   'late_paymt_flag_lag_4',\n",
    "                                                   'late_paymt_flag_lag_5',\n",
    "                                                   'late_paymt_flag_lag_6'\n",
    "                                                   ]].sum(axis=1) "
   ]
  },
  {
   "cell_type": "code",
   "execution_count": 63,
   "metadata": {},
   "outputs": [],
   "source": [
    "df_mom_2['Times_late_paymt_3mths'] = df_mom_2.loc[:,['late_paymt_flag_lag_1',\n",
    "                                                  'late_paymt_flag_lag_2',\n",
    "                                                   'late_paymt_flag_lag_3'\n",
    "                                                   ]].sum(axis=1) "
   ]
  },
  {
   "cell_type": "markdown",
   "metadata": {},
   "source": [
    "### Tenor and balance related variables and ratios\n"
   ]
  },
  {
   "cell_type": "code",
   "execution_count": 64,
   "metadata": {},
   "outputs": [],
   "source": [
    "## keeping the negative values also if any\n",
    "df_mom_2['remaining_tenor'] = round(((df_mom_2[\"END_DATE\"] - df_mom_2[\"DT_BUSINESSDATE\"])/np.timedelta64(1, 'M')))"
   ]
  },
  {
   "cell_type": "code",
   "execution_count": 65,
   "metadata": {},
   "outputs": [],
   "source": [
    "df_mom_2['paid_down_bal_ratio'] = 1 - (df_mom_2['F_FUTURE_PRINCIPAL']/df_mom_2['LOAN_AMOUNT'])"
   ]
  },
  {
   "cell_type": "code",
   "execution_count": 66,
   "metadata": {},
   "outputs": [],
   "source": [
    "df_mom_2['tenor_completed'] =  round(((df_mom_2[\"DT_BUSINESSDATE\"] - df_mom_2[\"START_DATE\"])/np.timedelta64(1, 'M')))"
   ]
  },
  {
   "cell_type": "code",
   "execution_count": 67,
   "metadata": {},
   "outputs": [],
   "source": [
    "df_mom_2['paymnts_made'] = df_mom_2['tenor_completed'] - df_mom_2[\"I_NO_OF_OVERDUE_EMI\"]"
   ]
  },
  {
   "cell_type": "markdown",
   "metadata": {},
   "source": [
    "#### create MOB variables\n"
   ]
  },
  {
   "cell_type": "code",
   "execution_count": 68,
   "metadata": {},
   "outputs": [],
   "source": [
    "df_mom_2[\"MOB\"] =  round(((df_mom_2[\"DT_BUSINESSDATE\"] - df_mom_2[\"FIRST_DISB_DATE\"])/np.timedelta64(1, 'M')))"
   ]
  },
  {
   "cell_type": "markdown",
   "metadata": {},
   "source": [
    "#### Delq bucket creation"
   ]
  },
  {
   "cell_type": "code",
   "execution_count": 69,
   "metadata": {},
   "outputs": [],
   "source": [
    "df_mom_2['DEL_BUCKET'] = np.NaN\n",
    "\n",
    "df_mom_2.loc[df_mom_2['I_DPD'] == 0, 'DEL_BUCKET'] = '1.Current'\n",
    "df_mom_2.loc[(df_mom_2['I_DPD'] >=1) & (df_mom_2['I_DPD'] <=29) , 'DEL_BUCKET'] = '2.[1-29]'\n",
    "df_mom_2.loc[(df_mom_2['I_DPD'] >=30) & (df_mom_2['I_DPD'] <=59) , 'DEL_BUCKET'] = '3.[30-59]'\n",
    "df_mom_2.loc[(df_mom_2['I_DPD'] >=60) & (df_mom_2['I_DPD'] <=89) , 'DEL_BUCKET'] = '4.[60-89]'\n",
    "df_mom_2.loc[(df_mom_2['I_DPD'] >=90)  , 'DEL_BUCKET'] = '5.[90+)'"
   ]
  },
  {
   "cell_type": "code",
   "execution_count": 70,
   "metadata": {
    "scrolled": true
   },
   "outputs": [
    {
     "data": {
      "text/plain": [
       "1.Current    133408\n",
       "5.[90+)        6126\n",
       "4.[60-89]      5664\n",
       "2.[1-29]       4979\n",
       "3.[30-59]      3394\n",
       "Name: DEL_BUCKET, dtype: int64"
      ]
     },
     "execution_count": 70,
     "metadata": {},
     "output_type": "execute_result"
    }
   ],
   "source": [
    "df_mom_2['DEL_BUCKET'].value_counts()"
   ]
  },
  {
   "cell_type": "markdown",
   "metadata": {},
   "source": [
    "#### Filter and retain only current (DPD=0) for snapshots"
   ]
  },
  {
   "cell_type": "code",
   "execution_count": 71,
   "metadata": {},
   "outputs": [],
   "source": [
    "df_mom_0_30 = df_mom_2[(df_mom_2['DEL_BUCKET'] == '1.Current')]"
   ]
  },
  {
   "cell_type": "markdown",
   "metadata": {},
   "source": [
    "### Filter for only accounts with 6 MOB or more as of snapshot "
   ]
  },
  {
   "cell_type": "code",
   "execution_count": 72,
   "metadata": {},
   "outputs": [],
   "source": [
    "df_mom_6MOB = df_mom_0_30[(df_mom_0_30[\"MOB\"] >=min_perf_AO_snapshot) & (df_mom_0_30[\"MOB\"].notnull())]"
   ]
  },
  {
   "cell_type": "markdown",
   "metadata": {},
   "source": [
    "#### Retain only Required Snapshots for analysis"
   ]
  },
  {
   "cell_type": "code",
   "execution_count": 73,
   "metadata": {},
   "outputs": [],
   "source": [
    "df_mom_4_snaps = df_mom_6MOB[df_mom_6MOB['DT_BUSINESSDATE'].isin(bus_dates)]"
   ]
  },
  {
   "cell_type": "code",
   "execution_count": 74,
   "metadata": {},
   "outputs": [
    {
     "data": {
      "text/plain": [
       "2019-12-31    3600\n",
       "2019-09-30    3497\n",
       "2019-10-31    3398\n",
       "2019-07-31    3121\n",
       "Name: DT_BUSINESSDATE, dtype: int64"
      ]
     },
     "execution_count": 74,
     "metadata": {},
     "output_type": "execute_result"
    }
   ],
   "source": [
    "df_mom_4_snaps['DT_BUSINESSDATE'].value_counts()"
   ]
  },
  {
   "cell_type": "markdown",
   "metadata": {},
   "source": [
    "# Time since last delinquency "
   ]
  },
  {
   "cell_type": "code",
   "execution_count": 75,
   "metadata": {},
   "outputs": [],
   "source": [
    "df_temp_ss = df_mom_4_snaps.loc[:,[\"SZ_LOAN_ACCOUNT_NO\",\"DT_BUSINESSDATE\"]]"
   ]
  },
  {
   "cell_type": "code",
   "execution_count": 76,
   "metadata": {},
   "outputs": [],
   "source": [
    "df_temp_ss = df_temp_ss.rename(columns = {\"DT_BUSINESSDATE\":\"Snapshot_dt\"})"
   ]
  },
  {
   "cell_type": "code",
   "execution_count": 77,
   "metadata": {},
   "outputs": [],
   "source": [
    "df_mom_temp = df_mom_2.loc[:,[\"SZ_LOAN_ACCOUNT_NO\",\"DT_BUSINESSDATE\",\"I_DPD\",\"flag_30p\",\"flag_60p\",\"flag_90p\"]]"
   ]
  },
  {
   "cell_type": "code",
   "execution_count": 78,
   "metadata": {},
   "outputs": [],
   "source": [
    "df_ss_mom_1 = pd.merge(df_temp_ss,df_mom_temp,how = \"left\",on=\"SZ_LOAN_ACCOUNT_NO\")"
   ]
  },
  {
   "cell_type": "code",
   "execution_count": 79,
   "metadata": {},
   "outputs": [],
   "source": [
    "df_ss_mom_2 = df_ss_mom_1[df_ss_mom_1[\"DT_BUSINESSDATE\"]<df_ss_mom_1[\"Snapshot_dt\"]]"
   ]
  },
  {
   "cell_type": "code",
   "execution_count": 80,
   "metadata": {},
   "outputs": [],
   "source": [
    "df_ss_mom_2[\"Mths_since_delq_30p\"] = np.where(df_ss_mom_2[\"flag_30p\"]==1,\n",
    "                                         round(((df_ss_mom_2[\"Snapshot_dt\"] - df_ss_mom_2[\"DT_BUSINESSDATE\"])/np.timedelta64(1, 'M'))),np.nan)\n",
    "df_ss_mom_2[\"Mths_since_delq_60p\"] = np.where(df_ss_mom_2[\"flag_60p\"]==1,\n",
    "                                         round(((df_ss_mom_2[\"Snapshot_dt\"] - df_ss_mom_2[\"DT_BUSINESSDATE\"])/np.timedelta64(1, 'M'))),np.nan)\n",
    "df_ss_mom_2[\"Mths_since_delq_90p\"] = np.where(df_ss_mom_2[\"flag_90p\"]==1,\n",
    "                                         round(((df_ss_mom_2[\"Snapshot_dt\"] - df_ss_mom_2[\"DT_BUSINESSDATE\"])/np.timedelta64(1, 'M'))),np.nan)"
   ]
  },
  {
   "cell_type": "code",
   "execution_count": 81,
   "metadata": {},
   "outputs": [],
   "source": [
    "Mths_since_delq_30p = df_ss_mom_2.groupby(['SZ_LOAN_ACCOUNT_NO','Snapshot_dt']).agg(mths_since_30p = (\"Mths_since_delq_30p\",\"min\"))\n",
    "Mths_since_delq_60p = df_ss_mom_2.groupby(['SZ_LOAN_ACCOUNT_NO','Snapshot_dt']).agg(mths_since_60p = (\"Mths_since_delq_60p\",\"min\"))\n",
    "Mths_since_delq_90p = df_ss_mom_2.groupby(['SZ_LOAN_ACCOUNT_NO','Snapshot_dt']).agg(mths_since_90p = (\"Mths_since_delq_90p\",\"min\"))"
   ]
  },
  {
   "cell_type": "code",
   "execution_count": 82,
   "metadata": {},
   "outputs": [],
   "source": [
    "Mths_since_delq_30p.reset_index(inplace=True)\n",
    "Mths_since_delq_60p.reset_index(inplace=True)\n",
    "Mths_since_delq_90p.reset_index(inplace=True)"
   ]
  },
  {
   "cell_type": "code",
   "execution_count": 83,
   "metadata": {},
   "outputs": [],
   "source": [
    "since_delq_ds = [Mths_since_delq_30p,Mths_since_delq_60p,Mths_since_delq_90p]"
   ]
  },
  {
   "cell_type": "code",
   "execution_count": 84,
   "metadata": {},
   "outputs": [],
   "source": [
    "since_delq_ds_all = reduce(lambda  left,right: pd.merge(left,right,on=['SZ_LOAN_ACCOUNT_NO','Snapshot_dt'],\n",
    "                                            how='outer'), since_delq_ds)"
   ]
  },
  {
   "cell_type": "markdown",
   "metadata": {},
   "source": [
    "### Bounce data addition"
   ]
  },
  {
   "cell_type": "code",
   "execution_count": 85,
   "metadata": {},
   "outputs": [],
   "source": [
    "bounce_data = pd.read_excel('D://Varthana/Bounce_data.xlsx')"
   ]
  },
  {
   "cell_type": "code",
   "execution_count": 86,
   "metadata": {},
   "outputs": [],
   "source": [
    "dwb_col = bounce_data.columns.str.replace('\\s+', '_') "
   ]
  },
  {
   "cell_type": "code",
   "execution_count": 87,
   "metadata": {},
   "outputs": [],
   "source": [
    "bounce_data.columns = dwb_col"
   ]
  },
  {
   "cell_type": "code",
   "execution_count": 88,
   "metadata": {},
   "outputs": [],
   "source": [
    "bounce_data['Date'] = pd.to_datetime(bounce_data['month'])"
   ]
  },
  {
   "cell_type": "code",
   "execution_count": 89,
   "metadata": {},
   "outputs": [],
   "source": [
    "bounce_data['Date_2'] = bounce_data['Date'].dt.to_period('M').dt.to_timestamp('M')"
   ]
  },
  {
   "cell_type": "code",
   "execution_count": 90,
   "metadata": {},
   "outputs": [],
   "source": [
    "bounce_data['bounce_flag'] = np.where(bounce_data['Status'] == 'Payment Failure',1,0)"
   ]
  },
  {
   "cell_type": "code",
   "execution_count": 91,
   "metadata": {
    "scrolled": true
   },
   "outputs": [
    {
     "data": {
      "text/plain": [
       "0    0.763492\n",
       "1    0.236508\n",
       "Name: bounce_flag, dtype: float64"
      ]
     },
     "execution_count": 91,
     "metadata": {},
     "output_type": "execute_result"
    }
   ],
   "source": [
    "bounce_data['bounce_flag'].value_counts()/bounce_data['bounce_flag'].count()"
   ]
  },
  {
   "cell_type": "code",
   "execution_count": 92,
   "metadata": {},
   "outputs": [],
   "source": [
    "bounce_data = bounce_data.sort_values([\"Contract_Code\",\"Date_2\"],ascending=[True,True] )"
   ]
  },
  {
   "cell_type": "code",
   "execution_count": 93,
   "metadata": {},
   "outputs": [],
   "source": [
    "bounce_data['bounce_flag_lag_1'] = bounce_data.groupby(['Contract_Code'])['bounce_flag'].shift(1)\n",
    "bounce_data['bounce_flag_lag_2'] = bounce_data.groupby(['Contract_Code'])['bounce_flag'].shift(2)\n",
    "bounce_data['bounce_flag_lag_3'] = bounce_data.groupby(['Contract_Code'])['bounce_flag'].shift(3)\n",
    "bounce_data['bounce_flag_lag_4'] = bounce_data.groupby(['Contract_Code'])['bounce_flag'].shift(4)\n",
    "bounce_data['bounce_flag_lag_5'] = bounce_data.groupby(['Contract_Code'])['bounce_flag'].shift(5)\n",
    "bounce_data['bounce_flag_lag_6'] = bounce_data.groupby(['Contract_Code'])['bounce_flag'].shift(6)\n",
    "bounce_data['bounce_flag_lag_7'] = bounce_data.groupby(['Contract_Code'])['bounce_flag'].shift(7)\n",
    "bounce_data['bounce_flag_lag_8'] = bounce_data.groupby(['Contract_Code'])['bounce_flag'].shift(8)\n",
    "bounce_data['bounce_flag_lag_9'] = bounce_data.groupby(['Contract_Code'])['bounce_flag'].shift(9)\n",
    "bounce_data['bounce_flag_lag_10'] = bounce_data.groupby(['Contract_Code'])['bounce_flag'].shift(10)\n",
    "bounce_data['bounce_flag_lag_11'] = bounce_data.groupby(['Contract_Code'])['bounce_flag'].shift(11)\n",
    "bounce_data['bounce_flag_lag_12'] = bounce_data.groupby(['Contract_Code'])['bounce_flag'].shift(12)"
   ]
  },
  {
   "cell_type": "code",
   "execution_count": 94,
   "metadata": {},
   "outputs": [],
   "source": [
    "bounce_data_2 = pd.merge(bounce_data,LMS_det_all_1,left_on=['Contract_Code'],\n",
    "                         right_on=['LOAN_ID'],how='left',)"
   ]
  },
  {
   "cell_type": "code",
   "execution_count": 95,
   "metadata": {},
   "outputs": [],
   "source": [
    "bounce_data_3 = bounce_data_2.drop(columns = ['Branch_Name',\n",
    "                                             'School_Name',\n",
    "                                             'Status',\n",
    "                                             'month',\n",
    "                                             'Date',\n",
    "                                              'TENOR',\n",
    "                                              'END_DATE',\n",
    "                                              'LOAN_AMOUNT'\n",
    "                                             ],axis=1)"
   ]
  },
  {
   "cell_type": "code",
   "execution_count": 96,
   "metadata": {},
   "outputs": [],
   "source": [
    "bounce_data_3['Num_bounce_L3M'] = bounce_data_3.loc[:,['bounce_flag_lag_1',\n",
    "                                                       'bounce_flag_lag_2',\n",
    "                                                       'bounce_flag_lag_3']].sum(axis=1)"
   ]
  },
  {
   "cell_type": "code",
   "execution_count": 97,
   "metadata": {},
   "outputs": [],
   "source": [
    "bounce_data_3['Num_bounce_L6M'] = bounce_data_3.loc[:,['bounce_flag_lag_1',\n",
    "                                                       'bounce_flag_lag_2',\n",
    "                                                       'bounce_flag_lag_3',\n",
    "                                                       'bounce_flag_lag_4',\n",
    "                                                       'bounce_flag_lag_5',\n",
    "                                                       'bounce_flag_lag_6']].sum(axis=1)"
   ]
  },
  {
   "cell_type": "code",
   "execution_count": 98,
   "metadata": {},
   "outputs": [],
   "source": [
    "bounce_data_3['Num_bounce_L9M'] = bounce_data_3.loc[:,['bounce_flag_lag_1',\n",
    "                                                        'bounce_flag_lag_2',\n",
    "                                                        'bounce_flag_lag_3',\n",
    "                                                        'bounce_flag_lag_4',\n",
    "                                                        'bounce_flag_lag_5',\n",
    "                                                        'bounce_flag_lag_6',\n",
    "                                                        'bounce_flag_lag_7',\n",
    "                                                        'bounce_flag_lag_8',\n",
    "                                                        'bounce_flag_lag_9']].sum(axis=1)"
   ]
  },
  {
   "cell_type": "code",
   "execution_count": 99,
   "metadata": {},
   "outputs": [],
   "source": [
    "bounce_data_3['Num_bounce_L12M'] = bounce_data_3.loc[:,['bounce_flag_lag_1',\n",
    "                                                       'bounce_flag_lag_2',\n",
    "                                                       'bounce_flag_lag_3',\n",
    "                                                       'bounce_flag_lag_4',\n",
    "                                                       'bounce_flag_lag_5',\n",
    "                                                       'bounce_flag_lag_6',\n",
    "                                                       'bounce_flag_lag_7',\n",
    "                                                       'bounce_flag_lag_8',\n",
    "                                                       'bounce_flag_lag_9',\n",
    "                                                       'bounce_flag_lag_10',\n",
    "                                                       'bounce_flag_lag_11',\n",
    "                                                       'bounce_flag_lag_12'\n",
    "                                                       ]].sum(axis=1)"
   ]
  },
  {
   "cell_type": "code",
   "execution_count": 100,
   "metadata": {},
   "outputs": [],
   "source": [
    "bounce_data_3 = bounce_data_3.sort_values([\"Contract_Code\",\"Date_2\"],ascending=[True,True] )"
   ]
  },
  {
   "cell_type": "code",
   "execution_count": 101,
   "metadata": {},
   "outputs": [],
   "source": [
    "bounce_data_3['Total_bounces'] = bounce_data_3.groupby(['Contract_Code'])['bounce_flag'].apply(lambda x: x.cumsum())"
   ]
  },
  {
   "cell_type": "code",
   "execution_count": 102,
   "metadata": {},
   "outputs": [],
   "source": [
    "bounce_data_3['MOB'] = round(((bounce_data_3[\"Date_2\"] - bounce_data_3[\"FIRST_DISB_DATE\"])/np.timedelta64(1, 'M')))"
   ]
  },
  {
   "cell_type": "code",
   "execution_count": 103,
   "metadata": {},
   "outputs": [],
   "source": [
    "bounce_data_3['perc_bounces'] = bounce_data_3['Total_bounces']/bounce_data_3['MOB']"
   ]
  },
  {
   "cell_type": "code",
   "execution_count": 104,
   "metadata": {},
   "outputs": [],
   "source": [
    "final_bounce_dat = pd.DataFrame(bounce_data_3[['Contract_Code',\n",
    "                                'Date_2',\n",
    "                                'Num_bounce_L3M',\n",
    "                                'Num_bounce_L6M',\n",
    "                                'Num_bounce_L9M',\n",
    "                                'Num_bounce_L12M',\n",
    "                                'Total_bounces',\n",
    "                                 'perc_bounces'\n",
    "                                ]])"
   ]
  },
  {
   "cell_type": "code",
   "execution_count": 105,
   "metadata": {},
   "outputs": [],
   "source": [
    "final_bounce_dat = final_bounce_dat.rename(columns = {\"Contract_Code\":\"SZ_LOAN_ACCOUNT_NO\",\n",
    "                                                     \"Date_2\":\"DT_BUSINESSDATE\"})"
   ]
  },
  {
   "cell_type": "markdown",
   "metadata": {},
   "source": [
    "#### Base accounts Aggregation"
   ]
  },
  {
   "cell_type": "code",
   "execution_count": 106,
   "metadata": {},
   "outputs": [],
   "source": [
    "df_mom_4_snaps_2 = pd.merge(df_mom_4_snaps,since_delq_ds_all, \n",
    "                            left_on = ['SZ_LOAN_ACCOUNT_NO','DT_BUSINESSDATE'],\n",
    "                            right_on = ['SZ_LOAN_ACCOUNT_NO','Snapshot_dt'], how=\"left\")"
   ]
  },
  {
   "cell_type": "code",
   "execution_count": 107,
   "metadata": {},
   "outputs": [],
   "source": [
    "df_mom_4_snaps_3  = pd.merge(df_mom_4_snaps_2,final_bounce_dat,\n",
    "                            on = ['SZ_LOAN_ACCOUNT_NO','DT_BUSINESSDATE'],\n",
    "                            how=\"left\")"
   ]
  },
  {
   "cell_type": "markdown",
   "metadata": {},
   "source": [
    "### Acq - time independent variables additions"
   ]
  },
  {
   "cell_type": "code",
   "execution_count": 108,
   "metadata": {},
   "outputs": [],
   "source": [
    "schl_det = pd.read_csv(\"D://Varthana/school_details_updated.csv\", low_memory =  False)"
   ]
  },
  {
   "cell_type": "code",
   "execution_count": 109,
   "metadata": {},
   "outputs": [],
   "source": [
    "schl_det['SCH_BLD_OWN_FLAG'] = np.where(schl_det['SCH_BUILDING'] == 'OWNED',1,0)"
   ]
  },
  {
   "cell_type": "code",
   "execution_count": 110,
   "metadata": {},
   "outputs": [],
   "source": [
    "schl_det_1 =  schl_det.loc[:,['SZ_APPLICATION_NO','SZ_LOCALITY','SCH_BLD_OWN_FLAG']]"
   ]
  },
  {
   "cell_type": "code",
   "execution_count": 111,
   "metadata": {},
   "outputs": [],
   "source": [
    "schl_det_1.rename(columns = {'SZ_APPLICATION_NO':'SZ_LOAN_ACCOUNT_NO',\n",
    "                             'SZ_LOCALITY':'school_locality'}, inplace =  True)"
   ]
  },
  {
   "cell_type": "code",
   "execution_count": 112,
   "metadata": {},
   "outputs": [],
   "source": [
    "collat_det = pd.read_csv(\"D://Varthana/COLLATERAL_DETAILS_07-Sep-20.csv\", low_memory =  False)"
   ]
  },
  {
   "cell_type": "code",
   "execution_count": 113,
   "metadata": {},
   "outputs": [],
   "source": [
    "collat_det_1 = collat_det.loc[:,['SZ_APPLICATION_NO','TYPE']]"
   ]
  },
  {
   "cell_type": "code",
   "execution_count": 114,
   "metadata": {},
   "outputs": [],
   "source": [
    "collat_det_1.rename(columns = {'SZ_APPLICATION_NO':'SZ_LOAN_ACCOUNT_NO',\n",
    "                                'TYPE':'collat_type'}, inplace=True)"
   ]
  },
  {
   "cell_type": "code",
   "execution_count": 115,
   "metadata": {},
   "outputs": [],
   "source": [
    "collat_det_1['LAND']= np.where(collat_det_1['collat_type'] == 'L', 1,0)\n",
    "collat_det_1['BUILDING']= np.where(collat_det_1['collat_type'] == 'B', 1,0)"
   ]
  },
  {
   "cell_type": "code",
   "execution_count": 116,
   "metadata": {},
   "outputs": [],
   "source": [
    "collat_det_2 = collat_det_1.groupby(['SZ_LOAN_ACCOUNT_NO']).agg(num_land =  (\"LAND\",\"sum\"),\n",
    "                                                              num_build = (\"BUILDING\",\"sum\")).reset_index()\n"
   ]
  },
  {
   "cell_type": "code",
   "execution_count": 117,
   "metadata": {},
   "outputs": [],
   "source": [
    "collat_det_2['land_flag'] = np.where(collat_det_2['num_land'] >=1,1,0)\n",
    "collat_det_2['building_flag'] = np.where(collat_det_2['num_build'] >=1,1,0)\n",
    "collat_det_2['both_L_B_flag'] = np.where((collat_det_2['num_build'] >=1) & (collat_det_2['num_land'] >=1),1,0)"
   ]
  },
  {
   "cell_type": "code",
   "execution_count": 118,
   "metadata": {},
   "outputs": [],
   "source": [
    "df_mom_4_snaps_4 = pd.merge(df_mom_4_snaps_3,schl_det_1, on='SZ_LOAN_ACCOUNT_NO', how='left')"
   ]
  },
  {
   "cell_type": "code",
   "execution_count": 119,
   "metadata": {},
   "outputs": [],
   "source": [
    "df_mom_4_snaps_5 = pd.merge(df_mom_4_snaps_4,collat_det_2, on='SZ_LOAN_ACCOUNT_NO', how='left')"
   ]
  },
  {
   "cell_type": "markdown",
   "metadata": {},
   "source": [
    "### LTV Calculation"
   ]
  },
  {
   "cell_type": "code",
   "execution_count": 120,
   "metadata": {},
   "outputs": [],
   "source": [
    "Loan_det = pd.read_csv(\"D://Varthana/LOS_LOAN_DETAILS_07-Sep-20.csv\", low_memory =  False)"
   ]
  },
  {
   "cell_type": "code",
   "execution_count": 121,
   "metadata": {},
   "outputs": [],
   "source": [
    "Loan_det.rename(columns = {\"APPLICATION_NO\":\"SZ_LOAN_ACCOUNT_NO\"},inplace =  True)"
   ]
  },
  {
   "cell_type": "code",
   "execution_count": 122,
   "metadata": {},
   "outputs": [],
   "source": [
    "df_mom_4_snaps_6 = pd.merge(df_mom_4_snaps_5,Loan_det.loc[:,['SZ_LOAN_ACCOUNT_NO','TOTAL_COLLATERAL_VALUE']],\n",
    "                           how = \"left\", on = \"SZ_LOAN_ACCOUNT_NO\")"
   ]
  },
  {
   "cell_type": "code",
   "execution_count": 123,
   "metadata": {},
   "outputs": [],
   "source": [
    "df_mom_4_snaps_6[\"LTV\"] = df_mom_4_snaps_6[\"LOAN_AMOUNT\"]/df_mom_4_snaps_6[\"TOTAL_COLLATERAL_VALUE\"]"
   ]
  },
  {
   "cell_type": "markdown",
   "metadata": {},
   "source": [
    "## Bad flag addition - x days ever in N3M"
   ]
  },
  {
   "cell_type": "code",
   "execution_count": 124,
   "metadata": {},
   "outputs": [],
   "source": [
    "x_days_ever_N3M = pd.read_csv('D://Varthana/xdays_ever_N3M_dv_trigMod.csv')"
   ]
  },
  {
   "cell_type": "code",
   "execution_count": 125,
   "metadata": {},
   "outputs": [],
   "source": [
    "x_days_ever_N3M['Snapshot_dt'] = pd.to_datetime(x_days_ever_N3M['Snapshot_dt'])"
   ]
  },
  {
   "cell_type": "code",
   "execution_count": 126,
   "metadata": {},
   "outputs": [],
   "source": [
    "### these accounts dont have performance post the corresponding snapshot.. \n",
    "# i.e., Snapshot is the last business data available in the MoM data \n",
    "\n",
    "diff_list = np.setdiff1d(list(df_mom_4_snaps_6['SZ_LOAN_ACCOUNT_NO'][df_mom_4_snaps_6['Snapshot_dt']=='2019-09-30']),\n",
    "                         list(x_days_ever_N3M['SZ_LOAN_ACCOUNT_NO'][(x_days_ever_N3M['MOB']>=6)&\n",
    "                            (x_days_ever_N3M['DEL_BUCKET']=='1.Current')&\n",
    "                           (x_days_ever_N3M['Snapshot_dt']=='2019-09-30')]))"
   ]
  },
  {
   "cell_type": "markdown",
   "metadata": {},
   "source": [
    "###### Filtering only accounts with >=6MOB and current accounts from Perforamnce data to Inner join"
   ]
  },
  {
   "cell_type": "code",
   "execution_count": 127,
   "metadata": {},
   "outputs": [],
   "source": [
    "x_days_ever_N3M_2 = x_days_ever_N3M[(x_days_ever_N3M['MOB']>=6)&(x_days_ever_N3M['DEL_BUCKET']=='1.Current')]"
   ]
  },
  {
   "cell_type": "code",
   "execution_count": 128,
   "metadata": {},
   "outputs": [],
   "source": [
    "df_mom_w_perf = pd.merge(df_mom_4_snaps_6, x_days_ever_N3M_2.loc[:,[\"SZ_LOAN_ACCOUNT_NO\",\"Snapshot_dt\",\"xdays_ever_3m\"]],\n",
    "                         how='inner', on = ['SZ_LOAN_ACCOUNT_NO','Snapshot_dt'])"
   ]
  },
  {
   "cell_type": "code",
   "execution_count": 129,
   "metadata": {},
   "outputs": [
    {
     "data": {
      "text/plain": [
       "2019-12-31    3533\n",
       "2019-09-30    3408\n",
       "2019-10-31    3322\n",
       "2019-07-31    3056\n",
       "Name: Snapshot_dt, dtype: int64"
      ]
     },
     "execution_count": 129,
     "metadata": {},
     "output_type": "execute_result"
    }
   ],
   "source": [
    "df_mom_w_perf['Snapshot_dt'].value_counts()"
   ]
  },
  {
   "cell_type": "code",
   "execution_count": 130,
   "metadata": {},
   "outputs": [
    {
     "data": {
      "text/plain": [
       "0    0.93498\n",
       "1    0.06502\n",
       "Name: xdays_ever_3m, dtype: float64"
      ]
     },
     "execution_count": 130,
     "metadata": {},
     "output_type": "execute_result"
    }
   ],
   "source": [
    "df_mom_w_perf['xdays_ever_3m'].value_counts()/df_mom_w_perf['xdays_ever_3m'].count()"
   ]
  },
  {
   "cell_type": "markdown",
   "metadata": {},
   "source": [
    "## Key creation with LAN & Date "
   ]
  },
  {
   "cell_type": "code",
   "execution_count": 131,
   "metadata": {},
   "outputs": [],
   "source": [
    "df_mom_w_perf['Appl_datekey'] = df_mom_w_perf[\"SZ_LOAN_ACCOUNT_NO\"].str.cat(df_mom_w_perf[\"Snapshot_dt\"].astype(str), sep=\"_\")"
   ]
  },
  {
   "cell_type": "markdown",
   "metadata": {},
   "source": [
    "## Retain only required variables\n"
   ]
  },
  {
   "cell_type": "code",
   "execution_count": 132,
   "metadata": {},
   "outputs": [],
   "source": [
    "df_mom_w_perf_pick = pd.DataFrame(df_mom_w_perf[['SZ_LOAN_ACCOUNT_NO',\n",
    "'Appl_datekey',\n",
    "'Snapshot_dt',\n",
    "'MOB',\n",
    "'DEL_BUCKET',\n",
    "'I_NO_OF_PAID_EMI',\n",
    "'I_NO_OF_OVERDUE_EMI',\n",
    "'I_NO_OF_UNPAID_EMI',\n",
    "'TENOR',\n",
    "'LOAN_AMOUNT',\n",
    "'days_late_paid',\n",
    "'late_paymt_flag',\n",
    "'Times_30p_12m',\n",
    "'Times_60p_12m',\n",
    "'Times_90p_12m',\n",
    "'Times_xdays_12m',\n",
    "'Times_30p_9m',\n",
    "'Times_60p_9m',\n",
    "'Times_90p_9m',\n",
    "'Times_xdays_9m',\n",
    "'Times_30p_6m',\n",
    "'Times_60p_6m',\n",
    "'Times_90p_6m',\n",
    "'Times_xdays_6m',\n",
    "'Times_30p_3m',\n",
    "'Times_60p_3m',\n",
    "'Times_90p_3m',\n",
    "'Times_xdays_3m',\n",
    "'Last_12mths_30p_flag',\n",
    "'Last_12mths_60p_flag',\n",
    "'Last_12mths_90p_flag',\n",
    "'Last_12mths_xdays_flag',\n",
    "'Last_9mths_30p_flag',\n",
    "'Last_9mths_60p_flag',\n",
    "'Last_9mths_90p_flag',\n",
    "'Last_9mths_xdays_flag',\n",
    "'Last_6mths_30p_flag',\n",
    "'Last_6mths_60p_flag',\n",
    "'Last_6mths_90p_flag',\n",
    "'Last_6mths_xdays_flag',\n",
    "'Last_3mths_30p_flag',\n",
    "'Last_3mths_60p_flag',\n",
    "'Last_3mths_90p_flag',\n",
    "'Last_3mths_xdays_flag',\n",
    "'Max_dpd_Last_12m',\n",
    "'Max_dpd_Last_9m',\n",
    "'Max_dpd_Last_6m',\n",
    "'Max_dpd_Last_3m',\n",
    "'Times_late_paymt_12mths',\n",
    "'Times_late_paymt_9mths',\n",
    "'Times_late_paymt_6mths',\n",
    "'Times_late_paymt_3mths',\n",
    "'remaining_tenor',\n",
    "'paid_down_bal_ratio',\n",
    "'tenor_completed',\n",
    "'paymnts_made',\n",
    "'mths_since_30p',\n",
    "'mths_since_60p',\n",
    "'mths_since_90p',\n",
    "'Num_bounce_L3M',\n",
    "'Num_bounce_L6M',\n",
    "'Num_bounce_L9M',\n",
    "'Num_bounce_L12M',\n",
    "'Total_bounces',\n",
    "'perc_bounces',\n",
    "'school_locality',\n",
    "'SCH_BLD_OWN_FLAG',\n",
    "'num_land',\n",
    "'num_build',\n",
    "'land_flag',\n",
    "'building_flag',\n",
    "'both_L_B_flag',\n",
    "'LTV',\n",
    "'xdays_ever_3m']]\n",
    ")\n"
   ]
  },
  {
   "cell_type": "code",
   "execution_count": 133,
   "metadata": {},
   "outputs": [
    {
     "data": {
      "text/html": [
       "<div>\n",
       "<style scoped>\n",
       "    .dataframe tbody tr th:only-of-type {\n",
       "        vertical-align: middle;\n",
       "    }\n",
       "\n",
       "    .dataframe tbody tr th {\n",
       "        vertical-align: top;\n",
       "    }\n",
       "\n",
       "    .dataframe thead th {\n",
       "        text-align: right;\n",
       "    }\n",
       "</style>\n",
       "<table border=\"1\" class=\"dataframe\">\n",
       "  <thead>\n",
       "    <tr style=\"text-align: right;\">\n",
       "      <th></th>\n",
       "      <th>SZ_LOAN_ACCOUNT_NO</th>\n",
       "      <th>days_late_paid</th>\n",
       "    </tr>\n",
       "  </thead>\n",
       "  <tbody>\n",
       "    <tr>\n",
       "      <th>680</th>\n",
       "      <td>BLR07989U</td>\n",
       "      <td>-30.0</td>\n",
       "    </tr>\n",
       "    <tr>\n",
       "      <th>681</th>\n",
       "      <td>BLR07989U</td>\n",
       "      <td>-27.0</td>\n",
       "    </tr>\n",
       "    <tr>\n",
       "      <th>682</th>\n",
       "      <td>BLR07989U</td>\n",
       "      <td>-27.0</td>\n",
       "    </tr>\n",
       "    <tr>\n",
       "      <th>683</th>\n",
       "      <td>BLR07989U</td>\n",
       "      <td>-61.0</td>\n",
       "    </tr>\n",
       "    <tr>\n",
       "      <th>2857</th>\n",
       "      <td>JAI2090S</td>\n",
       "      <td>-676.0</td>\n",
       "    </tr>\n",
       "    <tr>\n",
       "      <th>2858</th>\n",
       "      <td>JAI2090S</td>\n",
       "      <td>-738.0</td>\n",
       "    </tr>\n",
       "    <tr>\n",
       "      <th>2859</th>\n",
       "      <td>JAI2090S</td>\n",
       "      <td>-768.0</td>\n",
       "    </tr>\n",
       "    <tr>\n",
       "      <th>2860</th>\n",
       "      <td>JAI2090S</td>\n",
       "      <td>-829.0</td>\n",
       "    </tr>\n",
       "  </tbody>\n",
       "</table>\n",
       "</div>"
      ],
      "text/plain": [
       "     SZ_LOAN_ACCOUNT_NO  days_late_paid\n",
       "680           BLR07989U           -30.0\n",
       "681           BLR07989U           -27.0\n",
       "682           BLR07989U           -27.0\n",
       "683           BLR07989U           -61.0\n",
       "2857           JAI2090S          -676.0\n",
       "2858           JAI2090S          -738.0\n",
       "2859           JAI2090S          -768.0\n",
       "2860           JAI2090S          -829.0"
      ]
     },
     "execution_count": 133,
     "metadata": {},
     "output_type": "execute_result"
    }
   ],
   "source": [
    "df_mom_w_perf_pick[df_mom_w_perf_pick['days_late_paid']<0].loc[:,[\"SZ_LOAN_ACCOUNT_NO\",\"days_late_paid\"]]"
   ]
  },
  {
   "cell_type": "markdown",
   "metadata": {},
   "source": [
    "### Model ready internal data "
   ]
  },
  {
   "cell_type": "code",
   "execution_count": 134,
   "metadata": {},
   "outputs": [
    {
     "data": {
      "text/plain": [
       "2019-12-31    3533\n",
       "2019-09-30    3408\n",
       "2019-10-31    3322\n",
       "2019-07-31    3056\n",
       "Name: Snapshot_dt, dtype: int64"
      ]
     },
     "execution_count": 134,
     "metadata": {},
     "output_type": "execute_result"
    }
   ],
   "source": [
    "df_mom_w_perf_pick['Snapshot_dt'].value_counts()"
   ]
  },
  {
   "cell_type": "code",
   "execution_count": 135,
   "metadata": {},
   "outputs": [],
   "source": [
    "df_mom_w_perf_jul_oct_dec19 = df_mom_w_perf_pick[(df_mom_w_perf_pick['Snapshot_dt']=='2019-07-31') |\n",
    "                                            (df_mom_w_perf_pick['Snapshot_dt']=='2019-10-31') |\n",
    "                                            (df_mom_w_perf_pick['Snapshot_dt']=='2019-12-31')]"
   ]
  },
  {
   "cell_type": "markdown",
   "metadata": {},
   "source": [
    "###### Imputing nans & inf with spl values "
   ]
  },
  {
   "cell_type": "code",
   "execution_count": 136,
   "metadata": {},
   "outputs": [],
   "source": [
    "df_mom_w_perf_jul_oct_dec19.fillna(-99999, inplace=True)\n",
    "df_mom_w_perf_jul_oct_dec19.replace(np.inf, -99999, inplace=True)"
   ]
  },
  {
   "cell_type": "markdown",
   "metadata": {},
   "source": [
    "##### internal data export "
   ]
  },
  {
   "cell_type": "code",
   "execution_count": 137,
   "metadata": {
    "scrolled": true
   },
   "outputs": [],
   "source": [
    "#df_mom_w_perf_jul_oct_dec19[(df_mom_w_perf_pick['Snapshot_dt']=='2019-07-31') |\n",
    "#                        (df_mom_w_perf_pick['Snapshot_dt']=='2019-10-31') ].drop(['SZ_LOAN_ACCOUNT_NO','Snapshot_dt','DEL_BUCKET'],axis=1).to_csv('/home/siddarth/LMS_data/Input_CSV/internal_data_jul_oct19.csv',index=False)"
   ]
  },
  {
   "cell_type": "markdown",
   "metadata": {},
   "source": [
    "### Split the data for buruea merge "
   ]
  },
  {
   "cell_type": "code",
   "execution_count": 138,
   "metadata": {},
   "outputs": [],
   "source": [
    "df_mom_w_perf_jul19 = df_mom_w_perf_jul_oct_dec19[df_mom_w_perf_jul_oct_dec19['Snapshot_dt']=='2019-07-31']"
   ]
  },
  {
   "cell_type": "code",
   "execution_count": 139,
   "metadata": {},
   "outputs": [],
   "source": [
    "df_mom_w_perf_oct19 = df_mom_w_perf_jul_oct_dec19[df_mom_w_perf_jul_oct_dec19['Snapshot_dt']=='2019-10-31']"
   ]
  },
  {
   "cell_type": "code",
   "execution_count": 140,
   "metadata": {},
   "outputs": [],
   "source": [
    "df_mom_w_perf_dec19 = df_mom_w_perf_jul_oct_dec19[df_mom_w_perf_jul_oct_dec19['Snapshot_dt']=='2019-12-31']"
   ]
  },
  {
   "cell_type": "code",
   "execution_count": 141,
   "metadata": {},
   "outputs": [
    {
     "data": {
      "text/plain": [
       "((3533, 74), (3322, 74), (3056, 74))"
      ]
     },
     "execution_count": 141,
     "metadata": {},
     "output_type": "execute_result"
    }
   ],
   "source": [
    "df_mom_w_perf_dec19.shape, df_mom_w_perf_oct19.shape,df_mom_w_perf_jul19.shape"
   ]
  },
  {
   "cell_type": "code",
   "execution_count": 142,
   "metadata": {},
   "outputs": [],
   "source": [
    "df_mom_w_perf_jul19.to_csv('D://Varthana/internal_data_jul19.csv',index=False)\n",
    "df_mom_w_perf_oct19.to_csv('D://Varthana/internal_data_oct19.csv',index=False)\n",
    "df_mom_w_perf_dec19.to_csv('D://Varthana/internal_data_dec19.csv',index=False)"
   ]
  },
  {
   "cell_type": "markdown",
   "metadata": {},
   "source": [
    "### Bureau roll up"
   ]
  },
  {
   "cell_type": "code",
   "execution_count": 143,
   "metadata": {},
   "outputs": [],
   "source": [
    "from datetime import datetime\n",
    "import time\n",
    "import datetime\n",
    "import dateutil.relativedelta"
   ]
  },
  {
   "cell_type": "code",
   "execution_count": 144,
   "metadata": {},
   "outputs": [],
   "source": [
    "bur_q1=pd.read_csv('D:\\Varthana\\Raw Scrub data/Raw Scrub data - Q1.csv')\n",
    "bur_q2=pd.read_csv('D:\\Varthana\\Raw Scrub data/Raw Scrub data - Q2.csv')\n",
    "bur_q3=pd.read_csv('D:\\Varthana\\Raw Scrub data/Raw Scrub data - Q3.csv')\n",
    "# print(df.shape)"
   ]
  },
  {
   "cell_type": "code",
   "execution_count": 145,
   "metadata": {},
   "outputs": [],
   "source": [
    "def bur_rollup(df):\n",
    "    df['MemberReference_Orig'] = df['MemberReference']\n",
    "    df['MemberReference'] = df['MemberReference'].str.replace(r'-XAC', '')\n",
    "    ## Imputing Payment history\n",
    "    df[['Paymt_hst_01', 'Paymt_hst_02','Paymt_hst_03','Paymt_hst_04','Paymt_hst_05','Paymt_hst_06','Paymt_hst_07','Paymt_hst_08','Paymt_hst_09','Paymt_hst_10','Paymt_hst_11','Paymt_hst_12','Paymt_hst_13','Paymt_hst_14','Paymt_hst_15','Paymt_hst_16','Paymt_hst_17','Paymt_hst_18','Paymt_hst_19','Paymt_hst_20','Paymt_hst_21','Paymt_hst_22','Paymt_hst_23','Paymt_hst_24','Paymt_hst_25','Paymt_hst_26','Paymt_hst_27','Paymt_hst_28','Paymt_hst_29','Paymt_hst_30','Paymt_hst_31','Paymt_hst_32','Paymt_hst_33','Paymt_hst_34','Paymt_hst_35','Paymt_hst_36']] = df[['Paymt_hst_01', 'Paymt_hst_02','Paymt_hst_03','Paymt_hst_04','Paymt_hst_05','Paymt_hst_06','Paymt_hst_07','Paymt_hst_08','Paymt_hst_09','Paymt_hst_10','Paymt_hst_11','Paymt_hst_12','Paymt_hst_13','Paymt_hst_14','Paymt_hst_15','Paymt_hst_16','Paymt_hst_17','Paymt_hst_18','Paymt_hst_19','Paymt_hst_20','Paymt_hst_21','Paymt_hst_22','Paymt_hst_23','Paymt_hst_24','Paymt_hst_25','Paymt_hst_26','Paymt_hst_27','Paymt_hst_28','Paymt_hst_29','Paymt_hst_30','Paymt_hst_31','Paymt_hst_32','Paymt_hst_33','Paymt_hst_34','Paymt_hst_35','Paymt_hst_36']].replace('XXX', 0)\n",
    "    df[['Paymt_hst_01', 'Paymt_hst_02','Paymt_hst_03','Paymt_hst_04','Paymt_hst_05','Paymt_hst_06','Paymt_hst_07','Paymt_hst_08','Paymt_hst_09','Paymt_hst_10','Paymt_hst_11','Paymt_hst_12','Paymt_hst_13','Paymt_hst_14','Paymt_hst_15','Paymt_hst_16','Paymt_hst_17','Paymt_hst_18','Paymt_hst_19','Paymt_hst_20','Paymt_hst_21','Paymt_hst_22','Paymt_hst_23','Paymt_hst_24','Paymt_hst_25','Paymt_hst_26','Paymt_hst_27','Paymt_hst_28','Paymt_hst_29','Paymt_hst_30','Paymt_hst_31','Paymt_hst_32','Paymt_hst_33','Paymt_hst_34','Paymt_hst_35','Paymt_hst_36']] = df[['Paymt_hst_01', 'Paymt_hst_02','Paymt_hst_03','Paymt_hst_04','Paymt_hst_05','Paymt_hst_06','Paymt_hst_07','Paymt_hst_08','Paymt_hst_09','Paymt_hst_10','Paymt_hst_11','Paymt_hst_12','Paymt_hst_13','Paymt_hst_14','Paymt_hst_15','Paymt_hst_16','Paymt_hst_17','Paymt_hst_18','Paymt_hst_19','Paymt_hst_20','Paymt_hst_21','Paymt_hst_22','Paymt_hst_23','Paymt_hst_24','Paymt_hst_25','Paymt_hst_26','Paymt_hst_27','Paymt_hst_28','Paymt_hst_29','Paymt_hst_30','Paymt_hst_31','Paymt_hst_32','Paymt_hst_33','Paymt_hst_34','Paymt_hst_35','Paymt_hst_36']].replace('STD', 1)\n",
    "    df[['Paymt_hst_01', 'Paymt_hst_02','Paymt_hst_03','Paymt_hst_04','Paymt_hst_05','Paymt_hst_06','Paymt_hst_07','Paymt_hst_08','Paymt_hst_09','Paymt_hst_10','Paymt_hst_11','Paymt_hst_12','Paymt_hst_13','Paymt_hst_14','Paymt_hst_15','Paymt_hst_16','Paymt_hst_17','Paymt_hst_18','Paymt_hst_19','Paymt_hst_20','Paymt_hst_21','Paymt_hst_22','Paymt_hst_23','Paymt_hst_24','Paymt_hst_25','Paymt_hst_26','Paymt_hst_27','Paymt_hst_28','Paymt_hst_29','Paymt_hst_30','Paymt_hst_31','Paymt_hst_32','Paymt_hst_33','Paymt_hst_34','Paymt_hst_35','Paymt_hst_36']] = df[['Paymt_hst_01', 'Paymt_hst_02','Paymt_hst_03','Paymt_hst_04','Paymt_hst_05','Paymt_hst_06','Paymt_hst_07','Paymt_hst_08','Paymt_hst_09','Paymt_hst_10','Paymt_hst_11','Paymt_hst_12','Paymt_hst_13','Paymt_hst_14','Paymt_hst_15','Paymt_hst_16','Paymt_hst_17','Paymt_hst_18','Paymt_hst_19','Paymt_hst_20','Paymt_hst_21','Paymt_hst_22','Paymt_hst_23','Paymt_hst_24','Paymt_hst_25','Paymt_hst_26','Paymt_hst_27','Paymt_hst_28','Paymt_hst_29','Paymt_hst_30','Paymt_hst_31','Paymt_hst_32','Paymt_hst_33','Paymt_hst_34','Paymt_hst_35','Paymt_hst_36']].replace('SMA', 1)\n",
    "    df[['Paymt_hst_01', 'Paymt_hst_02','Paymt_hst_03','Paymt_hst_04','Paymt_hst_05','Paymt_hst_06','Paymt_hst_07','Paymt_hst_08','Paymt_hst_09','Paymt_hst_10','Paymt_hst_11','Paymt_hst_12','Paymt_hst_13','Paymt_hst_14','Paymt_hst_15','Paymt_hst_16','Paymt_hst_17','Paymt_hst_18','Paymt_hst_19','Paymt_hst_20','Paymt_hst_21','Paymt_hst_22','Paymt_hst_23','Paymt_hst_24','Paymt_hst_25','Paymt_hst_26','Paymt_hst_27','Paymt_hst_28','Paymt_hst_29','Paymt_hst_30','Paymt_hst_31','Paymt_hst_32','Paymt_hst_33','Paymt_hst_34','Paymt_hst_35','Paymt_hst_36']] = df[['Paymt_hst_01', 'Paymt_hst_02','Paymt_hst_03','Paymt_hst_04','Paymt_hst_05','Paymt_hst_06','Paymt_hst_07','Paymt_hst_08','Paymt_hst_09','Paymt_hst_10','Paymt_hst_11','Paymt_hst_12','Paymt_hst_13','Paymt_hst_14','Paymt_hst_15','Paymt_hst_16','Paymt_hst_17','Paymt_hst_18','Paymt_hst_19','Paymt_hst_20','Paymt_hst_21','Paymt_hst_22','Paymt_hst_23','Paymt_hst_24','Paymt_hst_25','Paymt_hst_26','Paymt_hst_27','Paymt_hst_28','Paymt_hst_29','Paymt_hst_30','Paymt_hst_31','Paymt_hst_32','Paymt_hst_33','Paymt_hst_34','Paymt_hst_35','Paymt_hst_36']].replace('SUB', 90)\n",
    "    df[['Paymt_hst_01', 'Paymt_hst_02','Paymt_hst_03','Paymt_hst_04','Paymt_hst_05','Paymt_hst_06','Paymt_hst_07','Paymt_hst_08','Paymt_hst_09','Paymt_hst_10','Paymt_hst_11','Paymt_hst_12','Paymt_hst_13','Paymt_hst_14','Paymt_hst_15','Paymt_hst_16','Paymt_hst_17','Paymt_hst_18','Paymt_hst_19','Paymt_hst_20','Paymt_hst_21','Paymt_hst_22','Paymt_hst_23','Paymt_hst_24','Paymt_hst_25','Paymt_hst_26','Paymt_hst_27','Paymt_hst_28','Paymt_hst_29','Paymt_hst_30','Paymt_hst_31','Paymt_hst_32','Paymt_hst_33','Paymt_hst_34','Paymt_hst_35','Paymt_hst_36']] = df[['Paymt_hst_01', 'Paymt_hst_02','Paymt_hst_03','Paymt_hst_04','Paymt_hst_05','Paymt_hst_06','Paymt_hst_07','Paymt_hst_08','Paymt_hst_09','Paymt_hst_10','Paymt_hst_11','Paymt_hst_12','Paymt_hst_13','Paymt_hst_14','Paymt_hst_15','Paymt_hst_16','Paymt_hst_17','Paymt_hst_18','Paymt_hst_19','Paymt_hst_20','Paymt_hst_21','Paymt_hst_22','Paymt_hst_23','Paymt_hst_24','Paymt_hst_25','Paymt_hst_26','Paymt_hst_27','Paymt_hst_28','Paymt_hst_29','Paymt_hst_30','Paymt_hst_31','Paymt_hst_32','Paymt_hst_33','Paymt_hst_34','Paymt_hst_35','Paymt_hst_36']].replace('DBT', 90)\n",
    "    df[['Paymt_hst_01', 'Paymt_hst_02','Paymt_hst_03','Paymt_hst_04','Paymt_hst_05','Paymt_hst_06','Paymt_hst_07','Paymt_hst_08','Paymt_hst_09','Paymt_hst_10','Paymt_hst_11','Paymt_hst_12','Paymt_hst_13','Paymt_hst_14','Paymt_hst_15','Paymt_hst_16','Paymt_hst_17','Paymt_hst_18','Paymt_hst_19','Paymt_hst_20','Paymt_hst_21','Paymt_hst_22','Paymt_hst_23','Paymt_hst_24','Paymt_hst_25','Paymt_hst_26','Paymt_hst_27','Paymt_hst_28','Paymt_hst_29','Paymt_hst_30','Paymt_hst_31','Paymt_hst_32','Paymt_hst_33','Paymt_hst_34','Paymt_hst_35','Paymt_hst_36']] = df[['Paymt_hst_01', 'Paymt_hst_02','Paymt_hst_03','Paymt_hst_04','Paymt_hst_05','Paymt_hst_06','Paymt_hst_07','Paymt_hst_08','Paymt_hst_09','Paymt_hst_10','Paymt_hst_11','Paymt_hst_12','Paymt_hst_13','Paymt_hst_14','Paymt_hst_15','Paymt_hst_16','Paymt_hst_17','Paymt_hst_18','Paymt_hst_19','Paymt_hst_20','Paymt_hst_21','Paymt_hst_22','Paymt_hst_23','Paymt_hst_24','Paymt_hst_25','Paymt_hst_26','Paymt_hst_27','Paymt_hst_28','Paymt_hst_29','Paymt_hst_30','Paymt_hst_31','Paymt_hst_32','Paymt_hst_33','Paymt_hst_34','Paymt_hst_35','Paymt_hst_36']].replace('LSS', 90)\n",
    "    df[['Paymt_hst_01', 'Paymt_hst_02','Paymt_hst_03','Paymt_hst_04','Paymt_hst_05','Paymt_hst_06','Paymt_hst_07','Paymt_hst_08','Paymt_hst_09','Paymt_hst_10','Paymt_hst_11','Paymt_hst_12','Paymt_hst_13','Paymt_hst_14','Paymt_hst_15','Paymt_hst_16','Paymt_hst_17','Paymt_hst_18','Paymt_hst_19','Paymt_hst_20','Paymt_hst_21','Paymt_hst_22','Paymt_hst_23','Paymt_hst_24','Paymt_hst_25','Paymt_hst_26','Paymt_hst_27','Paymt_hst_28','Paymt_hst_29','Paymt_hst_30','Paymt_hst_31','Paymt_hst_32','Paymt_hst_33','Paymt_hst_34','Paymt_hst_35','Paymt_hst_36']] = df[['Paymt_hst_01', 'Paymt_hst_02','Paymt_hst_03','Paymt_hst_04','Paymt_hst_05','Paymt_hst_06','Paymt_hst_07','Paymt_hst_08','Paymt_hst_09','Paymt_hst_10','Paymt_hst_11','Paymt_hst_12','Paymt_hst_13','Paymt_hst_14','Paymt_hst_15','Paymt_hst_16','Paymt_hst_17','Paymt_hst_18','Paymt_hst_19','Paymt_hst_20','Paymt_hst_21','Paymt_hst_22','Paymt_hst_23','Paymt_hst_24','Paymt_hst_25','Paymt_hst_26','Paymt_hst_27','Paymt_hst_28','Paymt_hst_29','Paymt_hst_30','Paymt_hst_31','Paymt_hst_32','Paymt_hst_33','Paymt_hst_34','Paymt_hst_35','Paymt_hst_36']].replace('   ', 0)\n",
    "    \n",
    "    cols = ['Paymt_hst_01', 'Paymt_hst_02','Paymt_hst_03','Paymt_hst_04','Paymt_hst_05','Paymt_hst_06','Paymt_hst_07','Paymt_hst_08','Paymt_hst_09','Paymt_hst_10','Paymt_hst_11','Paymt_hst_12','Paymt_hst_13','Paymt_hst_14','Paymt_hst_15','Paymt_hst_16','Paymt_hst_17','Paymt_hst_18','Paymt_hst_19','Paymt_hst_20','Paymt_hst_21','Paymt_hst_22','Paymt_hst_23','Paymt_hst_24','Paymt_hst_25','Paymt_hst_26','Paymt_hst_27','Paymt_hst_28','Paymt_hst_29','Paymt_hst_30','Paymt_hst_31','Paymt_hst_32','Paymt_hst_33','Paymt_hst_34','Paymt_hst_35','Paymt_hst_36']\n",
    "    df[cols] = df[cols].astype(int)\n",
    "    \n",
    "    ## Times xp in 3/6/9/12 mths\n",
    "    df['num_times_Xp_L3M'] = np.where(((df['Paymt_hst_01']>=1) & (df['Paymt_hst_01']<=29))|((df['Paymt_hst_02']>=1) & (df['Paymt_hst_02']<=29))|((df['Paymt_hst_03']>=1) &(df['Paymt_hst_03']<=29)),(df['Paymt_hst_01']<=29,df['Paymt_hst_02']<=29,df['Paymt_hst_03']<=29),0).sum(axis=0)\n",
    "    df['num_times_Xp_L6M'] = np.where(((df['Paymt_hst_01']>=1) & (df['Paymt_hst_01']<=29))|((df['Paymt_hst_02']>=1) & (df['Paymt_hst_02']<=29))|((df['Paymt_hst_03']>=1) &(df['Paymt_hst_03']<=29))|((df['Paymt_hst_04']>=1) & (df['Paymt_hst_04']<=29))|((df['Paymt_hst_05']>=1) & (df['Paymt_hst_05']<=29))|((df['Paymt_hst_06']>=1) &(df['Paymt_hst_06']<=29)),(df['Paymt_hst_01']<=29,df['Paymt_hst_02']<=29,df['Paymt_hst_03']<=29,df['Paymt_hst_04']<=29,df['Paymt_hst_05']<=29,df['Paymt_hst_06']<=29),0).sum(axis=0)\n",
    "    df['num_times_Xp_L9M'] = np.where(((df['Paymt_hst_01']>=1) & (df['Paymt_hst_01']<=29))|((df['Paymt_hst_02']>=1) & (df['Paymt_hst_02']<=29))|((df['Paymt_hst_03']>=1) &(df['Paymt_hst_03']<=29))|((df['Paymt_hst_04']>=1) & (df['Paymt_hst_04']<=29))|((df['Paymt_hst_05']>=1) & (df['Paymt_hst_05']<=29))|((df['Paymt_hst_06']>=1) &(df['Paymt_hst_06']<=29))|((df['Paymt_hst_07']>=1) & (df['Paymt_hst_07']<=29))|((df['Paymt_hst_08']>=1) & (df['Paymt_hst_08']<=29))|((df['Paymt_hst_09']>=1) &(df['Paymt_hst_09']<=29)),(df['Paymt_hst_01']<=29,df['Paymt_hst_02']<=29,df['Paymt_hst_03']<=29,df['Paymt_hst_04']<=29,df['Paymt_hst_05']<=29,df['Paymt_hst_06']<=29,df['Paymt_hst_07']<=29,df['Paymt_hst_08']<=29,df['Paymt_hst_09']<=29),0).sum(axis=0)\n",
    "    df['num_times_Xp_L12M'] = np.where(((df['Paymt_hst_01']>=1) & (df['Paymt_hst_01']<=29))|((df['Paymt_hst_02']>=1) & (df['Paymt_hst_02']<=29))|((df['Paymt_hst_03']>=1) &(df['Paymt_hst_03']<=29))|((df['Paymt_hst_04']>=1) & (df['Paymt_hst_04']<=29))|((df['Paymt_hst_05']>=1) & (df['Paymt_hst_05']<=29))|((df['Paymt_hst_06']>=1) &(df['Paymt_hst_06']<=29))|((df['Paymt_hst_07']>=1) & (df['Paymt_hst_07']<=29))|((df['Paymt_hst_08']>=1) & (df['Paymt_hst_08']<=29))|((df['Paymt_hst_09']>=1) &(df['Paymt_hst_09']<=29))|((df['Paymt_hst_10']>=1) & (df['Paymt_hst_10']<=29))|((df['Paymt_hst_11']>=1) & (df['Paymt_hst_11']<=29))|((df['Paymt_hst_12']>=1) &(df['Paymt_hst_12']<=29)),(df['Paymt_hst_01']<=29,df['Paymt_hst_02']<=29,df['Paymt_hst_03']<=29,df['Paymt_hst_04']<=29,df['Paymt_hst_05']<=29,df['Paymt_hst_06']<=29,df['Paymt_hst_07']<=29,df['Paymt_hst_08']<=29,df['Paymt_hst_09']<=29,df['Paymt_hst_10']<=29,df['Paymt_hst_11']<=29,df['Paymt_hst_12']<=29),0).sum(axis=0)\n",
    "    \n",
    "    \n",
    "    ## Times 30p in 3/6/9/12 mths\n",
    "    df['num_times_30p_L3M'] = np.where((df['Paymt_hst_01']>=30)|(df['Paymt_hst_02']>=30)|(df['Paymt_hst_03']>=30),(df['Paymt_hst_01']>=30,df['Paymt_hst_02']>=30,df['Paymt_hst_03']>=30),0).sum(axis=0)\n",
    "    df['num_times_30p_L6M'] = np.where((df['Paymt_hst_01'] >= 30) | (df['Paymt_hst_02'] >= 30) | (df['Paymt_hst_03'] >= 30) | (df['Paymt_hst_04'] >= 30) | (df['Paymt_hst_05'] >= 30) | (df['Paymt_hst_06'] >= 30),(df['Paymt_hst_01'] >= 30,df['Paymt_hst_02'] >= 30,df['Paymt_hst_03'] >= 30,df['Paymt_hst_04'] >= 30,df['Paymt_hst_05'] >= 30,df['Paymt_hst_06'] >= 30),0).sum(axis=0)\n",
    "    df['num_times_30p_L9M'] = np.where((df['Paymt_hst_01'] >= 30) | (df['Paymt_hst_02'] >= 30) | (df['Paymt_hst_03'] >= 30) | (df['Paymt_hst_04'] >= 30) | (df['Paymt_hst_05'] >= 30) | (df['Paymt_hst_06'] >= 30)|(df['Paymt_hst_07'] >= 30) | (df['Paymt_hst_08'] >= 30) | (df['Paymt_hst_09'] >= 30),(df['Paymt_hst_01'] >= 30,df['Paymt_hst_02'] >= 30,df['Paymt_hst_03'] >= 30,df['Paymt_hst_04'] >= 30,df['Paymt_hst_05'] >= 30,df['Paymt_hst_06'] >= 30,df['Paymt_hst_07'] >= 30,df['Paymt_hst_08'] >= 30,df['Paymt_hst_09'] >= 30),0).sum(axis=0)\n",
    "    df['num_times_30p_L12M'] = np.where((df['Paymt_hst_01'] >= 30) | (df['Paymt_hst_02'] >= 30) | (df['Paymt_hst_03'] >= 30) | (df['Paymt_hst_04'] >= 30) | (df['Paymt_hst_05'] >= 30) | (df['Paymt_hst_06'] >= 30)|(df['Paymt_hst_07'] >= 30) | (df['Paymt_hst_08'] >= 30) | (df['Paymt_hst_09'] >= 30) | (df['Paymt_hst_10'] >= 30) | (df['Paymt_hst_11'] >= 30) | (df['Paymt_hst_12'] >= 30),(df['Paymt_hst_01'] >= 30,df['Paymt_hst_02'] >= 30,df['Paymt_hst_03'] >= 30,df['Paymt_hst_04'] >= 30,df['Paymt_hst_05'] >= 30,df['Paymt_hst_06'] >= 30,df['Paymt_hst_07'] >= 30,df['Paymt_hst_08'] >= 30,df['Paymt_hst_09'] >= 30,df['Paymt_hst_10'] >= 30,df['Paymt_hst_11'] >= 30,df['Paymt_hst_12'] >= 30),0).sum(axis=0)\n",
    "    \n",
    "    ## Times 60p in 3/6/9/12 mths\n",
    "    df['num_times_60p_L3M'] = np.where((df['Paymt_hst_01']>=60)|(df['Paymt_hst_02']>=60)|(df['Paymt_hst_03']>=60),(df['Paymt_hst_01']>=60,df['Paymt_hst_02']>=60,df['Paymt_hst_03']>=60),0).sum(axis=0)\n",
    "    df['num_times_60p_L6M'] = np.where((df['Paymt_hst_01'] >= 60) | (df['Paymt_hst_02'] >= 60) | (df['Paymt_hst_03'] >= 60) | (df['Paymt_hst_04'] >= 60) | (df['Paymt_hst_05'] >= 60) | (df['Paymt_hst_06'] >= 60),(df['Paymt_hst_01'] >= 60,df['Paymt_hst_02'] >= 60,df['Paymt_hst_03'] >= 60,df['Paymt_hst_04'] >= 60,df['Paymt_hst_05'] >= 60,df['Paymt_hst_06'] >= 60),0).sum(axis=0)\n",
    "    df['num_times_60p_L9M'] = np.where((df['Paymt_hst_01'] >= 60) | (df['Paymt_hst_02'] >= 60) | (df['Paymt_hst_03'] >= 60) | (df['Paymt_hst_04'] >= 60) | (df['Paymt_hst_05'] >= 60) | (df['Paymt_hst_06'] >= 60)|(df['Paymt_hst_07'] >= 60) | (df['Paymt_hst_08'] >= 60) | (df['Paymt_hst_09'] >= 60),(df['Paymt_hst_01'] >= 60,df['Paymt_hst_02'] >= 60,df['Paymt_hst_03'] >= 60,df['Paymt_hst_04'] >= 60,df['Paymt_hst_05'] >= 60,df['Paymt_hst_06'] >= 60,df['Paymt_hst_07'] >= 60,df['Paymt_hst_08'] >= 60,df['Paymt_hst_09'] >= 60),0).sum(axis=0)\n",
    "    df['num_times_60p_L12M'] = np.where((df['Paymt_hst_01'] >= 60) | (df['Paymt_hst_02'] >= 60) | (df['Paymt_hst_03'] >= 60) | (df['Paymt_hst_04'] >= 60) | (df['Paymt_hst_05'] >= 60) | (df['Paymt_hst_06'] >= 60)|(df['Paymt_hst_07'] >= 60) | (df['Paymt_hst_08'] >= 60) | (df['Paymt_hst_09'] >= 60) | (df['Paymt_hst_10'] >= 60) | (df['Paymt_hst_11'] >= 60) | (df['Paymt_hst_12'] >= 60),(df['Paymt_hst_01'] >= 60,df['Paymt_hst_02'] >= 60,df['Paymt_hst_03'] >= 60,df['Paymt_hst_04'] >= 60,df['Paymt_hst_05'] >= 60,df['Paymt_hst_06'] >= 60,df['Paymt_hst_07'] >= 60,df['Paymt_hst_08'] >= 60,df['Paymt_hst_09'] >= 60,df['Paymt_hst_10'] >= 60,df['Paymt_hst_11'] >= 60,df['Paymt_hst_12'] >= 60),0).sum(axis=0)\n",
    "    \n",
    "    ## Times 90p in 3/6/9/12 mths\n",
    "    df['num_times_90p_L3M'] = np.where((df['Paymt_hst_01']>=90)|(df['Paymt_hst_02']>=90)|(df['Paymt_hst_03']>=90),(df['Paymt_hst_01']>=90,df['Paymt_hst_02']>=90,df['Paymt_hst_03']>=90),0).sum(axis=0)\n",
    "    df['num_times_90p_L6M'] = np.where((df['Paymt_hst_01'] >= 90) | (df['Paymt_hst_02'] >= 90) | (df['Paymt_hst_03'] >= 90) | (df['Paymt_hst_04'] >= 90) | (df['Paymt_hst_05'] >= 90) | (df['Paymt_hst_06'] >= 90),(df['Paymt_hst_01'] >= 90,df['Paymt_hst_02'] >= 90,df['Paymt_hst_03'] >= 90,df['Paymt_hst_04'] >= 90,df['Paymt_hst_05'] >= 90,df['Paymt_hst_06'] >= 90),0).sum(axis=0)\n",
    "    df['num_times_90p_L9M'] = np.where((df['Paymt_hst_01'] >= 90) | (df['Paymt_hst_02'] >= 90) | (df['Paymt_hst_03'] >= 90) | (df['Paymt_hst_04'] >= 90) | (df['Paymt_hst_05'] >= 90) | (df['Paymt_hst_06'] >= 90)|(df['Paymt_hst_07'] >= 90) | (df['Paymt_hst_08'] >= 90) | (df['Paymt_hst_09'] >= 90),(df['Paymt_hst_01'] >= 90,df['Paymt_hst_02'] >= 90,df['Paymt_hst_03'] >= 90,df['Paymt_hst_04'] >= 90,df['Paymt_hst_05'] >= 90,df['Paymt_hst_06'] >= 90,df['Paymt_hst_07'] >= 90,df['Paymt_hst_08'] >= 90,df['Paymt_hst_09'] >= 90),0).sum(axis=0)\n",
    "    df['num_times_90p_L12M'] = np.where((df['Paymt_hst_01'] >= 90) | (df['Paymt_hst_02'] >= 90) | (df['Paymt_hst_03'] >= 90) | (df['Paymt_hst_04'] >= 90) | (df['Paymt_hst_05'] >= 90) | (df['Paymt_hst_06'] >= 90)|(df['Paymt_hst_07'] >= 90) | (df['Paymt_hst_08'] >= 90) | (df['Paymt_hst_09'] >= 90) | (df['Paymt_hst_10'] >= 90) | (df['Paymt_hst_11'] >= 90) | (df['Paymt_hst_12'] >= 90),(df['Paymt_hst_01'] >= 90,df['Paymt_hst_02'] >= 90,df['Paymt_hst_03'] >= 90,df['Paymt_hst_04'] >= 90,df['Paymt_hst_05'] >= 90,df['Paymt_hst_06'] >= 90,df['Paymt_hst_07'] >= 90,df['Paymt_hst_08'] >= 90,df['Paymt_hst_09'] >= 90,df['Paymt_hst_10'] >= 90,df['Paymt_hst_11'] >= 90,df['Paymt_hst_12'] >= 90),0).sum(axis=0)\n",
    "    \n",
    "    ## flag xp in 3/6/9/12 mths\n",
    "    df['X_DPD_L3M_Flag'] = np.where(((df['Paymt_hst_01']>=1) & (df['Paymt_hst_01']<=29))|((df['Paymt_hst_02']>=1) & (df['Paymt_hst_02']<=29))|((df['Paymt_hst_03']>=1) &(df['Paymt_hst_03']<=29)),1,0)\n",
    "    df['X_DPD_L6M_Flag'] = np.where(((df['Paymt_hst_01']>=1) & (df['Paymt_hst_01']<=29))|((df['Paymt_hst_02']>=1) & (df['Paymt_hst_02']<=29))|((df['Paymt_hst_03']>=1) &(df['Paymt_hst_03']<=29))|((df['Paymt_hst_04']>=1) & (df['Paymt_hst_04']<=29))|((df['Paymt_hst_05']>=1) & (df['Paymt_hst_05']<=29))|((df['Paymt_hst_06']>=1) &(df['Paymt_hst_06']<=29)),1,0)\n",
    "    df['X_DPD_L9M_Flag'] = np.where(((df['Paymt_hst_01']>=1) & (df['Paymt_hst_01']<=29))|((df['Paymt_hst_02']>=1) & (df['Paymt_hst_02']<=29))|((df['Paymt_hst_03']>=1) &(df['Paymt_hst_03']<=29))|((df['Paymt_hst_04']>=1) & (df['Paymt_hst_04']<=29))|((df['Paymt_hst_05']>=1) & (df['Paymt_hst_05']<=29))|((df['Paymt_hst_06']>=1) &(df['Paymt_hst_06']<=29))|((df['Paymt_hst_07']>=1) & (df['Paymt_hst_07']<=29))|((df['Paymt_hst_08']>=1) & (df['Paymt_hst_08']<=29))|((df['Paymt_hst_09']>=1) &(df['Paymt_hst_09']<=29)),1,0)\n",
    "    df['X_DPD_L12M_Flag'] = np.where(((df['Paymt_hst_01']>=1) & (df['Paymt_hst_01']<=29))|((df['Paymt_hst_02']>=1) & (df['Paymt_hst_02']<=29))|((df['Paymt_hst_03']>=1) &(df['Paymt_hst_03']<=29))|((df['Paymt_hst_04']>=1) & (df['Paymt_hst_04']<=29))|((df['Paymt_hst_05']>=1) & (df['Paymt_hst_05']<=29))|((df['Paymt_hst_06']>=1) &(df['Paymt_hst_06']<=29))|((df['Paymt_hst_07']>=1) & (df['Paymt_hst_07']<=29))|((df['Paymt_hst_08']>=1) & (df['Paymt_hst_08']<=29))|((df['Paymt_hst_09']>=1) &(df['Paymt_hst_09']<=29))|((df['Paymt_hst_10']>=1) & (df['Paymt_hst_10']<=29))|((df['Paymt_hst_11']>=1) & (df['Paymt_hst_11']<=29))|((df['Paymt_hst_12']>=1) &(df['Paymt_hst_12']<=29)),1,0)\n",
    "    \n",
    "    ## flag 30p in 3/6/9/12 mths\n",
    "    df['30p_DPD_L3M_Flag'] = np.where((df['Paymt_hst_01'] > 30) | (df['Paymt_hst_02'] > 30) | (df['Paymt_hst_03'] > 30) ,1,0)\n",
    "    df['30p_DPD_L6M_Flag'] = np.where((df['Paymt_hst_01'] > 30) | (df['Paymt_hst_02'] > 30) | (df['Paymt_hst_03'] > 30) | (df['Paymt_hst_04'] > 30) | (df['Paymt_hst_05'] > 30) | (df['Paymt_hst_06'] > 30) ,1,0)\n",
    "    df['30p_DPD_L9M_Flag'] = np.where((df['Paymt_hst_01'] > 30) | (df['Paymt_hst_02'] > 30) | (df['Paymt_hst_03'] > 30) | (df['Paymt_hst_04'] > 30) | (df['Paymt_hst_05'] > 30) | (df['Paymt_hst_06'] > 30)|(df['Paymt_hst_07'] > 30) | (df['Paymt_hst_08'] > 30) | (df['Paymt_hst_09'] > 30) ,1,0)\n",
    "    df['30p_DPD_L12M_Flag'] = np.where((df['Paymt_hst_01'] > 30) | (df['Paymt_hst_02'] > 30) | (df['Paymt_hst_03'] > 30) | (df['Paymt_hst_04'] > 30) | (df['Paymt_hst_05'] > 30) | (df['Paymt_hst_06'] > 30)|(df['Paymt_hst_07'] > 30) | (df['Paymt_hst_08'] > 30) | (df['Paymt_hst_09'] > 30) | (df['Paymt_hst_10'] > 30) | (df['Paymt_hst_11'] > 30) | (df['Paymt_hst_12'] > 30) ,1,0)\n",
    "    \n",
    "    ## flag 60p in 3/6/9/12 mths\n",
    "    df['60p_DPD_L3M_Flag'] = np.where((df['Paymt_hst_01'] > 60) | (df['Paymt_hst_02'] > 60) | (df['Paymt_hst_03'] > 60) ,1,0)\n",
    "    df['60p_DPD_L6M_Flag'] = np.where((df['Paymt_hst_01'] > 60) | (df['Paymt_hst_02'] > 60) | (df['Paymt_hst_03'] > 60) | (df['Paymt_hst_04'] > 60) | (df['Paymt_hst_05'] > 60) | (df['Paymt_hst_06'] > 60) ,1,0)\n",
    "    df['60p_DPD_L9M_Flag'] = np.where((df['Paymt_hst_01'] > 60) | (df['Paymt_hst_02'] > 60) | (df['Paymt_hst_03'] > 60) | (df['Paymt_hst_04'] > 60) | (df['Paymt_hst_05'] > 60) | (df['Paymt_hst_06'] > 60)|(df['Paymt_hst_07'] > 60) | (df['Paymt_hst_08'] > 60) | (df['Paymt_hst_09'] > 60) ,1,0)\n",
    "    df['60p_DPD_L12M_Flag'] = np.where((df['Paymt_hst_01'] > 60) | (df['Paymt_hst_02'] > 60) | (df['Paymt_hst_03'] > 60) | (df['Paymt_hst_04'] > 60) | (df['Paymt_hst_05'] > 60) | (df['Paymt_hst_06'] > 60)|(df['Paymt_hst_07'] > 60) | (df['Paymt_hst_08'] > 60) | (df['Paymt_hst_09'] > 60) | (df['Paymt_hst_10'] > 60) | (df['Paymt_hst_11'] > 60) | (df['Paymt_hst_12'] > 60) ,1,0)\n",
    "    \n",
    "    ## flag 90p in 3/6/9/12 mths\n",
    "    df['90p_DPD_L3M_Flag'] = np.where((df['Paymt_hst_01'] > 90) | (df['Paymt_hst_02'] > 90) | (df['Paymt_hst_03'] > 90) ,1,0)\n",
    "    df['90p_DPD_L6M_Flag'] = np.where((df['Paymt_hst_01'] > 90) | (df['Paymt_hst_02'] > 90) | (df['Paymt_hst_03'] > 90) | (df['Paymt_hst_04'] > 90) | (df['Paymt_hst_05'] > 90) | (df['Paymt_hst_06'] > 90) ,1,0)\n",
    "    df['90p_DPD_L9M_Flag'] = np.where((df['Paymt_hst_01'] > 90) | (df['Paymt_hst_02'] > 90) | (df['Paymt_hst_03'] > 90) | (df['Paymt_hst_04'] > 90) | (df['Paymt_hst_05'] > 90) | (df['Paymt_hst_06'] > 90)|(df['Paymt_hst_07'] > 90) | (df['Paymt_hst_08'] > 90) | (df['Paymt_hst_09'] > 90) ,1,0)\n",
    "    df['90p_DPD_L12M_Flag'] = np.where((df['Paymt_hst_01'] > 90) | (df['Paymt_hst_02'] > 90) | (df['Paymt_hst_03'] > 90) | (df['Paymt_hst_04'] > 90) | (df['Paymt_hst_05'] > 90) | (df['Paymt_hst_06'] > 90)|(df['Paymt_hst_07'] > 90) | (df['Paymt_hst_08'] > 90) | (df['Paymt_hst_09'] > 90) | (df['Paymt_hst_10'] > 90) | (df['Paymt_hst_11'] > 90) | (df['Paymt_hst_12'] > 90) ,1,0)\n",
    "    \n",
    "    ## Mths since last delq\n",
    "    df['Months_since_Last_Deliquent'] = np.where(df['Paymt_hst_01']>0,1,(np.where(df['Paymt_hst_02']>0,2,(np.where(df['Paymt_hst_03']>0,3,\n",
    "                                        (np.where(df['Paymt_hst_04']>0,4,(np.where(df['Paymt_hst_05']>0,5,(np.where(df['Paymt_hst_06']>0,6,\n",
    "                                        (np.where(df['Paymt_hst_07']>0,7,(np.where(df['Paymt_hst_08']>0,8,(np.where(df['Paymt_hst_09']>0,9,\n",
    "                                        (np.where(df['Paymt_hst_10']>0,10,(np.where(df['Paymt_hst_11']>0,11,(np.where(df['Paymt_hst_12']>0,12,\n",
    "                                        (np.where(df['Paymt_hst_13']>0,13,(np.where(df['Paymt_hst_14']>0,14,(np.where(df['Paymt_hst_15']>0,15,\n",
    "                                        (np.where(df['Paymt_hst_16']>0,16,(np.where(df['Paymt_hst_17']>0,17,(np.where(df['Paymt_hst_18']>0,18,\n",
    "                                        (np.where(df['Paymt_hst_19']>0,19,(np.where(df['Paymt_hst_20']>0,20,(np.where(df['Paymt_hst_21']>0,21,\n",
    "                                        (np.where(df['Paymt_hst_22']>0,22,(np.where(df['Paymt_hst_23']>0,23,(np.where(df['Paymt_hst_24']>0,24,\n",
    "                                        (np.where(df['Paymt_hst_25']>0,25,(np.where(df['Paymt_hst_26']>0,26,(np.where(df['Paymt_hst_27']>0,27,\n",
    "                                        (np.where(df['Paymt_hst_28']>0,28,(np.where(df['Paymt_hst_29']>0,29,(np.where(df['Paymt_hst_30']>0,30,\n",
    "                                        (np.where(df['Paymt_hst_31']>0,31,(np.where(df['Paymt_hst_32']>0,32,(np.where(df['Paymt_hst_33']>0,33,\n",
    "                                        (np.where(df['Paymt_hst_34']>0,34,\n",
    "                                        (np.where(df['Paymt_hst_35']>0,35,\n",
    "                                        (np.where(df['Paymt_hst_36']>0,36,0)))))))))))))))))))))))))))))))))))))))))))))))))))))))))))))))))))))))\n",
    "    \n",
    "    ## Mths since last 30p\n",
    "    df['Months_since_Last_Deliquent_G30'] = np.where(df['Paymt_hst_01']>=30,1,(np.where(df['Paymt_hst_02']>=30,2,(np.where(df['Paymt_hst_03']>=30,3,\n",
    "                                        (np.where(df['Paymt_hst_04']>=30,4,(np.where(df['Paymt_hst_05']>=30,5,(np.where(df['Paymt_hst_06']>=30,6,\n",
    "                                        (np.where(df['Paymt_hst_07']>=30,7,(np.where(df['Paymt_hst_08']>=30,8,(np.where(df['Paymt_hst_09']>=30,9,\n",
    "                                        (np.where(df['Paymt_hst_10']>=30,10,(np.where(df['Paymt_hst_11']>=30,11,(np.where(df['Paymt_hst_12']>=30,12,\n",
    "                                        (np.where(df['Paymt_hst_13']>=30,13,(np.where(df['Paymt_hst_14']>=30,14,(np.where(df['Paymt_hst_15']>=30,15,\n",
    "                                        (np.where(df['Paymt_hst_16']>=30,16,(np.where(df['Paymt_hst_17']>=30,17,(np.where(df['Paymt_hst_18']>=30,18,\n",
    "                                        (np.where(df['Paymt_hst_19']>=30,19,(np.where(df['Paymt_hst_20']>=30,20,(np.where(df['Paymt_hst_21']>=30,21,\n",
    "                                        (np.where(df['Paymt_hst_22']>=30,22,(np.where(df['Paymt_hst_23']>=30,23,(np.where(df['Paymt_hst_24']>=30,24,\n",
    "                                        (np.where(df['Paymt_hst_25']>=30,25,(np.where(df['Paymt_hst_26']>=30,26,(np.where(df['Paymt_hst_27']>=30,27,\n",
    "                                        (np.where(df['Paymt_hst_28']>=30,28,(np.where(df['Paymt_hst_29']>=30,29,(np.where(df['Paymt_hst_30']>=30,30,\n",
    "                                        (np.where(df['Paymt_hst_31']>=30,31,(np.where(df['Paymt_hst_32']>=30,32,(np.where(df['Paymt_hst_33']>=30,33,\n",
    "                                        (np.where(df['Paymt_hst_34']>=30,34,\n",
    "                                        (np.where(df['Paymt_hst_35']>=30,35,(np.where(df['Paymt_hst_36']>0,36,0)))))))))))))))))))))))))))))))))))))))))))))))))))))))))))))))))))))))\n",
    "    \n",
    "    ## Mths since last 60p\n",
    "    df['Months_since_Last_Deliquent_G60'] = np.where(df['Paymt_hst_01']>=60,1,(np.where(df['Paymt_hst_02']>=60,2,(np.where(df['Paymt_hst_03']>=60,3,\n",
    "                                        (np.where(df['Paymt_hst_04']>=60,4,(np.where(df['Paymt_hst_05']>=60,5,(np.where(df['Paymt_hst_06']>=60,6,\n",
    "                                        (np.where(df['Paymt_hst_07']>=60,7,(np.where(df['Paymt_hst_08']>=60,8,(np.where(df['Paymt_hst_09']>=60,9,\n",
    "                                        (np.where(df['Paymt_hst_10']>=60,10,(np.where(df['Paymt_hst_11']>=60,11,(np.where(df['Paymt_hst_12']>=60,12,\n",
    "                                        (np.where(df['Paymt_hst_13']>=60,13,(np.where(df['Paymt_hst_14']>=60,14,(np.where(df['Paymt_hst_15']>=60,15,\n",
    "                                        (np.where(df['Paymt_hst_16']>=60,16,(np.where(df['Paymt_hst_17']>=60,17,(np.where(df['Paymt_hst_18']>=60,18,\n",
    "                                        (np.where(df['Paymt_hst_19']>=60,19,(np.where(df['Paymt_hst_20']>=60,20,(np.where(df['Paymt_hst_21']>=60,21,\n",
    "                                        (np.where(df['Paymt_hst_22']>=60,22,(np.where(df['Paymt_hst_23']>=60,23,(np.where(df['Paymt_hst_24']>=60,24,\n",
    "                                        (np.where(df['Paymt_hst_25']>=60,25,(np.where(df['Paymt_hst_26']>=60,26,(np.where(df['Paymt_hst_27']>=60,27,\n",
    "                                        (np.where(df['Paymt_hst_28']>=60,28,(np.where(df['Paymt_hst_29']>=60,29,(np.where(df['Paymt_hst_30']>=60,30,\n",
    "                                        (np.where(df['Paymt_hst_31']>=60,31,(np.where(df['Paymt_hst_32']>=60,32,(np.where(df['Paymt_hst_33']>=60,33,\n",
    "                                        (np.where(df['Paymt_hst_34']>=60,34,\n",
    "                                        (np.where(df['Paymt_hst_35']>=60,35,(np.where(df['Paymt_hst_36']>0,36,0)))))))))))))))))))))))))))))))))))))))))))))))))))))))))))))))))))))))\n",
    "    \n",
    "    ## mths since last 90p\n",
    "    df['Months_since_Last_Deliquent_G90'] = np.where(df['Paymt_hst_01']>=90,1,(np.where(df['Paymt_hst_02']>=90,2,(np.where(df['Paymt_hst_03']>=90,3,\n",
    "                                        (np.where(df['Paymt_hst_04']>=90,4,(np.where(df['Paymt_hst_05']>=90,5,(np.where(df['Paymt_hst_06']>=90,6,\n",
    "                                        (np.where(df['Paymt_hst_07']>=90,7,(np.where(df['Paymt_hst_08']>=90,8,(np.where(df['Paymt_hst_09']>=90,9,\n",
    "                                        (np.where(df['Paymt_hst_10']>=90,10,(np.where(df['Paymt_hst_11']>=90,11,(np.where(df['Paymt_hst_12']>=90,12,\n",
    "                                        (np.where(df['Paymt_hst_13']>=90,13,(np.where(df['Paymt_hst_14']>=90,14,(np.where(df['Paymt_hst_15']>=90,15,\n",
    "                                        (np.where(df['Paymt_hst_16']>=90,16,(np.where(df['Paymt_hst_17']>=90,17,(np.where(df['Paymt_hst_18']>=90,18,\n",
    "                                        (np.where(df['Paymt_hst_19']>=90,19,(np.where(df['Paymt_hst_20']>=90,20,(np.where(df['Paymt_hst_21']>=90,21,\n",
    "                                        (np.where(df['Paymt_hst_22']>=90,22,(np.where(df['Paymt_hst_23']>=90,23,(np.where(df['Paymt_hst_24']>=90,24,\n",
    "                                        (np.where(df['Paymt_hst_25']>=90,25,(np.where(df['Paymt_hst_26']>=90,26,(np.where(df['Paymt_hst_27']>=90,27,\n",
    "                                        (np.where(df['Paymt_hst_28']>=90,28,(np.where(df['Paymt_hst_29']>=90,29,(np.where(df['Paymt_hst_30']>=90,30,\n",
    "                                        (np.where(df['Paymt_hst_31']>=90,31,(np.where(df['Paymt_hst_32']>=90,32,(np.where(df['Paymt_hst_33']>=90,33,\n",
    "                                        (np.where(df['Paymt_hst_34']>=90,34,\n",
    "                                        (np.where(df['Paymt_hst_35']>=90,35,(np.where(df['Paymt_hst_36']>0,36,0)))))))))))))))))))))))))))))))))))))))))))))))))))))))))))))))))))))))\n",
    "    \n",
    "    ## Mths since last mild delq\n",
    "    df['Months_since_Last_Deliquent_L90'] = np.where((df['Paymt_hst_01']>=1)&(df['Paymt_hst_01']<=90),1,\n",
    "                                        (np.where((df['Paymt_hst_02']>=1)&(df['Paymt_hst_02']<=90),2,\n",
    "                                        (np.where((df['Paymt_hst_03']>=1)&(df['Paymt_hst_03']<=90),3,\n",
    "                                        (np.where((df['Paymt_hst_04']>=1)&(df['Paymt_hst_04']<=90),4,\n",
    "                                        (np.where((df['Paymt_hst_05']>=1)&(df['Paymt_hst_05']<=90),5,\n",
    "                                        (np.where((df['Paymt_hst_06']>=1)&(df['Paymt_hst_06']<=90),6,\n",
    "                                        (np.where((df['Paymt_hst_07']>=1)&(df['Paymt_hst_07']<=90),7,\n",
    "                                        (np.where((df['Paymt_hst_08']>=1)&(df['Paymt_hst_08']<=90),8,\n",
    "                                        (np.where((df['Paymt_hst_09']>=1)&(df['Paymt_hst_09']<=90),9,\n",
    "                                        (np.where((df['Paymt_hst_10']>=1)&(df['Paymt_hst_10']<=90),10,\n",
    "                                        (np.where((df['Paymt_hst_11']>=1)&(df['Paymt_hst_11']<=90),11,\n",
    "                                        (np.where((df['Paymt_hst_12']>=1)&(df['Paymt_hst_12']<=90),12,\n",
    "                                        (np.where((df['Paymt_hst_13']>=1)&(df['Paymt_hst_13']<=90),13,\n",
    "                                        (np.where((df['Paymt_hst_14']>=1)&(df['Paymt_hst_14']<=90),14,\n",
    "                                        (np.where((df['Paymt_hst_15']>=1)&(df['Paymt_hst_15']<=90),15,\n",
    "                                        (np.where((df['Paymt_hst_16']>=1)&(df['Paymt_hst_16']<=90),16,\n",
    "                                        (np.where((df['Paymt_hst_17']>=1)&(df['Paymt_hst_17']<=90),17,\n",
    "                                        (np.where((df['Paymt_hst_18']>=1)&(df['Paymt_hst_18']<=90),18,\n",
    "                                        (np.where((df['Paymt_hst_19']>=1)&(df['Paymt_hst_19']<=90),19,\n",
    "                                        (np.where((df['Paymt_hst_20']>=1)&(df['Paymt_hst_20']<=90),20,\n",
    "                                        (np.where((df['Paymt_hst_21']>=1)&(df['Paymt_hst_21']<=90),21,\n",
    "                                        (np.where((df['Paymt_hst_22']>=1)&(df['Paymt_hst_22']<=90),22,\n",
    "                                        (np.where((df['Paymt_hst_23']>=1)&(df['Paymt_hst_23']<=90),23,\n",
    "                                        (np.where((df['Paymt_hst_24']>=1)&(df['Paymt_hst_24']<=90),24,\n",
    "                                        (np.where((df['Paymt_hst_25']>=1)&(df['Paymt_hst_25']<=90),25,\n",
    "                                        (np.where((df['Paymt_hst_26']>=1)&(df['Paymt_hst_26']<=90),26,\n",
    "                                        (np.where((df['Paymt_hst_27']>=1)&(df['Paymt_hst_27']<=90),27,\n",
    "                                        (np.where((df['Paymt_hst_28']>=1)&(df['Paymt_hst_28']<=90),28,\n",
    "                                        (np.where((df['Paymt_hst_29']>=1)&(df['Paymt_hst_29']<=90),29,\n",
    "                                        (np.where((df['Paymt_hst_30']>=1)&(df['Paymt_hst_30']<=90),30,\n",
    "                                        (np.where((df['Paymt_hst_31']>=1)&(df['Paymt_hst_31']<=90),31,\n",
    "                                        (np.where((df['Paymt_hst_32']>=1)&(df['Paymt_hst_32']<=90),32,\n",
    "                                        (np.where((df['Paymt_hst_33']>=1)&(df['Paymt_hst_33']<=90),33,\n",
    "                                        (np.where((df['Paymt_hst_34']>=1)&(df['Paymt_hst_34']<=90),34,\n",
    "                                        (np.where((df['Paymt_hst_35']>=1)&(df['Paymt_hst_35']>=90),35,\n",
    "                                        (np.where((df['Paymt_hst_36']>=1)&(df['Paymt_hst_36']>=90),36,0)))))))))))))))))))))))))))))))))))))))))))))))))))))))))))))))))))))))\n",
    "    ## Max DPD in last 3/6/9/12 mths\n",
    "    df['MAX_DPD_L3M'] = df[['Paymt_hst_01','Paymt_hst_02','Paymt_hst_03']].max(axis=1)\n",
    "    df['MAX_DPD_L6M'] = df[['Paymt_hst_01','Paymt_hst_02','Paymt_hst_03','Paymt_hst_04','Paymt_hst_05','Paymt_hst_06']].max(axis=1)\n",
    "    df['MAX_DPD_L9M'] = df[['Paymt_hst_01','Paymt_hst_02','Paymt_hst_03','Paymt_hst_04','Paymt_hst_05','Paymt_hst_06','Paymt_hst_07','Paymt_hst_08','Paymt_hst_09']].max(axis=1)\n",
    "    df['MAX_DPD_L12M'] = df[['Paymt_hst_01', 'Paymt_hst_02','Paymt_hst_03','Paymt_hst_04','Paymt_hst_05','Paymt_hst_06','Paymt_hst_07','Paymt_hst_08','Paymt_hst_09','Paymt_hst_10','Paymt_hst_11','Paymt_hst_12']].max(axis=1)\n",
    "    \n",
    "    # num mild delq\n",
    "    df['Mild_Delq_L3M'] = np.where((df['Paymt_hst_01']>=1) & (df['Paymt_hst_01']<90)|(df['Paymt_hst_02']>=1) & (df['Paymt_hst_02']<90)|(df['Paymt_hst_03']>=1) & (df['Paymt_hst_03']<90),(df['Paymt_hst_01']<90,df['Paymt_hst_02']<90,df['Paymt_hst_03']<90),0).sum(axis=0)\n",
    "    df['Mild_Delq_L6M'] = np.where((df['Paymt_hst_01']>=1) & (df['Paymt_hst_01'] <90) | (df['Paymt_hst_02']>=1) & (df['Paymt_hst_02'] <90) | (df['Paymt_hst_03']>=1) & (df['Paymt_hst_03'] <90) | (df['Paymt_hst_04']>=1) & (df['Paymt_hst_04'] <90) | (df['Paymt_hst_05']>=1) & (df['Paymt_hst_05'] <90) | (df['Paymt_hst_06']>=1) & (df['Paymt_hst_06'] <90),(df['Paymt_hst_01'] <90,df['Paymt_hst_02'] <90,df['Paymt_hst_03'] <90,df['Paymt_hst_04'] <90,df['Paymt_hst_05'] <90,df['Paymt_hst_06'] <90),0).sum(axis=0)\n",
    "    df['Mild_Delq_L9M'] = np.where((df['Paymt_hst_01']>=1) & (df['Paymt_hst_01'] <90) | (df['Paymt_hst_02']>=1) & (df['Paymt_hst_02'] <90) | (df['Paymt_hst_03']>=1) & (df['Paymt_hst_03'] <90) | (df['Paymt_hst_04']>=1) & (df['Paymt_hst_04'] <90) | (df['Paymt_hst_05']>=1) & (df['Paymt_hst_05'] <90) | (df['Paymt_hst_06']>=1) &(df['Paymt_hst_06'] <90)|(df['Paymt_hst_07']>=1) & (df['Paymt_hst_07'] <90) | (df['Paymt_hst_08']>=1) & (df['Paymt_hst_08'] <90) | (df['Paymt_hst_09']>=1) & (df['Paymt_hst_09'] <90),(df['Paymt_hst_01'] <90,df['Paymt_hst_02'] <90,df['Paymt_hst_03'] <90,df['Paymt_hst_04'] <90,df['Paymt_hst_05'] <90,df['Paymt_hst_06'] <90,df['Paymt_hst_07'] <90,df['Paymt_hst_08'] <90,df['Paymt_hst_09'] <90),0).sum(axis=0)\n",
    "    df['Mild_Delq_L12M'] = np.where((df['Paymt_hst_01']>=1) & (df['Paymt_hst_01'] <90) | (df['Paymt_hst_02']>=1) & (df['Paymt_hst_02'] <90) | (df['Paymt_hst_03']>=1) & (df['Paymt_hst_03'] <90) | (df['Paymt_hst_04']>=1) & (df['Paymt_hst_04'] <90) | (df['Paymt_hst_05']>=1) & (df['Paymt_hst_05'] <90) | (df['Paymt_hst_06']>=1) & (df['Paymt_hst_06'] <90)|(df['Paymt_hst_07']>=1) & (df['Paymt_hst_07'] <90) | (df['Paymt_hst_08']>=1) & (df['Paymt_hst_08'] <90) | (df['Paymt_hst_09']>=1) & (df['Paymt_hst_09'] <90) | (df['Paymt_hst_10']>=1) & (df['Paymt_hst_10'] <90) | (df['Paymt_hst_11']>=1) & (df['Paymt_hst_11'] <90) | (df['Paymt_hst_12']>=1) & (df['Paymt_hst_12'] <90),(df['Paymt_hst_01'] <90,df['Paymt_hst_02'] <90,df['Paymt_hst_03'] <90,df['Paymt_hst_04'] <90,df['Paymt_hst_05'] <90,df['Paymt_hst_06'] <90,df['Paymt_hst_07'] <90,df['Paymt_hst_08'] <90,df['Paymt_hst_09'] <90,df['Paymt_hst_10'] <90,df['Paymt_hst_11'] <90,df['Paymt_hst_12'] <90),0).sum(axis=0)\n",
    "    \n",
    "    #num severe delq\n",
    "    df['Severe_Delq_L3M'] = np.where((df['Paymt_hst_01']>=90)|(df['Paymt_hst_02']>=90)|(df['Paymt_hst_03']>=90),(df['Paymt_hst_01']>=90,df['Paymt_hst_02']>=90,df['Paymt_hst_03']>=90),0).sum(axis=0)\n",
    "    df['Severe_Delq_L6M'] = np.where((df['Paymt_hst_01'] >=90) | (df['Paymt_hst_02'] >=90) | (df['Paymt_hst_03'] >=90) | (df['Paymt_hst_04'] >=90) | (df['Paymt_hst_05'] >=90) | (df['Paymt_hst_06'] >=90),(df['Paymt_hst_01'] >=90,df['Paymt_hst_02'] >=90,df['Paymt_hst_03'] >=90,df['Paymt_hst_04'] >=90,df['Paymt_hst_05'] >=90,df['Paymt_hst_06'] >=90),0).sum(axis=0)\n",
    "    df['Severe_Delq_L9M'] = np.where((df['Paymt_hst_01'] >=90) | (df['Paymt_hst_02'] >=90) | (df['Paymt_hst_03'] >=90) | (df['Paymt_hst_04'] >=90) | (df['Paymt_hst_05'] >=90) | (df['Paymt_hst_06'] >=90)|(df['Paymt_hst_07'] >=90) | (df['Paymt_hst_08'] >=90) | (df['Paymt_hst_09'] >=90),(df['Paymt_hst_01'] >=90,df['Paymt_hst_02'] >=90,df['Paymt_hst_03'] >=90,df['Paymt_hst_04'] >=90,df['Paymt_hst_05'] >=90,df['Paymt_hst_06'] >=90,df['Paymt_hst_07'] >=90,df['Paymt_hst_08'] >=90,df['Paymt_hst_09'] >=90),0).sum(axis=0)\n",
    "    df['Severe_Delq_L12M'] = np.where((df['Paymt_hst_01'] >=90) | (df['Paymt_hst_02'] >=90) | (df['Paymt_hst_03'] >=90) | (df['Paymt_hst_04'] >=90) | (df['Paymt_hst_05'] >=90) | (df['Paymt_hst_06'] >=90)|(df['Paymt_hst_07'] >=90) | (df['Paymt_hst_08'] >=90) | (df['Paymt_hst_09'] >=90) | (df['Paymt_hst_10'] >=90) | (df['Paymt_hst_11'] >=90) | (df['Paymt_hst_12'] >=90),(df['Paymt_hst_01'] >=90,df['Paymt_hst_02'] >=90,df['Paymt_hst_03'] >=90,df['Paymt_hst_04'] >=90,df['Paymt_hst_05'] >=90,df['Paymt_hst_06'] >=90,df['Paymt_hst_07'] >=90,df['Paymt_hst_08'] >=90,df['Paymt_hst_09'] >=90,df['Paymt_hst_10'] >=90,df['Paymt_hst_11'] >=90,df['Paymt_hst_12'] >=90),0).sum(axis=0)\n",
    "    \n",
    "    # mild delq L 3/6/9/12 flag\n",
    "    df['Mild_Delq_L3M_Flag'] = np.where((df['Paymt_hst_01']>=1) & (df['Paymt_hst_01']<90)|(df['Paymt_hst_02']>=1) & (df['Paymt_hst_02']<90)|(df['Paymt_hst_03']>=1) & (df['Paymt_hst_03']<90),1,0)\n",
    "    df['Mild_Delq_L6M_Flag'] = np.where((df['Paymt_hst_01']>=1) & (df['Paymt_hst_01'] <90) | (df['Paymt_hst_02']>=1) & (df['Paymt_hst_02'] <90) | (df['Paymt_hst_03']>=1) & (df['Paymt_hst_03'] <90) | (df['Paymt_hst_04']>=1) & (df['Paymt_hst_04'] <90) | (df['Paymt_hst_05']>=1) & (df['Paymt_hst_05'] <90) | (df['Paymt_hst_06']>=1) & (df['Paymt_hst_06'] <90),1,0)\n",
    "    df['Mild_Delq_L9M_Flag'] = np.where((df['Paymt_hst_01']>=1) & (df['Paymt_hst_01'] <90) | (df['Paymt_hst_02']>=1) & (df['Paymt_hst_02'] <90) | (df['Paymt_hst_03']>=1) & (df['Paymt_hst_03'] <90) | (df['Paymt_hst_04']>=1) & (df['Paymt_hst_04'] <90) | (df['Paymt_hst_05']>=1) & (df['Paymt_hst_05'] <90) | (df['Paymt_hst_06']>=1) &(df['Paymt_hst_06'] <90)|(df['Paymt_hst_07']>=1) & (df['Paymt_hst_07'] <90) | (df['Paymt_hst_08']>=1) & (df['Paymt_hst_08'] <90) | (df['Paymt_hst_09']>=1) & (df['Paymt_hst_09'] <90),1,0)\n",
    "    df['Mild_Delq_L12M_Flag'] = np.where((df['Paymt_hst_01']>=1) & (df['Paymt_hst_01'] <90) | (df['Paymt_hst_02']>=1) & (df['Paymt_hst_02'] <90) | (df['Paymt_hst_03']>=1) & (df['Paymt_hst_03'] <90) | (df['Paymt_hst_04']>=1) & (df['Paymt_hst_04'] <90) | (df['Paymt_hst_05']>=1) & (df['Paymt_hst_05'] <90) | (df['Paymt_hst_06']>=1) & (df['Paymt_hst_06'] <90)|(df['Paymt_hst_07']>=1) & (df['Paymt_hst_07'] <90) | (df['Paymt_hst_08']>=1) & (df['Paymt_hst_08'] <90) | (df['Paymt_hst_09']>=1) & (df['Paymt_hst_09'] <90) | (df['Paymt_hst_10']>=1) & (df['Paymt_hst_10'] <90) | (df['Paymt_hst_11']>=1) & (df['Paymt_hst_11'] <90) | (df['Paymt_hst_12']>=1) & (df['Paymt_hst_12'] <90),1,0)\n",
    "    \n",
    "    # severe delq L 3/6/9/12 flag\n",
    "    df['Severe_Delq_L3M_Flag'] = np.where((df['Paymt_hst_01']>=90)|(df['Paymt_hst_02']>=90)|(df['Paymt_hst_03']>=90),1,0)\n",
    "    df['Severe_Delq_L6M_Flag'] = np.where((df['Paymt_hst_01'] >=90) | (df['Paymt_hst_02'] >=90) | (df['Paymt_hst_03'] >=90) | (df['Paymt_hst_04'] >=90) | (df['Paymt_hst_05'] >=90) | (df['Paymt_hst_06'] >=90),1,0)\n",
    "    df['Severe_Delq_L9M_Flag'] = np.where((df['Paymt_hst_01'] >=90) | (df['Paymt_hst_02'] >=90) | (df['Paymt_hst_03'] >=90) | (df['Paymt_hst_04'] >=90) | (df['Paymt_hst_05'] >=90) | (df['Paymt_hst_06'] >=90)|(df['Paymt_hst_07'] >=90) | (df['Paymt_hst_08'] >=90) | (df['Paymt_hst_09'] >=90),1,0)\n",
    "    df['Severe_Delq_L12M_Flag'] = np.where((df['Paymt_hst_01'] >=90) | (df['Paymt_hst_02'] >=90) | (df['Paymt_hst_03'] >=90) | (df['Paymt_hst_04'] >=90) | (df['Paymt_hst_05'] >=90) | (df['Paymt_hst_06'] >=90)|(df['Paymt_hst_07'] >=90) | (df['Paymt_hst_08'] >=90) | (df['Paymt_hst_09'] >=90) | (df['Paymt_hst_10'] >=90) | (df['Paymt_hst_11'] >=90) | (df['Paymt_hst_12'] >=90),1,0)\n",
    "    \n",
    "    # formating date columns\n",
    "    df['DateProcessed'] = df['DateProcessed'].fillna(-1)\n",
    "    df['DateProcessed'] = df['DateProcessed'].astype(int)\n",
    "    df['DateProcessed'] = df['DateProcessed'].astype(str)\n",
    "    df['DateProcessed'] = df['DateProcessed'].replace('-1', np.nan)\n",
    "    df['DateProcessed'] =df['DateProcessed'].apply(lambda x: str(x) if not pd.isnull(x) else x)\n",
    "    df['DateProcessed'] =df['DateProcessed'].apply(lambda x: x if not pd.isnull(x) else x)\n",
    "    df['DateProcessed'] =df['DateProcessed'].apply(lambda x: x.zfill(8) if not pd.isnull(x) else x)\n",
    "    df['DateProcessed_new'] =df['DateProcessed'].apply(lambda x : datetime.datetime.strptime(x, '%d%m%Y').strftime('%Y-%m-%d') if not pd.isnull(x) else x)\n",
    "    df['DateProcessed_new'] =df['DateProcessed_new'].apply(lambda x: pd.to_datetime(x) if not pd.isnull(x) else x)\n",
    "    \n",
    "    df['DateClosed'] = df['DateClosed'].fillna(-1)\n",
    "    df['DateClosed'] = df['DateClosed'].astype(int)\n",
    "    df['DateClosed'] = df['DateClosed'].astype(str)\n",
    "    df['DateClosed'] = df['DateClosed'].replace('-1', np.nan)\n",
    "    df['DateClosed'] =df['DateClosed'].apply(lambda x: str(x) if not pd.isnull(x) else x)\n",
    "    df['DateClosed'] =df['DateClosed'].apply(lambda x: x if not pd.isnull(x) else x)\n",
    "    df['DateClosed'] =df['DateClosed'].apply(lambda x: x.zfill(8) if not pd.isnull(x) else x)\n",
    "    df['DateClosed_new'] =df['DateClosed'].apply(lambda x : datetime.datetime.strptime(x, '%d%m%Y').strftime('%Y-%m-%d') if not pd.isnull(x) else x)\n",
    "    df['DateClosed_new'] =df['DateClosed_new'].apply(lambda x: pd.to_datetime(x) if not pd.isnull(x) else x)\n",
    "    \n",
    "    df['DateReported_trades'] = df['DateReported_trades'].fillna(-1)\n",
    "    df['DateReported_trades'] = df['DateReported_trades'].astype(int)\n",
    "    df['DateReported_trades'] = df['DateReported_trades'].astype(str)\n",
    "    df['DateReported_trades'] = df['DateReported_trades'].replace('-1', np.nan)\n",
    "    df['DateReported_trades'] =df['DateReported_trades'].apply(lambda x: str(x) if not pd.isnull(x) else x)\n",
    "    df['DateReported_trades'] =df['DateReported_trades'].apply(lambda x: x if not pd.isnull(x) else x)\n",
    "    df['DateReported_trades'] =df['DateReported_trades'].apply(lambda x: x.zfill(8) if not pd.isnull(x) else x)\n",
    "    df['DateReported_trades_new'] =df['DateReported_trades'].apply(lambda x : datetime.datetime.strptime(x, '%d%m%Y').strftime('%Y-%m-%d') if not pd.isnull(x) else x)\n",
    "    df['DateReported_trades_new'] =df['DateReported_trades_new'].apply(lambda x: pd.to_datetime(x) if not pd.isnull(x) else x)\n",
    "    \n",
    "    df['DateOpenedDisbursed'] = df['DateOpenedDisbursed'].fillna(-1)\n",
    "    df['DateOpenedDisbursed'] = df['DateOpenedDisbursed'].astype(int)\n",
    "    df['DateOpenedDisbursed'] = df['DateOpenedDisbursed'].astype(str)\n",
    "    df['DateOpenedDisbursed'] = df['DateOpenedDisbursed'].replace('-1', np.nan)\n",
    "    df['DateOpenedDisbursed'] =df['DateOpenedDisbursed'].apply(lambda x: str(x) if not pd.isnull(x) else x)\n",
    "    df['DateOpenedDisbursed'] =df['DateOpenedDisbursed'].apply(lambda x: x if not pd.isnull(x) else x)\n",
    "    df['DateOpenedDisbursed'] =df['DateOpenedDisbursed'].apply(lambda x: x.zfill(8) if not pd.isnull(x) else x)\n",
    "    df['DateOpenedDisbursed_new'] =df['DateOpenedDisbursed'].apply(lambda x : datetime.datetime.strptime(x, '%d%m%Y').strftime('%Y-%m-%d') if not pd.isnull(x) else x)\n",
    "    df['DateOpenedDisbursed_new'] =df['DateOpenedDisbursed_new'].apply(lambda x: pd.to_datetime(x) if not pd.isnull(x) else x)\n",
    "    \n",
    "    ## Rollups\n",
    "    \n",
    "    df_rollup = pd.DataFrame()\n",
    "    df_rollup['MemberReference'] =df['MemberReference'].unique()\n",
    "    \n",
    "    df['DateClosed_new_MissInd'] =np.where((np.isnan(df['DateClosed_new'])& pd.notnull(df['DateOpenedDisbursed_new'])) ,0,1)\n",
    "    x1=df[(df['DateClosed_new_MissInd']==0)]\n",
    "    x = x1.groupby(['MemberReference'])['DateClosed_new_MissInd'].count().reset_index()\n",
    "    x = x.rename(columns={'DateClosed_new_MissInd': 'Num_active_open_TL'})\n",
    "    del x1\n",
    "    df_rollup = pd.merge(df_rollup, x, on='MemberReference',  how='left')\n",
    "    del x\n",
    "    \n",
    "    \n",
    "    #DateopenedorDisbursed - not blank \n",
    "    df['DatOpened_Disbursed_new_MissInd'] =np.where(pd.notnull(df['DateOpenedDisbursed_new']),1,0)\n",
    "    \n",
    "    \n",
    "    #Number of Tradelines\n",
    "    x1=df[(df['DatOpened_Disbursed_new_MissInd']==1)]\n",
    "    x = x1.groupby(['MemberReference'])['DatOpened_Disbursed_new_MissInd'].count().reset_index()\n",
    "    x = x.rename(columns={'DatOpened_Disbursed_new_MissInd': 'Num_of_Total_TL'})\n",
    "    del x1\n",
    "    \n",
    "    df_rollup = pd.merge(df_rollup, x, on='MemberReference',  how='left')\n",
    "    del x\n",
    "    \n",
    "    #CIBIL Variables\n",
    "    df['score'] = df['score'].replace('000-1',1)\n",
    "    df['score'] = df['score'].astype(float)\n",
    "    df['CIBIL_Score_MissInd'] =np.where((pd.isnull(df['score'])),0,1)\n",
    "    \n",
    "    #Average CIBIL Score\n",
    "    x1=df[(df['CIBIL_Score_MissInd']==1)]\n",
    "    x = x1.groupby(['MemberReference'])['score'].mean().reset_index()\n",
    "    x = x.rename(columns={'score': 'CIBIL_Score_Avg'})\n",
    "    del x1\n",
    "    df_rollup = pd.merge(df_rollup, x, on='MemberReference',  how='left')\n",
    "    del x\n",
    "    \n",
    "    #Min CIBIL Score\n",
    "    x1=df[(df['CIBIL_Score_MissInd']==1)]\n",
    "    x = x1.groupby(['MemberReference'])['score'].min().reset_index()\n",
    "    x = x.rename(columns={'score': 'CIBIL_Score_Min'})\n",
    "    del x1\n",
    "    \n",
    "    df_rollup = pd.merge(df_rollup, x, on='MemberReference',  how='left')\n",
    "    del x\n",
    "    \n",
    "    #Max CIBIL Score\n",
    "    x1=df[(df['CIBIL_Score_MissInd']==1)]\n",
    "    x = x1.groupby(['MemberReference'])['score'].max().reset_index()\n",
    "    x = x.rename(columns={'score': 'CIBIL_Score_Max'})\n",
    "    del x1\n",
    "    df_rollup = pd.merge(df_rollup, x, on='MemberReference',  how='left')\n",
    "    del x\n",
    "    \n",
    "    # overall outstanding bal\n",
    "    x1=df[(df['DateClosed_new_MissInd']==0)]\n",
    "    x = x1.groupby(['MemberReference'])['CurrentBalance'].sum().reset_index()\n",
    "    x = x.rename(columns={'CurrentBalance': 'Overall_outstanding_Bal'})\n",
    "    del x1\n",
    "    df_rollup = pd.merge(df_rollup, x, on='MemberReference',  how='left')\n",
    "    del x\n",
    "    \n",
    "    # Amount overdue    \n",
    "    df['AmountOverdue']=df['AmountOverdue'].fillna(0)\n",
    "    x = df.groupby(['MemberReference'])['AmountOverdue'].sum().reset_index()\n",
    "    x = x.rename(columns={'AmountOverdue': 'AmountOverdue_Total'})\n",
    "    df_rollup = pd.merge(df_rollup, x, on='MemberReference',  how='left')\n",
    "    del x\n",
    "    \n",
    "    # amount overdue flag\n",
    "    df_rollup['Amount_overdue_flag']= np.where(df_rollup['AmountOverdue_Total']!=0,1,0)\n",
    "    \n",
    "    # Months on bureau\n",
    "    x1 = df.sort_values(by = ['MemberReference','DateReported_trades_new'],ascending = [True,True])\n",
    "    x1 = x1.reset_index()\n",
    "    del x1['index']\n",
    "    x = x1.groupby(['MemberReference','DateProcessed_new'])['DateReported_trades_new'].min().reset_index()\n",
    "    x = x.rename(columns={'DateReported_trades_new': 'Min_DateReported_trades_new'})\n",
    "    del x1\n",
    "    \n",
    "    x['Month_on_bureau']=np.round((x['DateProcessed_new'] -x['Min_DateReported_trades_new'])/np.timedelta64(1,'M'))\n",
    "    y = x[['MemberReference','Month_on_bureau']]\n",
    "    df_rollup = pd.merge(df_rollup, y, on='MemberReference',  how='left')\n",
    "    del x\n",
    "    \n",
    "    x = df.groupby(['MemberReference'])['num_times_Xp_L3M','num_times_Xp_L6M','num_times_Xp_L9M','num_times_Xp_L12M','num_times_30p_L3M','num_times_30p_L6M','num_times_30p_L9M','num_times_30p_L12M','num_times_60p_L3M','num_times_60p_L6M','num_times_60p_L9M','num_times_60p_L12M','num_times_90p_L3M','num_times_90p_L6M','num_times_90p_L9M','num_times_90p_L12M'].max().reset_index()\n",
    "    \n",
    "    df_rollup = pd.merge(df_rollup, x, on='MemberReference',  how='left')\n",
    "    del x\n",
    "    \n",
    "    x = df.groupby(['MemberReference'])['Mild_Delq_L3M','Mild_Delq_L6M','Mild_Delq_L9M','Mild_Delq_L12M','Severe_Delq_L3M','Severe_Delq_L6M','Severe_Delq_L9M','Severe_Delq_L12M'].max().reset_index()\n",
    "    df_rollup = pd.merge(df_rollup, x, on='MemberReference',  how='left')\n",
    "    del x\n",
    "    \n",
    "    x = df.groupby(['MemberReference'])['Mild_Delq_L3M_Flag','Mild_Delq_L6M_Flag','Mild_Delq_L9M_Flag','Mild_Delq_L12M_Flag','Severe_Delq_L3M_Flag','Severe_Delq_L6M_Flag','Severe_Delq_L9M_Flag','Severe_Delq_L12M_Flag'].max().reset_index()\n",
    "    df_rollup = pd.merge(df_rollup, x, on='MemberReference',  how='left')\n",
    "    del x\n",
    "    \n",
    "    x = df.groupby(['MemberReference'])['MAX_DPD_L3M','MAX_DPD_L6M','MAX_DPD_L9M','MAX_DPD_L12M'].max().reset_index()\n",
    "    df_rollup = pd.merge(df_rollup, x, on='MemberReference',  how='left')\n",
    "    del x\n",
    "    \n",
    "    x = df.groupby(['MemberReference'])['X_DPD_L3M_Flag','X_DPD_L6M_Flag','X_DPD_L9M_Flag','X_DPD_L12M_Flag','30p_DPD_L3M_Flag','30p_DPD_L6M_Flag','30p_DPD_L9M_Flag','30p_DPD_L12M_Flag','60p_DPD_L3M_Flag','60p_DPD_L6M_Flag','60p_DPD_L9M_Flag','60p_DPD_L12M_Flag','90p_DPD_L3M_Flag','90p_DPD_L6M_Flag','90p_DPD_L9M_Flag','90p_DPD_L12M_Flag'].max().reset_index()\n",
    "    df_rollup = pd.merge(df_rollup, x, on='MemberReference',  how='left')\n",
    "    del x\n",
    "    \n",
    "    x = df.groupby(['MemberReference'])['Months_since_Last_Deliquent','Months_since_Last_Deliquent_G30','Months_since_Last_Deliquent_G60','Months_since_Last_Deliquent_G90','Months_since_Last_Deliquent_L90'].min().reset_index()\n",
    "    df_rollup = pd.merge(df_rollup, x, on='MemberReference',  how='left')\n",
    "    del x\n",
    "    \n",
    "    df_rollup = df_rollup.add_prefix('BUR_')\n",
    "    df_rollup = df_rollup.rename(columns={'BUR_MemberReference':'INT_SZ_LOAN_ACCOUNT_NO'})\n",
    "    \n",
    "    \n",
    "    return df_rollup"
   ]
  },
  {
   "cell_type": "code",
   "execution_count": 146,
   "metadata": {},
   "outputs": [],
   "source": [
    "#test[\"BUR_Num_active_open_TL\"]"
   ]
  },
  {
   "cell_type": "code",
   "execution_count": 147,
   "metadata": {},
   "outputs": [],
   "source": [
    "Int_rollup_jul19 = df_mom_w_perf_jul19.add_prefix('INT_')"
   ]
  },
  {
   "cell_type": "code",
   "execution_count": 148,
   "metadata": {},
   "outputs": [],
   "source": [
    "Int_rollup_oct19 = df_mom_w_perf_oct19.add_prefix('INT_')"
   ]
  },
  {
   "cell_type": "code",
   "execution_count": 149,
   "metadata": {},
   "outputs": [],
   "source": [
    "Int_rollup_dec19 = df_mom_w_perf_dec19.add_prefix('INT_')"
   ]
  },
  {
   "cell_type": "code",
   "execution_count": 150,
   "metadata": {},
   "outputs": [],
   "source": [
    "Int_w_bur_jul19 = pd.merge(Int_rollup_jul19,bur_rollup(bur_q1), how = \"left\", on = \"INT_SZ_LOAN_ACCOUNT_NO\", indicator = True )"
   ]
  },
  {
   "cell_type": "code",
   "execution_count": 151,
   "metadata": {},
   "outputs": [],
   "source": [
    "Int_w_bur_oct19 = pd.merge(Int_rollup_oct19,bur_rollup(bur_q2), how = \"left\", on = \"INT_SZ_LOAN_ACCOUNT_NO\", indicator = True )"
   ]
  },
  {
   "cell_type": "code",
   "execution_count": 152,
   "metadata": {},
   "outputs": [],
   "source": [
    "Int_w_bur_dec19 = pd.merge(Int_rollup_dec19,bur_rollup(bur_q3), how = \"left\", on = \"INT_SZ_LOAN_ACCOUNT_NO\", indicator = True )"
   ]
  },
  {
   "cell_type": "code",
   "execution_count": 153,
   "metadata": {},
   "outputs": [
    {
     "data": {
      "text/plain": [
       "both          0.809555\n",
       "left_only     0.190445\n",
       "right_only    0.000000\n",
       "Name: _merge, dtype: float64"
      ]
     },
     "execution_count": 153,
     "metadata": {},
     "output_type": "execute_result"
    }
   ],
   "source": [
    "Int_w_bur_jul19['_merge'].value_counts()/Int_w_bur_jul19['_merge'].count()"
   ]
  },
  {
   "cell_type": "code",
   "execution_count": 154,
   "metadata": {},
   "outputs": [
    {
     "data": {
      "text/plain": [
       "both          0.83923\n",
       "left_only     0.16077\n",
       "right_only    0.00000\n",
       "Name: _merge, dtype: float64"
      ]
     },
     "execution_count": 154,
     "metadata": {},
     "output_type": "execute_result"
    }
   ],
   "source": [
    "Int_w_bur_dec19['_merge'].value_counts()/Int_w_bur_dec19['_merge'].count()"
   ]
  },
  {
   "cell_type": "code",
   "execution_count": 155,
   "metadata": {},
   "outputs": [
    {
     "data": {
      "text/plain": [
       "both          0.763396\n",
       "left_only     0.236604\n",
       "right_only    0.000000\n",
       "Name: _merge, dtype: float64"
      ]
     },
     "execution_count": 155,
     "metadata": {},
     "output_type": "execute_result"
    }
   ],
   "source": [
    "Int_w_bur_oct19['_merge'].value_counts()/Int_w_bur_oct19['_merge'].count()"
   ]
  },
  {
   "cell_type": "code",
   "execution_count": 156,
   "metadata": {},
   "outputs": [],
   "source": [
    "Int_w_bur_jul19.drop(\"_merge\",axis =1, inplace = True)\n",
    "Int_w_bur_oct19.drop(\"_merge\",axis =1, inplace = True)\n",
    "Int_w_bur_dec19.drop(\"_merge\",axis =1, inplace = True)\n"
   ]
  },
  {
   "cell_type": "markdown",
   "metadata": {},
   "source": [
    "### Dev & OOT sample creation"
   ]
  },
  {
   "cell_type": "code",
   "execution_count": 157,
   "metadata": {},
   "outputs": [],
   "source": [
    "dev_Jul_oct19 = pd.concat([Int_w_bur_jul19,Int_w_bur_oct19],axis = 0)"
   ]
  },
  {
   "cell_type": "code",
   "execution_count": 158,
   "metadata": {},
   "outputs": [],
   "source": [
    "OOT_dec19 = Int_w_bur_dec19.copy()"
   ]
  },
  {
   "cell_type": "markdown",
   "metadata": {},
   "source": [
    "## Missing value treatment "
   ]
  },
  {
   "cell_type": "code",
   "execution_count": 159,
   "metadata": {},
   "outputs": [],
   "source": [
    "dev_Jul_oct19.fillna(-99999, inplace=True)\n",
    "dev_Jul_oct19.replace(np.inf, -99999, inplace=True)"
   ]
  },
  {
   "cell_type": "code",
   "execution_count": 160,
   "metadata": {},
   "outputs": [],
   "source": [
    "OOT_dec19.fillna(-99999, inplace=True)\n",
    "OOT_dec19.replace(np.inf, -99999, inplace=True)"
   ]
  },
  {
   "cell_type": "markdown",
   "metadata": {},
   "source": [
    "## Retaining only required columns"
   ]
  },
  {
   "cell_type": "code",
   "execution_count": 161,
   "metadata": {},
   "outputs": [],
   "source": [
    "dev_Jul_oct19.rename(columns = {\"INT_xdays_ever_3m\":\"xdays_ever_3m\"},inplace = True)\n",
    "OOT_dec19.rename(columns = {\"INT_xdays_ever_3m\":\"xdays_ever_3m\"}, inplace = True)"
   ]
  },
  {
   "cell_type": "code",
   "execution_count": 168,
   "metadata": {},
   "outputs": [],
   "source": [
    "dev_Jul_oct19_2 = dev_Jul_oct19.loc[:,['INT_Appl_datekey',\n",
    "'INT_MOB',\n",
    "'INT_I_NO_OF_PAID_EMI',\n",
    "'INT_I_NO_OF_OVERDUE_EMI',\n",
    "'INT_I_NO_OF_UNPAID_EMI',\n",
    "'INT_TENOR',\n",
    "'INT_LOAN_AMOUNT',\n",
    "'INT_Times_30p_12m',\n",
    "'INT_Times_60p_12m',\n",
    "'INT_Times_90p_12m',\n",
    "'INT_Times_xdays_12m',\n",
    "'INT_Times_30p_9m',\n",
    "'INT_Times_60p_9m',\n",
    "'INT_Times_90p_9m',\n",
    "'INT_Times_xdays_9m',\n",
    "'INT_Times_30p_6m',\n",
    "'INT_Times_60p_6m',\n",
    "'INT_Times_90p_6m',\n",
    "'INT_Times_xdays_6m',\n",
    "'INT_Times_30p_3m',\n",
    "'INT_Times_60p_3m',\n",
    "'INT_Times_90p_3m',\n",
    "'INT_Times_xdays_3m',\n",
    "'INT_Last_12mths_30p_flag',\n",
    "'INT_Last_12mths_60p_flag',\n",
    "'INT_Last_12mths_90p_flag',\n",
    "'INT_Last_12mths_xdays_flag',\n",
    "'INT_Last_9mths_30p_flag',\n",
    "'INT_Last_9mths_60p_flag',\n",
    "'INT_Last_9mths_90p_flag',\n",
    "'INT_Last_9mths_xdays_flag',\n",
    "'INT_Last_6mths_30p_flag',\n",
    "'INT_Last_6mths_60p_flag',\n",
    "'INT_Last_6mths_90p_flag',\n",
    "'INT_Last_6mths_xdays_flag',\n",
    "'INT_Last_3mths_30p_flag',\n",
    "'INT_Last_3mths_60p_flag',\n",
    "'INT_Last_3mths_90p_flag',\n",
    "'INT_Last_3mths_xdays_flag',\n",
    "'INT_Max_dpd_Last_12m',\n",
    "'INT_Max_dpd_Last_9m',\n",
    "'INT_Max_dpd_Last_6m',\n",
    "'INT_Max_dpd_Last_3m',\n",
    "'INT_Times_late_paymt_12mths',\n",
    "'INT_Times_late_paymt_9mths',\n",
    "'INT_Times_late_paymt_6mths',\n",
    "'INT_Times_late_paymt_3mths',\n",
    "'INT_remaining_tenor',\n",
    "'INT_paid_down_bal_ratio',\n",
    "'INT_tenor_completed',\n",
    "'INT_paymnts_made',\n",
    "'INT_mths_since_30p',\n",
    "'INT_mths_since_60p',\n",
    "'INT_mths_since_90p',\n",
    "'INT_Num_bounce_L3M',\n",
    "'INT_Num_bounce_L6M',\n",
    "'INT_Num_bounce_L9M',\n",
    "'INT_Num_bounce_L12M',\n",
    "'INT_Total_bounces',\n",
    "'INT_perc_bounces',\n",
    "'INT_school_locality',\n",
    "'INT_SCH_BLD_OWN_FLAG',\n",
    "'INT_num_land',\n",
    "'INT_num_build',\n",
    "'INT_land_flag',\n",
    "'INT_building_flag',\n",
    "'INT_both_L_B_flag',\n",
    "'INT_LTV',\n",
    "'BUR_Num_active_open_TL',\n",
    "'BUR_Num_of_Total_TL',\n",
    "'BUR_CIBIL_Score_Avg',\n",
    "'BUR_CIBIL_Score_Min',\n",
    "'BUR_CIBIL_Score_Max',\n",
    "'BUR_Overall_outstanding_Bal',\n",
    "'BUR_AmountOverdue_Total',\n",
    "'BUR_Amount_overdue_flag',\n",
    "'BUR_Month_on_bureau',\n",
    "'BUR_num_times_Xp_L3M',\n",
    "'BUR_num_times_Xp_L6M',\n",
    "'BUR_num_times_Xp_L9M',\n",
    "'BUR_num_times_Xp_L12M',\n",
    "'BUR_num_times_30p_L3M',\n",
    "'BUR_num_times_30p_L6M',\n",
    "'BUR_num_times_30p_L9M',\n",
    "'BUR_num_times_30p_L12M',\n",
    "'BUR_num_times_60p_L3M',\n",
    "'BUR_num_times_60p_L6M',\n",
    "'BUR_num_times_60p_L9M',\n",
    "'BUR_num_times_60p_L12M',\n",
    "'BUR_num_times_90p_L3M',\n",
    "'BUR_num_times_90p_L6M',\n",
    "'BUR_num_times_90p_L9M',\n",
    "'BUR_num_times_90p_L12M',\n",
    "'BUR_Mild_Delq_L3M',\n",
    "'BUR_Mild_Delq_L6M',\n",
    "'BUR_Mild_Delq_L9M',\n",
    "'BUR_Mild_Delq_L12M',\n",
    "'BUR_Severe_Delq_L3M',\n",
    "'BUR_Severe_Delq_L6M',\n",
    "'BUR_Severe_Delq_L9M',\n",
    "'BUR_Severe_Delq_L12M',\n",
    "'BUR_Mild_Delq_L3M_Flag',\n",
    "'BUR_Mild_Delq_L6M_Flag',\n",
    "'BUR_Mild_Delq_L9M_Flag',\n",
    "'BUR_Mild_Delq_L12M_Flag',\n",
    "'BUR_Severe_Delq_L3M_Flag',\n",
    "'BUR_Severe_Delq_L6M_Flag',\n",
    "'BUR_Severe_Delq_L9M_Flag',\n",
    "'BUR_Severe_Delq_L12M_Flag',\n",
    "'BUR_MAX_DPD_L3M',\n",
    "'BUR_MAX_DPD_L6M',\n",
    "'BUR_MAX_DPD_L9M',\n",
    "'BUR_MAX_DPD_L12M',\n",
    "'BUR_X_DPD_L3M_Flag',\n",
    "'BUR_X_DPD_L6M_Flag',\n",
    "'BUR_X_DPD_L9M_Flag',\n",
    "'BUR_X_DPD_L12M_Flag',\n",
    "'BUR_30p_DPD_L3M_Flag',\n",
    "'BUR_30p_DPD_L6M_Flag',\n",
    "'BUR_30p_DPD_L9M_Flag',\n",
    "'BUR_30p_DPD_L12M_Flag',\n",
    "'BUR_60p_DPD_L3M_Flag',\n",
    "'BUR_60p_DPD_L6M_Flag',\n",
    "'BUR_60p_DPD_L9M_Flag',\n",
    "'BUR_60p_DPD_L12M_Flag',\n",
    "'BUR_90p_DPD_L3M_Flag',\n",
    "'BUR_90p_DPD_L6M_Flag',\n",
    "'BUR_90p_DPD_L9M_Flag',\n",
    "'BUR_90p_DPD_L12M_Flag',\n",
    "'BUR_Months_since_Last_Deliquent',\n",
    "'BUR_Months_since_Last_Deliquent_G30',\n",
    "'BUR_Months_since_Last_Deliquent_G60',\n",
    "'BUR_Months_since_Last_Deliquent_G90',\n",
    "'BUR_Months_since_Last_Deliquent_L90',\n",
    "'xdays_ever_3m']]"
   ]
  },
  {
   "cell_type": "code",
   "execution_count": 169,
   "metadata": {},
   "outputs": [],
   "source": [
    "OOT_dec19_2 = OOT_dec19.loc[:,['INT_Appl_datekey',\n",
    "'INT_MOB',\n",
    "'INT_I_NO_OF_PAID_EMI',\n",
    "'INT_I_NO_OF_OVERDUE_EMI',\n",
    "'INT_I_NO_OF_UNPAID_EMI',\n",
    "'INT_TENOR',\n",
    "'INT_LOAN_AMOUNT',\n",
    "'INT_Times_30p_12m',\n",
    "'INT_Times_60p_12m',\n",
    "'INT_Times_90p_12m',\n",
    "'INT_Times_xdays_12m',\n",
    "'INT_Times_30p_9m',\n",
    "'INT_Times_60p_9m',\n",
    "'INT_Times_90p_9m',\n",
    "'INT_Times_xdays_9m',\n",
    "'INT_Times_30p_6m',\n",
    "'INT_Times_60p_6m',\n",
    "'INT_Times_90p_6m',\n",
    "'INT_Times_xdays_6m',\n",
    "'INT_Times_30p_3m',\n",
    "'INT_Times_60p_3m',\n",
    "'INT_Times_90p_3m',\n",
    "'INT_Times_xdays_3m',\n",
    "'INT_Last_12mths_30p_flag',\n",
    "'INT_Last_12mths_60p_flag',\n",
    "'INT_Last_12mths_90p_flag',\n",
    "'INT_Last_12mths_xdays_flag',\n",
    "'INT_Last_9mths_30p_flag',\n",
    "'INT_Last_9mths_60p_flag',\n",
    "'INT_Last_9mths_90p_flag',\n",
    "'INT_Last_9mths_xdays_flag',\n",
    "'INT_Last_6mths_30p_flag',\n",
    "'INT_Last_6mths_60p_flag',\n",
    "'INT_Last_6mths_90p_flag',\n",
    "'INT_Last_6mths_xdays_flag',\n",
    "'INT_Last_3mths_30p_flag',\n",
    "'INT_Last_3mths_60p_flag',\n",
    "'INT_Last_3mths_90p_flag',\n",
    "'INT_Last_3mths_xdays_flag',\n",
    "'INT_Max_dpd_Last_12m',\n",
    "'INT_Max_dpd_Last_9m',\n",
    "'INT_Max_dpd_Last_6m',\n",
    "'INT_Max_dpd_Last_3m',\n",
    "'INT_Times_late_paymt_12mths',\n",
    "'INT_Times_late_paymt_9mths',\n",
    "'INT_Times_late_paymt_6mths',\n",
    "'INT_Times_late_paymt_3mths',\n",
    "'INT_remaining_tenor',\n",
    "'INT_paid_down_bal_ratio',\n",
    "'INT_tenor_completed',\n",
    "'INT_paymnts_made',\n",
    "'INT_mths_since_30p',\n",
    "'INT_mths_since_60p',\n",
    "'INT_mths_since_90p',\n",
    "'INT_Num_bounce_L3M',\n",
    "'INT_Num_bounce_L6M',\n",
    "'INT_Num_bounce_L9M',\n",
    "'INT_Num_bounce_L12M',\n",
    "'INT_Total_bounces',\n",
    "'INT_perc_bounces',\n",
    "'INT_school_locality',\n",
    "'INT_SCH_BLD_OWN_FLAG',\n",
    "'INT_num_land',\n",
    "'INT_num_build',\n",
    "'INT_land_flag',\n",
    "'INT_building_flag',\n",
    "'INT_both_L_B_flag',\n",
    "'INT_LTV',\n",
    "'BUR_Num_active_open_TL',\n",
    "'BUR_Num_of_Total_TL',\n",
    "'BUR_CIBIL_Score_Avg',\n",
    "'BUR_CIBIL_Score_Min',\n",
    "'BUR_CIBIL_Score_Max',\n",
    "'BUR_Overall_outstanding_Bal',\n",
    "'BUR_AmountOverdue_Total',\n",
    "'BUR_Amount_overdue_flag',\n",
    "'BUR_Month_on_bureau',\n",
    "'BUR_num_times_Xp_L3M',\n",
    "'BUR_num_times_Xp_L6M',\n",
    "'BUR_num_times_Xp_L9M',\n",
    "'BUR_num_times_Xp_L12M',\n",
    "'BUR_num_times_30p_L3M',\n",
    "'BUR_num_times_30p_L6M',\n",
    "'BUR_num_times_30p_L9M',\n",
    "'BUR_num_times_30p_L12M',\n",
    "'BUR_num_times_60p_L3M',\n",
    "'BUR_num_times_60p_L6M',\n",
    "'BUR_num_times_60p_L9M',\n",
    "'BUR_num_times_60p_L12M',\n",
    "'BUR_num_times_90p_L3M',\n",
    "'BUR_num_times_90p_L6M',\n",
    "'BUR_num_times_90p_L9M',\n",
    "'BUR_num_times_90p_L12M',\n",
    "'BUR_Mild_Delq_L3M',\n",
    "'BUR_Mild_Delq_L6M',\n",
    "'BUR_Mild_Delq_L9M',\n",
    "'BUR_Mild_Delq_L12M',\n",
    "'BUR_Severe_Delq_L3M',\n",
    "'BUR_Severe_Delq_L6M',\n",
    "'BUR_Severe_Delq_L9M',\n",
    "'BUR_Severe_Delq_L12M',\n",
    "'BUR_Mild_Delq_L3M_Flag',\n",
    "'BUR_Mild_Delq_L6M_Flag',\n",
    "'BUR_Mild_Delq_L9M_Flag',\n",
    "'BUR_Mild_Delq_L12M_Flag',\n",
    "'BUR_Severe_Delq_L3M_Flag',\n",
    "'BUR_Severe_Delq_L6M_Flag',\n",
    "'BUR_Severe_Delq_L9M_Flag',\n",
    "'BUR_Severe_Delq_L12M_Flag',\n",
    "'BUR_MAX_DPD_L3M',\n",
    "'BUR_MAX_DPD_L6M',\n",
    "'BUR_MAX_DPD_L9M',\n",
    "'BUR_MAX_DPD_L12M',\n",
    "'BUR_X_DPD_L3M_Flag',\n",
    "'BUR_X_DPD_L6M_Flag',\n",
    "'BUR_X_DPD_L9M_Flag',\n",
    "'BUR_X_DPD_L12M_Flag',\n",
    "'BUR_30p_DPD_L3M_Flag',\n",
    "'BUR_30p_DPD_L6M_Flag',\n",
    "'BUR_30p_DPD_L9M_Flag',\n",
    "'BUR_30p_DPD_L12M_Flag',\n",
    "'BUR_60p_DPD_L3M_Flag',\n",
    "'BUR_60p_DPD_L6M_Flag',\n",
    "'BUR_60p_DPD_L9M_Flag',\n",
    "'BUR_60p_DPD_L12M_Flag',\n",
    "'BUR_90p_DPD_L3M_Flag',\n",
    "'BUR_90p_DPD_L6M_Flag',\n",
    "'BUR_90p_DPD_L9M_Flag',\n",
    "'BUR_90p_DPD_L12M_Flag',\n",
    "'BUR_Months_since_Last_Deliquent',\n",
    "'BUR_Months_since_Last_Deliquent_G30',\n",
    "'BUR_Months_since_Last_Deliquent_G60',\n",
    "'BUR_Months_since_Last_Deliquent_G90',\n",
    "'BUR_Months_since_Last_Deliquent_L90',\n",
    "'xdays_ever_3m']]"
   ]
  },
  {
   "cell_type": "code",
   "execution_count": 177,
   "metadata": {},
   "outputs": [],
   "source": [
    "dev_Jul_oct19_2['DEV_OOT']='DEV'\n",
    "OOT_dec19_2['DEV_OOT'] = 'OOT'"
   ]
  },
  {
   "cell_type": "code",
   "execution_count": 504,
   "metadata": {},
   "outputs": [],
   "source": [
    "#dev_Jul_oct19_2.to_csv('/home/siddarth/LMS_data/Input_CSV/dev_Jul_oct19_all.csv', index = False)\n",
    "#OOT_dec19_2.to_csv('/home/siddarth/LMS_data/Input_CSV/OOT_dec19_all.csv',index = False)"
   ]
  },
  {
   "cell_type": "markdown",
   "metadata": {},
   "source": [
    "### Adding 30p & 60p perf\n"
   ]
  },
  {
   "cell_type": "code",
   "execution_count": 172,
   "metadata": {},
   "outputs": [],
   "source": [
    "df_30_3 = pd.read_csv(\"D:/Varthana/All_ss_30p_60p_9mths.csv\")"
   ]
  },
  {
   "cell_type": "code",
   "execution_count": 178,
   "metadata": {},
   "outputs": [],
   "source": [
    "dev_Jul_oct19_3 = pd.merge(dev_Jul_oct19_2,df_30_3, left_on = 'INT_Appl_datekey',\n",
    "                          right_on = 'Appl_datekey', how = 'left' ).drop(['Unnamed: 0',\n",
    "                                                                         'SZ_LOAN_ACCOUNT_NO',\n",
    "                                                                          'Snapshot_dt',\n",
    "                                                                         'Appl_datekey'],axis = 1)"
   ]
  },
  {
   "cell_type": "code",
   "execution_count": 179,
   "metadata": {},
   "outputs": [],
   "source": [
    "OOT_dec19_2_3 = pd.merge(OOT_dec19_2,df_30_3, left_on = 'INT_Appl_datekey',\n",
    "                          right_on = 'Appl_datekey', how = 'left' ).drop(['Unnamed: 0',\n",
    "                                                                         'SZ_LOAN_ACCOUNT_NO',\n",
    "                                                                         'Snapshot_dt',\n",
    "                                                                         'Appl_datekey'],axis = 1)"
   ]
  },
  {
   "cell_type": "code",
   "execution_count": 176,
   "metadata": {},
   "outputs": [
    {
     "data": {
      "text/plain": [
       "['INT_Appl_datekey',\n",
       " 'INT_MOB',\n",
       " 'INT_I_NO_OF_PAID_EMI',\n",
       " 'INT_I_NO_OF_OVERDUE_EMI',\n",
       " 'INT_I_NO_OF_UNPAID_EMI',\n",
       " 'INT_TENOR',\n",
       " 'INT_LOAN_AMOUNT',\n",
       " 'INT_Times_30p_12m',\n",
       " 'INT_Times_60p_12m',\n",
       " 'INT_Times_90p_12m',\n",
       " 'INT_Times_xdays_12m',\n",
       " 'INT_Times_30p_9m',\n",
       " 'INT_Times_60p_9m',\n",
       " 'INT_Times_90p_9m',\n",
       " 'INT_Times_xdays_9m',\n",
       " 'INT_Times_30p_6m',\n",
       " 'INT_Times_60p_6m',\n",
       " 'INT_Times_90p_6m',\n",
       " 'INT_Times_xdays_6m',\n",
       " 'INT_Times_30p_3m',\n",
       " 'INT_Times_60p_3m',\n",
       " 'INT_Times_90p_3m',\n",
       " 'INT_Times_xdays_3m',\n",
       " 'INT_Last_12mths_30p_flag',\n",
       " 'INT_Last_12mths_60p_flag',\n",
       " 'INT_Last_12mths_90p_flag',\n",
       " 'INT_Last_12mths_xdays_flag',\n",
       " 'INT_Last_9mths_30p_flag',\n",
       " 'INT_Last_9mths_60p_flag',\n",
       " 'INT_Last_9mths_90p_flag',\n",
       " 'INT_Last_9mths_xdays_flag',\n",
       " 'INT_Last_6mths_30p_flag',\n",
       " 'INT_Last_6mths_60p_flag',\n",
       " 'INT_Last_6mths_90p_flag',\n",
       " 'INT_Last_6mths_xdays_flag',\n",
       " 'INT_Last_3mths_30p_flag',\n",
       " 'INT_Last_3mths_60p_flag',\n",
       " 'INT_Last_3mths_90p_flag',\n",
       " 'INT_Last_3mths_xdays_flag',\n",
       " 'INT_Max_dpd_Last_12m',\n",
       " 'INT_Max_dpd_Last_9m',\n",
       " 'INT_Max_dpd_Last_6m',\n",
       " 'INT_Max_dpd_Last_3m',\n",
       " 'INT_Times_late_paymt_12mths',\n",
       " 'INT_Times_late_paymt_9mths',\n",
       " 'INT_Times_late_paymt_6mths',\n",
       " 'INT_Times_late_paymt_3mths',\n",
       " 'INT_remaining_tenor',\n",
       " 'INT_paid_down_bal_ratio',\n",
       " 'INT_tenor_completed',\n",
       " 'INT_paymnts_made',\n",
       " 'INT_mths_since_30p',\n",
       " 'INT_mths_since_60p',\n",
       " 'INT_mths_since_90p',\n",
       " 'INT_Num_bounce_L3M',\n",
       " 'INT_Num_bounce_L6M',\n",
       " 'INT_Num_bounce_L9M',\n",
       " 'INT_Num_bounce_L12M',\n",
       " 'INT_Total_bounces',\n",
       " 'INT_perc_bounces',\n",
       " 'INT_school_locality',\n",
       " 'INT_SCH_BLD_OWN_FLAG',\n",
       " 'INT_num_land',\n",
       " 'INT_num_build',\n",
       " 'INT_land_flag',\n",
       " 'INT_building_flag',\n",
       " 'INT_both_L_B_flag',\n",
       " 'INT_LTV',\n",
       " 'BUR_Num_active_open_TL',\n",
       " 'BUR_Num_of_Total_TL',\n",
       " 'BUR_CIBIL_Score_Avg',\n",
       " 'BUR_CIBIL_Score_Min',\n",
       " 'BUR_CIBIL_Score_Max',\n",
       " 'BUR_Overall_outstanding_Bal',\n",
       " 'BUR_AmountOverdue_Total',\n",
       " 'BUR_Amount_overdue_flag',\n",
       " 'BUR_Month_on_bureau',\n",
       " 'BUR_num_times_Xp_L3M',\n",
       " 'BUR_num_times_Xp_L6M',\n",
       " 'BUR_num_times_Xp_L9M',\n",
       " 'BUR_num_times_Xp_L12M',\n",
       " 'BUR_num_times_30p_L3M',\n",
       " 'BUR_num_times_30p_L6M',\n",
       " 'BUR_num_times_30p_L9M',\n",
       " 'BUR_num_times_30p_L12M',\n",
       " 'BUR_num_times_60p_L3M',\n",
       " 'BUR_num_times_60p_L6M',\n",
       " 'BUR_num_times_60p_L9M',\n",
       " 'BUR_num_times_60p_L12M',\n",
       " 'BUR_num_times_90p_L3M',\n",
       " 'BUR_num_times_90p_L6M',\n",
       " 'BUR_num_times_90p_L9M',\n",
       " 'BUR_num_times_90p_L12M',\n",
       " 'BUR_Mild_Delq_L3M',\n",
       " 'BUR_Mild_Delq_L6M',\n",
       " 'BUR_Mild_Delq_L9M',\n",
       " 'BUR_Mild_Delq_L12M',\n",
       " 'BUR_Severe_Delq_L3M',\n",
       " 'BUR_Severe_Delq_L6M',\n",
       " 'BUR_Severe_Delq_L9M',\n",
       " 'BUR_Severe_Delq_L12M',\n",
       " 'BUR_Mild_Delq_L3M_Flag',\n",
       " 'BUR_Mild_Delq_L6M_Flag',\n",
       " 'BUR_Mild_Delq_L9M_Flag',\n",
       " 'BUR_Mild_Delq_L12M_Flag',\n",
       " 'BUR_Severe_Delq_L3M_Flag',\n",
       " 'BUR_Severe_Delq_L6M_Flag',\n",
       " 'BUR_Severe_Delq_L9M_Flag',\n",
       " 'BUR_Severe_Delq_L12M_Flag',\n",
       " 'BUR_MAX_DPD_L3M',\n",
       " 'BUR_MAX_DPD_L6M',\n",
       " 'BUR_MAX_DPD_L9M',\n",
       " 'BUR_MAX_DPD_L12M',\n",
       " 'BUR_X_DPD_L3M_Flag',\n",
       " 'BUR_X_DPD_L6M_Flag',\n",
       " 'BUR_X_DPD_L9M_Flag',\n",
       " 'BUR_X_DPD_L12M_Flag',\n",
       " 'BUR_30p_DPD_L3M_Flag',\n",
       " 'BUR_30p_DPD_L6M_Flag',\n",
       " 'BUR_30p_DPD_L9M_Flag',\n",
       " 'BUR_30p_DPD_L12M_Flag',\n",
       " 'BUR_60p_DPD_L3M_Flag',\n",
       " 'BUR_60p_DPD_L6M_Flag',\n",
       " 'BUR_60p_DPD_L9M_Flag',\n",
       " 'BUR_60p_DPD_L12M_Flag',\n",
       " 'BUR_90p_DPD_L3M_Flag',\n",
       " 'BUR_90p_DPD_L6M_Flag',\n",
       " 'BUR_90p_DPD_L9M_Flag',\n",
       " 'BUR_90p_DPD_L12M_Flag',\n",
       " 'BUR_Months_since_Last_Deliquent',\n",
       " 'BUR_Months_since_Last_Deliquent_G30',\n",
       " 'BUR_Months_since_Last_Deliquent_G60',\n",
       " 'BUR_Months_since_Last_Deliquent_G90',\n",
       " 'BUR_Months_since_Last_Deliquent_L90',\n",
       " 'xdays_ever_3m',\n",
       " 'ever_bad_9_30',\n",
       " 'ever_bad_9_60']"
      ]
     },
     "execution_count": 176,
     "metadata": {},
     "output_type": "execute_result"
    }
   ],
   "source": [
    "list(dev_Jul_oct19_3)"
   ]
  },
  {
   "cell_type": "code",
   "execution_count": 180,
   "metadata": {},
   "outputs": [
    {
     "data": {
      "text/plain": [
       "((6378, 138), (3533, 138))"
      ]
     },
     "execution_count": 180,
     "metadata": {},
     "output_type": "execute_result"
    }
   ],
   "source": [
    "dev_Jul_oct19_3.shape, OOT_dec19_2_3.shape"
   ]
  },
  {
   "cell_type": "code",
   "execution_count": 182,
   "metadata": {},
   "outputs": [
    {
     "data": {
      "text/plain": [
       "(9911, 138)"
      ]
     },
     "execution_count": 182,
     "metadata": {},
     "output_type": "execute_result"
    }
   ],
   "source": [
    "Final_data = pd.concat([dev_Jul_oct19_3,OOT_dec19_2_3])\n",
    "Final_data.shape"
   ]
  },
  {
   "cell_type": "code",
   "execution_count": 184,
   "metadata": {},
   "outputs": [
    {
     "data": {
      "text/html": [
       "<div>\n",
       "<style scoped>\n",
       "    .dataframe tbody tr th:only-of-type {\n",
       "        vertical-align: middle;\n",
       "    }\n",
       "\n",
       "    .dataframe tbody tr th {\n",
       "        vertical-align: top;\n",
       "    }\n",
       "\n",
       "    .dataframe thead th {\n",
       "        text-align: right;\n",
       "    }\n",
       "</style>\n",
       "<table border=\"1\" class=\"dataframe\">\n",
       "  <thead>\n",
       "    <tr style=\"text-align: right;\">\n",
       "      <th></th>\n",
       "      <th>INT_MOB</th>\n",
       "      <th>INT_TENOR</th>\n",
       "      <th>TENOR_COMPLETED</th>\n",
       "    </tr>\n",
       "  </thead>\n",
       "  <tbody>\n",
       "    <tr>\n",
       "      <th>0</th>\n",
       "      <td>20.0</td>\n",
       "      <td>60.0</td>\n",
       "      <td>0.333333</td>\n",
       "    </tr>\n",
       "    <tr>\n",
       "      <th>1</th>\n",
       "      <td>23.0</td>\n",
       "      <td>36.0</td>\n",
       "      <td>0.638889</td>\n",
       "    </tr>\n",
       "    <tr>\n",
       "      <th>2</th>\n",
       "      <td>21.0</td>\n",
       "      <td>60.0</td>\n",
       "      <td>0.350000</td>\n",
       "    </tr>\n",
       "    <tr>\n",
       "      <th>3</th>\n",
       "      <td>22.0</td>\n",
       "      <td>60.0</td>\n",
       "      <td>0.366667</td>\n",
       "    </tr>\n",
       "    <tr>\n",
       "      <th>4</th>\n",
       "      <td>22.0</td>\n",
       "      <td>36.0</td>\n",
       "      <td>0.611111</td>\n",
       "    </tr>\n",
       "  </tbody>\n",
       "</table>\n",
       "</div>"
      ],
      "text/plain": [
       "   INT_MOB  INT_TENOR  TENOR_COMPLETED\n",
       "0     20.0       60.0         0.333333\n",
       "1     23.0       36.0         0.638889\n",
       "2     21.0       60.0         0.350000\n",
       "3     22.0       60.0         0.366667\n",
       "4     22.0       36.0         0.611111"
      ]
     },
     "execution_count": 184,
     "metadata": {},
     "output_type": "execute_result"
    }
   ],
   "source": [
    "Final_data['TENOR_COMPLETED'] = Final_data['INT_MOB']/Final_data['INT_TENOR']\n",
    "Final_data[['INT_MOB','INT_TENOR','TENOR_COMPLETED']].head()"
   ]
  },
  {
   "cell_type": "code",
   "execution_count": 188,
   "metadata": {},
   "outputs": [
    {
     "data": {
      "text/html": [
       "<div>\n",
       "<style scoped>\n",
       "    .dataframe tbody tr th:only-of-type {\n",
       "        vertical-align: middle;\n",
       "    }\n",
       "\n",
       "    .dataframe tbody tr th {\n",
       "        vertical-align: top;\n",
       "    }\n",
       "\n",
       "    .dataframe thead th {\n",
       "        text-align: right;\n",
       "    }\n",
       "</style>\n",
       "<table border=\"1\" class=\"dataframe\">\n",
       "  <thead>\n",
       "    <tr style=\"text-align: right;\">\n",
       "      <th></th>\n",
       "      <th>INT_both_L_B_flag</th>\n",
       "      <th>INT_land_flag</th>\n",
       "      <th>INT_building_flag</th>\n",
       "      <th>PROPERTY_TYPE</th>\n",
       "    </tr>\n",
       "  </thead>\n",
       "  <tbody>\n",
       "    <tr>\n",
       "      <th>0</th>\n",
       "      <td>-99999.0</td>\n",
       "      <td>-99999.0</td>\n",
       "      <td>-99999.0</td>\n",
       "      <td>0</td>\n",
       "    </tr>\n",
       "    <tr>\n",
       "      <th>1</th>\n",
       "      <td>-99999.0</td>\n",
       "      <td>-99999.0</td>\n",
       "      <td>-99999.0</td>\n",
       "      <td>0</td>\n",
       "    </tr>\n",
       "    <tr>\n",
       "      <th>2</th>\n",
       "      <td>-99999.0</td>\n",
       "      <td>-99999.0</td>\n",
       "      <td>-99999.0</td>\n",
       "      <td>0</td>\n",
       "    </tr>\n",
       "    <tr>\n",
       "      <th>3</th>\n",
       "      <td>-99999.0</td>\n",
       "      <td>-99999.0</td>\n",
       "      <td>-99999.0</td>\n",
       "      <td>0</td>\n",
       "    </tr>\n",
       "    <tr>\n",
       "      <th>4</th>\n",
       "      <td>-99999.0</td>\n",
       "      <td>-99999.0</td>\n",
       "      <td>-99999.0</td>\n",
       "      <td>0</td>\n",
       "    </tr>\n",
       "  </tbody>\n",
       "</table>\n",
       "</div>"
      ],
      "text/plain": [
       "   INT_both_L_B_flag  INT_land_flag  INT_building_flag  PROPERTY_TYPE\n",
       "0           -99999.0       -99999.0           -99999.0              0\n",
       "1           -99999.0       -99999.0           -99999.0              0\n",
       "2           -99999.0       -99999.0           -99999.0              0\n",
       "3           -99999.0       -99999.0           -99999.0              0\n",
       "4           -99999.0       -99999.0           -99999.0              0"
      ]
     },
     "execution_count": 188,
     "metadata": {},
     "output_type": "execute_result"
    }
   ],
   "source": [
    "Final_data['PROPERTY_TYPE'] = np.where(Final_data['INT_both_L_B_flag']>0,3,\n",
    "                            np.where(Final_data['INT_land_flag']>0,2,\n",
    "                            np.where(Final_data['INT_building_flag']>0,1,0)))\n",
    "Final_data[['INT_both_L_B_flag','INT_land_flag','INT_building_flag','PROPERTY_TYPE']].head()"
   ]
  },
  {
   "cell_type": "code",
   "execution_count": 190,
   "metadata": {},
   "outputs": [
    {
     "data": {
      "text/plain": [
       "(9911, 140)"
      ]
     },
     "execution_count": 190,
     "metadata": {},
     "output_type": "execute_result"
    }
   ],
   "source": [
    "Final_data.shape"
   ]
  },
  {
   "cell_type": "code",
   "execution_count": 191,
   "metadata": {},
   "outputs": [],
   "source": [
    "Final_data.to_csv('D:/Varthana/Final_Data_Dev_OOT_V1.csv', index = False)\n",
    "#dev_Jul_oct19_3.to_csv('D:/Varthana/dev_Jul_oct19_all_v5.csv', index = False)\n",
    "#OOT_dec19_2_3.to_csv('D:/Varthana/OOT_dec19_all_v5.csv',index = False)"
   ]
  },
  {
   "cell_type": "code",
   "execution_count": null,
   "metadata": {},
   "outputs": [],
   "source": []
  }
 ],
 "metadata": {
  "kernelspec": {
   "display_name": "Python 3",
   "language": "python",
   "name": "python3"
  },
  "language_info": {
   "codemirror_mode": {
    "name": "ipython",
    "version": 3
   },
   "file_extension": ".py",
   "mimetype": "text/x-python",
   "name": "python",
   "nbconvert_exporter": "python",
   "pygments_lexer": "ipython3",
   "version": "3.8.3"
  }
 },
 "nbformat": 4,
 "nbformat_minor": 4
}
