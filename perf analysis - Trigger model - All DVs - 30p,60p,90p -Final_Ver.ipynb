{
 "cells": [
  {
   "cell_type": "code",
   "execution_count": 1,
   "metadata": {},
   "outputs": [],
   "source": [
    "import pandas as pd\n",
    "import numpy as np \n",
    "from datetime import date\n",
    "from dateutil.relativedelta import relativedelta\n",
    "from pandas.tseries.offsets import MonthEnd\n",
    "from functools import reduce\n",
    "\n",
    "import warnings\n",
    "warnings.filterwarnings(\"ignore\")"
   ]
  },
  {
   "cell_type": "markdown",
   "metadata": {},
   "source": [
    "### import MoM data"
   ]
  },
  {
   "cell_type": "code",
   "execution_count": 5,
   "metadata": {},
   "outputs": [],
   "source": [
    "df_mom = pd.read_csv('D:/Varthana/MOM_DATA_28-Sep-20.csv')"
   ]
  },
  {
   "cell_type": "markdown",
   "metadata": {},
   "source": [
    "##### Convert data variable to date format"
   ]
  },
  {
   "cell_type": "code",
   "execution_count": 7,
   "metadata": {},
   "outputs": [],
   "source": [
    "df_mom['DT_BUSINESSDATE'] = pd.to_datetime(df_mom['DT_BUSINESSDATE'])\n",
    "df_mom['DT_INSTALLMENTDUE'] = pd.to_datetime(df_mom['DT_INSTALLMENTDUE'])\n",
    "df_mom['DT_LAST_PAYMENT'] = pd.to_datetime(df_mom['DT_LAST_PAYMENT'])\n",
    "df_mom['DT_CREATED'] = pd.to_datetime(df_mom['DT_CREATED'])\n",
    "df_mom['DT_LAST_UPDATE'] = pd.to_datetime(df_mom['DT_LAST_UPDATE'])\n"
   ]
  },
  {
   "cell_type": "markdown",
   "metadata": {},
   "source": [
    "### Adding disb date to MoM data"
   ]
  },
  {
   "cell_type": "code",
   "execution_count": 9,
   "metadata": {},
   "outputs": [],
   "source": [
    "LMS_det_all = pd.read_csv('D:/Varthana/LMS_DETAILS_11-Sep-20.csv')"
   ]
  },
  {
   "cell_type": "code",
   "execution_count": 12,
   "metadata": {},
   "outputs": [],
   "source": [
    "LMS_det_all_1 = pd.DataFrame(LMS_det_all[['LOAN_ID','FIRST_DISB_DATE']])"
   ]
  },
  {
   "cell_type": "code",
   "execution_count": 13,
   "metadata": {},
   "outputs": [],
   "source": [
    "LMS_det_all_1['FIRST_DISB_DATE'] = pd.to_datetime(LMS_det_all_1['FIRST_DISB_DATE'])"
   ]
  },
  {
   "cell_type": "code",
   "execution_count": 14,
   "metadata": {},
   "outputs": [],
   "source": [
    "df_mom_2  = pd.merge(df_mom, LMS_det_all_1,how=\"left\",left_on=\"SZ_LOAN_ACCOUNT_NO\", right_on=\"LOAN_ID\")"
   ]
  },
  {
   "cell_type": "code",
   "execution_count": 15,
   "metadata": {},
   "outputs": [
    {
     "data": {
      "text/plain": [
       "['PUR7108U',\n",
       " 'S18BLR-BLR-002142',\n",
       " 'S19NAS-NAS-007192',\n",
       " 'S20NAG-GON-013978',\n",
       " 'U18HYD-HYD-000835']"
      ]
     },
     "execution_count": 15,
     "metadata": {},
     "output_type": "execute_result"
    }
   ],
   "source": [
    "## disb date not available\n",
    "list(df_mom_2[df_mom_2['FIRST_DISB_DATE'].isnull()]['SZ_LOAN_ACCOUNT_NO'].unique())"
   ]
  },
  {
   "cell_type": "markdown",
   "metadata": {},
   "source": [
    "#### Filter and retain only [0-30] DPD accounts for snapshots"
   ]
  },
  {
   "cell_type": "code",
   "execution_count": 16,
   "metadata": {},
   "outputs": [],
   "source": [
    "# df_mom_0_30 = df_mom_2[(df_mom_2['I_DPD'] >=0) & (df_mom_2['I_DPD'] <=29) ]"
   ]
  },
  {
   "cell_type": "code",
   "execution_count": 17,
   "metadata": {},
   "outputs": [],
   "source": [
    "df_mom_0_30 = df_mom_2"
   ]
  },
  {
   "cell_type": "markdown",
   "metadata": {},
   "source": [
    "#### Retain only Dec'19, Sep'19, Jun'19, Mar'19 Snapshots for analysis"
   ]
  },
  {
   "cell_type": "code",
   "execution_count": 92,
   "metadata": {},
   "outputs": [],
   "source": [
    "bus_dates = ['2019-07-31']\n",
    "    #'2020-04-30', '2020-01-31','2019-07-31','2019-09-30','2019-10-31','2019-12-31']\n",
    "# df_mom_0_30['DT_BUSINESSDATE'].head()"
   ]
  },
  {
   "cell_type": "code",
   "execution_count": 93,
   "metadata": {},
   "outputs": [],
   "source": [
    "df_mom_4_snaps = df_mom_0_30[df_mom_0_30['DT_BUSINESSDATE'].isin(bus_dates)]"
   ]
  },
  {
   "cell_type": "code",
   "execution_count": 95,
   "metadata": {},
   "outputs": [
    {
     "data": {
      "text/plain": [
       "2019-07-31    4609\n",
       "Name: DT_BUSINESSDATE, dtype: int64"
      ]
     },
     "execution_count": 95,
     "metadata": {},
     "output_type": "execute_result"
    }
   ],
   "source": [
    "df_mom_4_snaps['DT_BUSINESSDATE'].value_counts()"
   ]
  },
  {
   "cell_type": "code",
   "execution_count": 24,
   "metadata": {},
   "outputs": [
    {
     "data": {
      "text/plain": [
       "715"
      ]
     },
     "execution_count": 24,
     "metadata": {},
     "output_type": "execute_result"
    }
   ],
   "source": [
    "df_mom_4_snaps[\"I_DPD\"].max()"
   ]
  },
  {
   "cell_type": "markdown",
   "metadata": {},
   "source": [
    "### MoM data for perf - post Earliest Snapshot"
   ]
  },
  {
   "cell_type": "code",
   "execution_count": 25,
   "metadata": {},
   "outputs": [],
   "source": [
    "df_perf = df_mom_2[df_mom_2['DT_BUSINESSDATE'] >=min(bus_dates)]"
   ]
  },
  {
   "cell_type": "markdown",
   "metadata": {},
   "source": [
    "### N-Mob perf creation WIP"
   ]
  },
  {
   "cell_type": "code",
   "execution_count": 26,
   "metadata": {},
   "outputs": [],
   "source": [
    "accts_dat = pd.DataFrame(df_mom_4_snaps[['SZ_LOAN_ACCOUNT_NO','DT_BUSINESSDATE']])\n",
    "accts_dat.reset_index(inplace=True,drop=True)"
   ]
  },
  {
   "cell_type": "code",
   "execution_count": 27,
   "metadata": {},
   "outputs": [],
   "source": [
    "accts_dat_1  = accts_dat.rename(columns = {\"DT_BUSINESSDATE\": \"Snapshot_dt\"})"
   ]
  },
  {
   "cell_type": "code",
   "execution_count": 29,
   "metadata": {},
   "outputs": [
    {
     "data": {
      "text/plain": [
       "5891"
      ]
     },
     "execution_count": 29,
     "metadata": {},
     "output_type": "execute_result"
    }
   ],
   "source": [
    "accts_dat_1['SZ_LOAN_ACCOUNT_NO'].nunique()"
   ]
  },
  {
   "cell_type": "code",
   "execution_count": 30,
   "metadata": {},
   "outputs": [
    {
     "data": {
      "text/plain": [
       "2020-04-30    5201\n",
       "2020-01-31    5082\n",
       "2019-12-31    5053\n",
       "2019-10-31    4994\n",
       "2019-09-30    4894\n",
       "2019-07-31    4609\n",
       "Name: Snapshot_dt, dtype: int64"
      ]
     },
     "execution_count": 30,
     "metadata": {},
     "output_type": "execute_result"
    }
   ],
   "source": [
    "accts_dat_1['Snapshot_dt'].value_counts()"
   ]
  },
  {
   "cell_type": "code",
   "execution_count": 31,
   "metadata": {},
   "outputs": [],
   "source": [
    "accts_dat_1['end_date'] = pd.to_datetime(accts_dat_1['Snapshot_dt'], format=\"%Y%m\") + MonthEnd(3)"
   ]
  },
  {
   "cell_type": "markdown",
   "metadata": {},
   "source": [
    "###### perf 3Months merge"
   ]
  },
  {
   "cell_type": "code",
   "execution_count": 33,
   "metadata": {},
   "outputs": [],
   "source": [
    "perf_merge = pd.merge(accts_dat_1,df_mom_2, on='SZ_LOAN_ACCOUNT_NO' )"
   ]
  },
  {
   "cell_type": "code",
   "execution_count": 34,
   "metadata": {},
   "outputs": [],
   "source": [
    "perf_merge_2 = perf_merge[(perf_merge['DT_BUSINESSDATE'] <= perf_merge['end_date']) & \n",
    "                         (perf_merge['DT_BUSINESSDATE'] > perf_merge['Snapshot_dt'])]"
   ]
  },
  {
   "cell_type": "code",
   "execution_count": 35,
   "metadata": {},
   "outputs": [],
   "source": [
    "difflist = np.setdiff1d(perf_merge['SZ_LOAN_ACCOUNT_NO'].unique(),\n",
    "                        perf_merge_2['SZ_LOAN_ACCOUNT_NO'].unique())\n",
    "# difflist"
   ]
  },
  {
   "cell_type": "code",
   "execution_count": 37,
   "metadata": {},
   "outputs": [],
   "source": [
    "perf_merge_3 = perf_merge_2[['SZ_LOAN_ACCOUNT_NO',\n",
    "                             'Snapshot_dt',\n",
    "                             'DT_BUSINESSDATE',\n",
    "                            'I_DPD']]"
   ]
  },
  {
   "cell_type": "code",
   "execution_count": 38,
   "metadata": {},
   "outputs": [],
   "source": [
    "perf_merge_3['bad_30p'] = np.where(perf_merge_3['I_DPD'] >= 30,1,0)"
   ]
  },
  {
   "cell_type": "code",
   "execution_count": 39,
   "metadata": {},
   "outputs": [],
   "source": [
    "perf_merge_4 = perf_merge_3.groupby(['SZ_LOAN_ACCOUNT_NO','Snapshot_dt']).agg(ever_30p = (\"bad_30p\",\"max\"))\n"
   ]
  },
  {
   "cell_type": "code",
   "execution_count": 40,
   "metadata": {},
   "outputs": [
    {
     "data": {
      "text/html": [
       "<div>\n",
       "<style scoped>\n",
       "    .dataframe tbody tr th:only-of-type {\n",
       "        vertical-align: middle;\n",
       "    }\n",
       "\n",
       "    .dataframe tbody tr th {\n",
       "        vertical-align: top;\n",
       "    }\n",
       "\n",
       "    .dataframe thead th {\n",
       "        text-align: right;\n",
       "    }\n",
       "</style>\n",
       "<table border=\"1\" class=\"dataframe\">\n",
       "  <thead>\n",
       "    <tr style=\"text-align: right;\">\n",
       "      <th></th>\n",
       "      <th>SZ_LOAN_ACCOUNT_NO</th>\n",
       "      <th>Snapshot_dt</th>\n",
       "      <th>ever_30p</th>\n",
       "    </tr>\n",
       "  </thead>\n",
       "  <tbody>\n",
       "    <tr>\n",
       "      <th>0</th>\n",
       "      <td>AGR07934S</td>\n",
       "      <td>2019-07-31</td>\n",
       "      <td>0</td>\n",
       "    </tr>\n",
       "    <tr>\n",
       "      <th>1</th>\n",
       "      <td>AGR07934S</td>\n",
       "      <td>2019-09-30</td>\n",
       "      <td>0</td>\n",
       "    </tr>\n",
       "    <tr>\n",
       "      <th>2</th>\n",
       "      <td>AGR07934S</td>\n",
       "      <td>2019-10-31</td>\n",
       "      <td>0</td>\n",
       "    </tr>\n",
       "    <tr>\n",
       "      <th>3</th>\n",
       "      <td>AGR07934S</td>\n",
       "      <td>2019-12-31</td>\n",
       "      <td>0</td>\n",
       "    </tr>\n",
       "    <tr>\n",
       "      <th>4</th>\n",
       "      <td>AGR07934S</td>\n",
       "      <td>2020-01-31</td>\n",
       "      <td>0</td>\n",
       "    </tr>\n",
       "  </tbody>\n",
       "</table>\n",
       "</div>"
      ],
      "text/plain": [
       "  SZ_LOAN_ACCOUNT_NO Snapshot_dt  ever_30p\n",
       "0          AGR07934S  2019-07-31         0\n",
       "1          AGR07934S  2019-09-30         0\n",
       "2          AGR07934S  2019-10-31         0\n",
       "3          AGR07934S  2019-12-31         0\n",
       "4          AGR07934S  2020-01-31         0"
      ]
     },
     "execution_count": 40,
     "metadata": {},
     "output_type": "execute_result"
    }
   ],
   "source": [
    "perf_merge_5 = perf_merge_4.reset_index()\n",
    "perf_merge_5.head()"
   ]
  },
  {
   "cell_type": "code",
   "execution_count": 41,
   "metadata": {},
   "outputs": [
    {
     "data": {
      "text/plain": [
       "2020-04-30    5179\n",
       "2020-01-31    5002\n",
       "2019-12-31    4979\n",
       "2019-10-31    4906\n",
       "2019-09-30    4800\n",
       "2019-07-31    4526\n",
       "Name: Snapshot_dt, dtype: int64"
      ]
     },
     "execution_count": 41,
     "metadata": {},
     "output_type": "execute_result"
    }
   ],
   "source": [
    "perf_merge_5['Snapshot_dt'].value_counts()"
   ]
  },
  {
   "cell_type": "markdown",
   "metadata": {},
   "source": [
    "### function to get bad rates"
   ]
  },
  {
   "cell_type": "code",
   "execution_count": 43,
   "metadata": {},
   "outputs": [],
   "source": [
    "accounts_data_cop = accts_dat_1.drop('end_date',axis=1)"
   ]
  },
  {
   "cell_type": "code",
   "execution_count": 45,
   "metadata": {},
   "outputs": [],
   "source": [
    "\n",
    "def bad_rate(df,perf_m,bad_def):\n",
    "    df['end_date'] = pd.to_datetime(df['Snapshot_dt'], format=\"%Y%m\") + MonthEnd(perf_m)\n",
    "    perf_merge = pd.merge(df,df_mom_2, on='SZ_LOAN_ACCOUNT_NO' )\n",
    "    perf_merge_2 = perf_merge[(perf_merge['DT_BUSINESSDATE'] <= perf_merge['end_date']) & \n",
    "                             (perf_merge['DT_BUSINESSDATE'] > perf_merge['Snapshot_dt'])]\n",
    "    \n",
    "    perf_merge_3 = perf_merge_2[['SZ_LOAN_ACCOUNT_NO',\n",
    "                                 'Snapshot_dt',\n",
    "                                 'DT_BUSINESSDATE',\n",
    "                                'I_DPD']]\n",
    "    perf_merge_3['bad'] = np.where(perf_merge_3['I_DPD'] >= bad_def,1,0)\n",
    "    perf_merge_4 = perf_merge_3.groupby(['SZ_LOAN_ACCOUNT_NO','Snapshot_dt']).agg(ever_bad = (\"bad\",\"max\"))\n",
    "    perf_merge_5 = perf_merge_4.reset_index()\n",
    "    print(perf_m,\"-\",bad_def,\"-\",perf_merge_5.shape)\n",
    "#     print(perf_merge_5.shape)\n",
    "    \n",
    "    return perf_merge_5\n",
    "    "
   ]
  },
  {
   "cell_type": "code",
   "execution_count": 46,
   "metadata": {},
   "outputs": [
    {
     "name": "stdout",
     "output_type": "stream",
     "text": [
      "12 - 30 - (29392, 3)\n"
     ]
    }
   ],
   "source": [
    "bad_data = bad_rate(accounts_data_cop,12, 30)"
   ]
  },
  {
   "cell_type": "code",
   "execution_count": 47,
   "metadata": {},
   "outputs": [],
   "source": [
    "#### bad 12 - 30+ \n",
    "# bad_data.to_csv('/home/siddarth/LMS_data/Bad_12_30p_v1.csv')"
   ]
  },
  {
   "cell_type": "code",
   "execution_count": 48,
   "metadata": {},
   "outputs": [
    {
     "data": {
      "text/plain": [
       "2020-04-30    5179\n",
       "2020-01-31    5002\n",
       "2019-12-31    4979\n",
       "2019-10-31    4906\n",
       "2019-09-30    4800\n",
       "2019-07-31    4526\n",
       "Name: Snapshot_dt, dtype: int64"
      ]
     },
     "execution_count": 48,
     "metadata": {},
     "output_type": "execute_result"
    }
   ],
   "source": [
    "bad_data['Snapshot_dt'].value_counts()\n"
   ]
  },
  {
   "cell_type": "code",
   "execution_count": 50,
   "metadata": {},
   "outputs": [
    {
     "name": "stdout",
     "output_type": "stream",
     "text": [
      "3 - 30 - (29392, 3)\n"
     ]
    }
   ],
   "source": [
    "bad_data_3_30 = bad_rate(accounts_data_cop,3, 30)"
   ]
  },
  {
   "cell_type": "code",
   "execution_count": 51,
   "metadata": {},
   "outputs": [
    {
     "name": "stdout",
     "output_type": "stream",
     "text": [
      "6 - 30 - (29392, 3)\n"
     ]
    }
   ],
   "source": [
    "bad_data_6_30 = bad_rate(accounts_data_cop,6, 30)"
   ]
  },
  {
   "cell_type": "markdown",
   "metadata": {},
   "source": [
    "### Bad rates for bureau sync snapshots "
   ]
  },
  {
   "cell_type": "code",
   "execution_count": 63,
   "metadata": {},
   "outputs": [
    {
     "name": "stdout",
     "output_type": "stream",
     "text": [
      "3 - 30 - (29392, 3)\n",
      "3 - 60 - (29392, 3)\n",
      "3 - 90 - (29392, 3)\n",
      "4 - 30 - (29392, 3)\n",
      "4 - 60 - (29392, 3)\n",
      "4 - 90 - (29392, 3)\n",
      "5 - 30 - (29392, 3)\n",
      "5 - 60 - (29392, 3)\n",
      "5 - 90 - (29392, 3)\n",
      "6 - 30 - (29392, 3)\n",
      "6 - 60 - (29392, 3)\n",
      "6 - 90 - (29392, 3)\n",
      "7 - 30 - (29392, 3)\n",
      "7 - 60 - (29392, 3)\n",
      "7 - 90 - (29392, 3)\n",
      "8 - 30 - (29392, 3)\n",
      "8 - 60 - (29392, 3)\n",
      "8 - 90 - (29392, 3)\n",
      "9 - 30 - (29392, 3)\n",
      "9 - 60 - (29392, 3)\n",
      "9 - 90 - (29392, 3)\n"
     ]
    }
   ],
   "source": [
    "bad_data_3_30 = bad_rate(accounts_data_cop,3, 30)\n",
    "bad_data_3_60 = bad_rate(accounts_data_cop,3, 60)\n",
    "bad_data_3_90 = bad_rate(accounts_data_cop,3, 90)\n",
    "\n",
    "bad_data_4_30 = bad_rate(accounts_data_cop,4, 30)\n",
    "bad_data_4_60 = bad_rate(accounts_data_cop,4, 60)\n",
    "bad_data_4_90 = bad_rate(accounts_data_cop,4, 90)\n",
    "\n",
    "bad_data_5_30 = bad_rate(accounts_data_cop,5, 30)\n",
    "bad_data_5_60 = bad_rate(accounts_data_cop,5, 60)\n",
    "bad_data_5_90 = bad_rate(accounts_data_cop,5, 90)\n",
    "\n",
    "bad_data_6_30 = bad_rate(accounts_data_cop,6, 30)\n",
    "bad_data_6_60 = bad_rate(accounts_data_cop,6, 60)\n",
    "bad_data_6_90 = bad_rate(accounts_data_cop,6, 90)\n",
    "\n",
    "bad_data_7_30 = bad_rate(accounts_data_cop,7, 30)\n",
    "bad_data_7_60 = bad_rate(accounts_data_cop,7, 60)\n",
    "bad_data_7_90 = bad_rate(accounts_data_cop,7, 90)\n",
    "\n",
    "bad_data_8_30 = bad_rate(accounts_data_cop,8, 30)\n",
    "bad_data_8_60 = bad_rate(accounts_data_cop,8, 60)\n",
    "bad_data_8_90 = bad_rate(accounts_data_cop,8, 90)\n",
    "\n",
    "bad_data_9_30 = bad_rate(accounts_data_cop,9, 30)\n",
    "bad_data_9_60 = bad_rate(accounts_data_cop,9, 60)\n",
    "bad_data_9_90 = bad_rate(accounts_data_cop,9, 90)"
   ]
  },
  {
   "cell_type": "code",
   "execution_count": 64,
   "metadata": {},
   "outputs": [],
   "source": [
    "bad_data_3_30_v2 = bad_data_3_30.rename(columns = {'ever_bad':'ever_bad_3_30'})\n",
    "bad_data_3_60_v2 = bad_data_3_60.rename(columns = {'ever_bad':'ever_bad_3_60'})\n",
    "bad_data_3_90_v2 = bad_data_3_90.rename(columns = {'ever_bad':'ever_bad_3_90'})\n",
    "\n",
    "bad_data_4_30_v2 = bad_data_4_30.rename(columns = {'ever_bad':'ever_bad_4_30'})\n",
    "bad_data_4_60_v2 = bad_data_4_60.rename(columns = {'ever_bad':'ever_bad_4_60'})\n",
    "bad_data_4_90_v2 = bad_data_4_90.rename(columns = {'ever_bad':'ever_bad_4_90'})\n",
    "\n",
    "bad_data_5_30_v2 = bad_data_5_30.rename(columns = {'ever_bad':'ever_bad_5_30'})\n",
    "bad_data_5_60_v2 = bad_data_5_60.rename(columns = {'ever_bad':'ever_bad_5_60'})\n",
    "bad_data_5_90_v2 = bad_data_5_90.rename(columns = {'ever_bad':'ever_bad_5_90'})\n",
    "\n",
    "bad_data_6_30_v2 = bad_data_6_30.rename(columns = {'ever_bad':'ever_bad_6_30'})\n",
    "bad_data_6_60_v2 = bad_data_6_60.rename(columns = {'ever_bad':'ever_bad_6_60'})\n",
    "bad_data_6_90_v2 = bad_data_6_90.rename(columns = {'ever_bad':'ever_bad_6_90'})\n",
    "\n",
    "bad_data_7_30_v2 = bad_data_7_30.rename(columns = {'ever_bad':'ever_bad_7_30'})\n",
    "bad_data_7_60_v2 = bad_data_7_60.rename(columns = {'ever_bad':'ever_bad_7_60'})\n",
    "bad_data_7_90_v2 = bad_data_7_90.rename(columns = {'ever_bad':'ever_bad_7_90'})\n",
    "\n",
    "bad_data_8_30_v2 = bad_data_8_30.rename(columns = {'ever_bad':'ever_bad_8_30'})\n",
    "bad_data_8_60_v2 = bad_data_8_60.rename(columns = {'ever_bad':'ever_bad_8_60'})\n",
    "bad_data_8_90_v2 = bad_data_8_90.rename(columns = {'ever_bad':'ever_bad_8_90'})\n",
    "\n",
    "bad_data_9_30_v2 = bad_data_9_30.rename(columns = {'ever_bad':'ever_bad_9_30'})\n",
    "bad_data_9_60_v2 = bad_data_9_60.rename(columns = {'ever_bad':'ever_bad_9_60'})\n",
    "bad_data_9_90_v2 = bad_data_9_90.rename(columns = {'ever_bad':'ever_bad_9_90'})"
   ]
  },
  {
   "cell_type": "code",
   "execution_count": 65,
   "metadata": {},
   "outputs": [
    {
     "data": {
      "text/plain": [
       "2020-04-30    5179\n",
       "2020-01-31    5002\n",
       "2019-12-31    4979\n",
       "2019-10-31    4906\n",
       "2019-09-30    4800\n",
       "2019-07-31    4526\n",
       "Name: Snapshot_dt, dtype: int64"
      ]
     },
     "execution_count": 65,
     "metadata": {},
     "output_type": "execute_result"
    }
   ],
   "source": [
    "bad_data_9_90['Snapshot_dt'].value_counts()"
   ]
  },
  {
   "cell_type": "code",
   "execution_count": 66,
   "metadata": {},
   "outputs": [],
   "source": [
    "mer_list = [ bad_data_3_30_v2,bad_data_3_60_v2,bad_data_3_90_v2,\n",
    "            bad_data_4_30_v2,bad_data_4_60_v2,bad_data_4_90_v2,\n",
    "            bad_data_5_30_v2,bad_data_5_60_v2,bad_data_5_90_v2,\n",
    "           bad_data_6_30_v2,bad_data_6_60_v2,bad_data_6_90_v2,\n",
    "           bad_data_7_30_v2,bad_data_7_60_v2,bad_data_7_90_v2,\n",
    "           bad_data_8_30_v2,bad_data_8_60_v2,bad_data_8_90_v2,\n",
    "           bad_data_9_30_v2,bad_data_9_60_v2,bad_data_9_90_v2] "
   ]
  },
  {
   "cell_type": "code",
   "execution_count": 67,
   "metadata": {},
   "outputs": [],
   "source": [
    "df_merged_2 = reduce(lambda  left,right: pd.merge(left,right,on=['SZ_LOAN_ACCOUNT_NO','Snapshot_dt'],\n",
    "                                            how='outer'), mer_list)"
   ]
  },
  {
   "cell_type": "code",
   "execution_count": 70,
   "metadata": {},
   "outputs": [
    {
     "data": {
      "text/plain": [
       "2020-04-30    5179\n",
       "2020-01-31    5002\n",
       "2019-12-31    4979\n",
       "2019-10-31    4906\n",
       "2019-09-30    4800\n",
       "2019-07-31    4526\n",
       "Name: Snapshot_dt, dtype: int64"
      ]
     },
     "execution_count": 70,
     "metadata": {},
     "output_type": "execute_result"
    }
   ],
   "source": [
    "df_merged_2[\"Snapshot_dt\"].value_counts()"
   ]
  },
  {
   "cell_type": "markdown",
   "metadata": {},
   "source": [
    "### addition on delinquency bucket and MOB to the data "
   ]
  },
  {
   "cell_type": "code",
   "execution_count": 71,
   "metadata": {},
   "outputs": [
    {
     "data": {
      "text/plain": [
       "2020-04-30    5201\n",
       "2020-01-31    5082\n",
       "2019-12-31    5053\n",
       "2019-10-31    4994\n",
       "2019-09-30    4894\n",
       "2019-07-31    4609\n",
       "Name: DT_BUSINESSDATE, dtype: int64"
      ]
     },
     "execution_count": 71,
     "metadata": {},
     "output_type": "execute_result"
    }
   ],
   "source": [
    "df_mom_4_snaps['DT_BUSINESSDATE'].value_counts()"
   ]
  },
  {
   "cell_type": "code",
   "execution_count": 72,
   "metadata": {},
   "outputs": [],
   "source": [
    "df_tempx = df_mom_4_snaps.copy()"
   ]
  },
  {
   "cell_type": "markdown",
   "metadata": {},
   "source": [
    "##### MOB creation"
   ]
  },
  {
   "cell_type": "code",
   "execution_count": 75,
   "metadata": {},
   "outputs": [],
   "source": [
    "df_tempx[\"MOB\"] =  round(((df_tempx[\"DT_BUSINESSDATE\"] - df_tempx[\"FIRST_DISB_DATE\"])/np.timedelta64(1, 'M')))"
   ]
  },
  {
   "cell_type": "markdown",
   "metadata": {},
   "source": [
    "###### Delq bucket creation\n"
   ]
  },
  {
   "cell_type": "code",
   "execution_count": 77,
   "metadata": {},
   "outputs": [],
   "source": [
    "\n",
    "df_tempx.loc[df_tempx['I_DPD'] == 0, 'DEL_BUCKET'] = '1.Current'\n",
    "df_tempx.loc[(df_tempx['I_DPD'] >=1) & (df_tempx['I_DPD'] <=29) , 'DEL_BUCKET'] = '2.[1-29]'\n",
    "df_tempx.loc[(df_tempx['I_DPD'] >=30) & (df_tempx['I_DPD'] <=59) , 'DEL_BUCKET'] = '3.[30-59]'\n",
    "df_tempx.loc[(df_tempx['I_DPD'] >=60) & (df_tempx['I_DPD'] <=89) , 'DEL_BUCKET'] = '4.[60-89]'\n",
    "df_tempx.loc[(df_tempx['I_DPD'] >=90)  , 'DEL_BUCKET'] = '5.[90+)'"
   ]
  },
  {
   "cell_type": "code",
   "execution_count": 78,
   "metadata": {},
   "outputs": [
    {
     "data": {
      "text/plain": [
       "1.Current    26071\n",
       "4.[60-89]     1241\n",
       "5.[90+)       1037\n",
       "2.[1-29]       883\n",
       "3.[30-59]      601\n",
       "Name: DEL_BUCKET, dtype: int64"
      ]
     },
     "execution_count": 78,
     "metadata": {},
     "output_type": "execute_result"
    }
   ],
   "source": [
    "df_tempx['DEL_BUCKET'].value_counts()"
   ]
  },
  {
   "cell_type": "code",
   "execution_count": 80,
   "metadata": {},
   "outputs": [],
   "source": [
    "df_mer_3 = pd.merge(df_merged_2,df_tempx.loc[:,['SZ_LOAN_ACCOUNT_NO','DT_BUSINESSDATE','DEL_BUCKET','MOB']], \n",
    "                    how = 'left', \n",
    "                    left_on = ['SZ_LOAN_ACCOUNT_NO','Snapshot_dt'],\n",
    "                    right_on = ['SZ_LOAN_ACCOUNT_NO','DT_BUSINESSDATE'])"
   ]
  },
  {
   "cell_type": "code",
   "execution_count": 81,
   "metadata": {},
   "outputs": [
    {
     "data": {
      "text/plain": [
       "1.Current    25663\n",
       "4.[60-89]     1232\n",
       "5.[90+)       1026\n",
       "2.[1-29]       873\n",
       "3.[30-59]      598\n",
       "Name: DEL_BUCKET, dtype: int64"
      ]
     },
     "execution_count": 81,
     "metadata": {},
     "output_type": "execute_result"
    }
   ],
   "source": [
    "df_mer_3['DEL_BUCKET'].value_counts()"
   ]
  },
  {
   "cell_type": "code",
   "execution_count": 82,
   "metadata": {},
   "outputs": [
    {
     "data": {
      "text/plain": [
       "2020-04-30    5179\n",
       "2020-01-31    5002\n",
       "2019-12-31    4979\n",
       "2019-10-31    4906\n",
       "2019-09-30    4800\n",
       "2019-07-31    4526\n",
       "Name: Snapshot_dt, dtype: int64"
      ]
     },
     "execution_count": 82,
     "metadata": {},
     "output_type": "execute_result"
    }
   ],
   "source": [
    "df_mer_3['Snapshot_dt'].value_counts()"
   ]
  },
  {
   "cell_type": "code",
   "execution_count": 84,
   "metadata": {},
   "outputs": [],
   "source": [
    "#df_mer_3.to_csv('D:/Varthana/All_perf_4ss_v4_cibil.csv')"
   ]
  },
  {
   "cell_type": "markdown",
   "metadata": {},
   "source": [
    "### 30p in 3mths "
   ]
  },
  {
   "cell_type": "code",
   "execution_count": 2,
   "metadata": {},
   "outputs": [],
   "source": [
    "import pandas as pd"
   ]
  },
  {
   "cell_type": "code",
   "execution_count": 85,
   "metadata": {},
   "outputs": [],
   "source": [
    "df = pd.read_csv('D:/Varthana/All_perf_4ss_v4_cibil.csv')"
   ]
  },
  {
   "cell_type": "code",
   "execution_count": 87,
   "metadata": {},
   "outputs": [],
   "source": [
    "df_30_3 = df[(df['DEL_BUCKET']=='1.Current') &\n",
    "            (df['MOB'] >=6)].loc[:,[\"SZ_LOAN_ACCOUNT_NO\",\"Snapshot_dt\",\"ever_bad_9_30\",\"ever_bad_9_60\"]]"
   ]
  },
  {
   "cell_type": "code",
   "execution_count": 89,
   "metadata": {},
   "outputs": [],
   "source": [
    "df_30_3['Appl_datekey'] = df_30_3[\"SZ_LOAN_ACCOUNT_NO\"].str.cat(df_30_3[\"Snapshot_dt\"].astype(str), sep=\"_\")"
   ]
  },
  {
   "cell_type": "code",
   "execution_count": 96,
   "metadata": {},
   "outputs": [
    {
     "data": {
      "text/plain": [
       "(3056, 5)"
      ]
     },
     "execution_count": 96,
     "metadata": {},
     "output_type": "execute_result"
    }
   ],
   "source": [
    "df_30_3[df_30_3['Snapshot_dt']=='2019-07-31'].shape"
   ]
  },
  {
   "cell_type": "code",
   "execution_count": 91,
   "metadata": {},
   "outputs": [],
   "source": [
    "df_30_3.to_csv(\"D:/Varthana/All_ss_30p_60p_9mths.csv\")"
   ]
  },
  {
   "cell_type": "code",
   "execution_count": null,
   "metadata": {},
   "outputs": [],
   "source": []
  }
 ],
 "metadata": {
  "kernelspec": {
   "display_name": "Python 3",
   "language": "python",
   "name": "python3"
  },
  "language_info": {
   "codemirror_mode": {
    "name": "ipython",
    "version": 3
   },
   "file_extension": ".py",
   "mimetype": "text/x-python",
   "name": "python",
   "nbconvert_exporter": "python",
   "pygments_lexer": "ipython3",
   "version": "3.8.3"
  }
 },
 "nbformat": 4,
 "nbformat_minor": 4
}
