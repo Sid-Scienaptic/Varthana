{
 "cells": [
  {
   "cell_type": "code",
   "execution_count": 1,
   "metadata": {},
   "outputs": [],
   "source": [
    "import pandas as pd\n",
    "import numpy as np \n",
    "from datetime import date\n",
    "from dateutil.relativedelta import relativedelta\n",
    "from pandas.tseries.offsets import MonthEnd\n",
    "from functools import reduce\n",
    "\n",
    "import warnings\n",
    "warnings.filterwarnings(\"ignore\")"
   ]
  },
  {
   "cell_type": "markdown",
   "metadata": {},
   "source": [
    "##### MoM Data Import"
   ]
  },
  {
   "cell_type": "code",
   "execution_count": 3,
   "metadata": {},
   "outputs": [],
   "source": [
    "df_mom = pd.read_csv('D://Varthana/MOM_DATA_28-Sep-20.csv')"
   ]
  },
  {
   "cell_type": "markdown",
   "metadata": {},
   "source": [
    "#### Date format conversion"
   ]
  },
  {
   "cell_type": "code",
   "execution_count": 5,
   "metadata": {},
   "outputs": [],
   "source": [
    "df_mom['DT_BUSINESSDATE'] = pd.to_datetime(df_mom['DT_BUSINESSDATE'])\n",
    "df_mom['DT_INSTALLMENTDUE'] = pd.to_datetime(df_mom['DT_INSTALLMENTDUE'])\n",
    "df_mom['DT_LAST_PAYMENT'] = pd.to_datetime(df_mom['DT_LAST_PAYMENT'])\n",
    "df_mom['DT_CREATED'] = pd.to_datetime(df_mom['DT_CREATED'])\n",
    "df_mom['DT_LAST_UPDATE'] = pd.to_datetime(df_mom['DT_LAST_UPDATE'])\n"
   ]
  },
  {
   "cell_type": "markdown",
   "metadata": {},
   "source": [
    "### Adding disb date to MoM data"
   ]
  },
  {
   "cell_type": "code",
   "execution_count": 7,
   "metadata": {},
   "outputs": [],
   "source": [
    "LMS_det_all = pd.read_csv('D://Varthana/LMS_DETAILS_11-Sep-20.csv')"
   ]
  },
  {
   "cell_type": "code",
   "execution_count": 9,
   "metadata": {},
   "outputs": [],
   "source": [
    "LMS_det_all_1 = pd.DataFrame(LMS_det_all[['LOAN_ID','FIRST_DISB_DATE']])"
   ]
  },
  {
   "cell_type": "code",
   "execution_count": 10,
   "metadata": {},
   "outputs": [],
   "source": [
    "LMS_det_all_1['FIRST_DISB_DATE'] = pd.to_datetime(LMS_det_all_1['FIRST_DISB_DATE'])"
   ]
  },
  {
   "cell_type": "code",
   "execution_count": 11,
   "metadata": {},
   "outputs": [],
   "source": [
    "df_mom_2  = pd.merge(df_mom, LMS_det_all_1,how=\"left\",left_on=\"SZ_LOAN_ACCOUNT_NO\", right_on=\"LOAN_ID\")"
   ]
  },
  {
   "cell_type": "markdown",
   "metadata": {},
   "source": [
    "#### Retain a copy"
   ]
  },
  {
   "cell_type": "code",
   "execution_count": 12,
   "metadata": {},
   "outputs": [],
   "source": [
    "df_mom_0_30 = df_mom_2.copy()"
   ]
  },
  {
   "cell_type": "markdown",
   "metadata": {},
   "source": [
    "#### Retain only Dec'19, Sep'19, Jun'19, Mar'19 Snapshots for analysis"
   ]
  },
  {
   "cell_type": "code",
   "execution_count": 14,
   "metadata": {},
   "outputs": [],
   "source": [
    "bus_dates = ['2019-07-31','2019-08-31','2019-09-30','2019-10-31','2019-11-30','2019-12-31']\n",
    "# df_mom_0_30['DT_BUSINESSDATE'].head()"
   ]
  },
  {
   "cell_type": "code",
   "execution_count": 15,
   "metadata": {},
   "outputs": [],
   "source": [
    "df_mom_4_snaps = df_mom_0_30[df_mom_0_30['DT_BUSINESSDATE'].isin(bus_dates)]"
   ]
  },
  {
   "cell_type": "code",
   "execution_count": 17,
   "metadata": {},
   "outputs": [
    {
     "data": {
      "text/plain": [
       "2019-12-31    5053\n",
       "2019-11-30    5046\n",
       "2019-10-31    4994\n",
       "2019-09-30    4894\n",
       "2019-08-31    4781\n",
       "2019-07-31    4609\n",
       "Name: DT_BUSINESSDATE, dtype: int64"
      ]
     },
     "execution_count": 17,
     "metadata": {},
     "output_type": "execute_result"
    }
   ],
   "source": [
    "df_mom_4_snaps['DT_BUSINESSDATE'].value_counts()"
   ]
  },
  {
   "cell_type": "code",
   "execution_count": 19,
   "metadata": {},
   "outputs": [],
   "source": [
    "df_perf = df_mom_2[df_mom_2['DT_BUSINESSDATE'] >=min(bus_dates)]"
   ]
  },
  {
   "cell_type": "markdown",
   "metadata": {},
   "source": [
    "### N-Mob perf creation WIP"
   ]
  },
  {
   "cell_type": "code",
   "execution_count": 20,
   "metadata": {},
   "outputs": [],
   "source": [
    "accts_dat = pd.DataFrame(df_mom_4_snaps[['SZ_LOAN_ACCOUNT_NO','DT_BUSINESSDATE']])\n",
    "accts_dat.reset_index(inplace=True,drop=True)"
   ]
  },
  {
   "cell_type": "code",
   "execution_count": 21,
   "metadata": {},
   "outputs": [],
   "source": [
    "accts_dat_1  = accts_dat.rename(columns = {\"DT_BUSINESSDATE\": \"Snapshot_dt\"})"
   ]
  },
  {
   "cell_type": "code",
   "execution_count": 22,
   "metadata": {},
   "outputs": [],
   "source": [
    "# accts_dat_1['end_date'] = pd.to_datetime(accts_dat_1['Snapshot_dt'], format=\"%Y%m\") + MonthEnd(3)"
   ]
  },
  {
   "cell_type": "markdown",
   "metadata": {},
   "source": [
    "###### perf  merge"
   ]
  },
  {
   "cell_type": "code",
   "execution_count": 23,
   "metadata": {},
   "outputs": [],
   "source": [
    "perf_merge = pd.merge(accts_dat_1,df_mom_2, on='SZ_LOAN_ACCOUNT_NO', how='inner' )"
   ]
  },
  {
   "cell_type": "code",
   "execution_count": 25,
   "metadata": {},
   "outputs": [],
   "source": [
    "perf_merge_2 = perf_merge[perf_merge['Snapshot_dt'] < perf_merge['DT_BUSINESSDATE']]"
   ]
  },
  {
   "cell_type": "markdown",
   "metadata": {},
   "source": [
    "##### Getting Relative MOB and delinquency flag "
   ]
  },
  {
   "cell_type": "code",
   "execution_count": 28,
   "metadata": {},
   "outputs": [],
   "source": [
    "perf_merge_2[\"Relative_MOB\"] =  round(((perf_merge_2[\"DT_BUSINESSDATE\"] - perf_merge_2[\"Snapshot_dt\"])/np.timedelta64(1, 'M')))"
   ]
  },
  {
   "cell_type": "markdown",
   "metadata": {},
   "source": [
    "## Flagging x days & 30p"
   ]
  },
  {
   "cell_type": "code",
   "execution_count": 30,
   "metadata": {},
   "outputs": [],
   "source": [
    "perf_merge_2['x_days_flag'] = np.where((perf_merge_2['I_DPD'] >=1) & (perf_merge_2['I_DPD'] <= 29),1,0)"
   ]
  },
  {
   "cell_type": "code",
   "execution_count": 31,
   "metadata": {},
   "outputs": [],
   "source": [
    "perf_sub = perf_merge_2.loc[:,['SZ_LOAN_ACCOUNT_NO',\n",
    "                               'Snapshot_dt',\n",
    "                               'DT_BUSINESSDATE',\n",
    "                               'I_DPD',\n",
    "                               'Relative_MOB',\n",
    "                               'x_days_flag']]"
   ]
  },
  {
   "cell_type": "code",
   "execution_count": 32,
   "metadata": {},
   "outputs": [],
   "source": [
    "perf_sub_2 = perf_sub.copy()"
   ]
  },
  {
   "cell_type": "markdown",
   "metadata": {},
   "source": [
    "## xdays ever in 3m \n"
   ]
  },
  {
   "cell_type": "code",
   "execution_count": 34,
   "metadata": {},
   "outputs": [],
   "source": [
    "perf_sub_2['xdays_ever_3m_flag'] = np.where((perf_sub_2['Relative_MOB'] <=3) & (perf_sub_2['x_days_flag'] ==1),1,0)\n"
   ]
  },
  {
   "cell_type": "code",
   "execution_count": 35,
   "metadata": {},
   "outputs": [],
   "source": [
    "perf_sub_2_agg = perf_sub_2.groupby(['SZ_LOAN_ACCOUNT_NO','Snapshot_dt']).apply(lambda x: pd.Series({\n",
    "                                                                              'xdays_ever_3m': x['xdays_ever_3m_flag'].max()\n",
    "                                                                                    })).reset_index()"
   ]
  },
  {
   "cell_type": "markdown",
   "metadata": {},
   "source": [
    "## Adding MOB and delinquency bucket to the data "
   ]
  },
  {
   "cell_type": "code",
   "execution_count": 36,
   "metadata": {},
   "outputs": [],
   "source": [
    "df_snapshot = df_mom_4_snaps.loc[:,['SZ_LOAN_ACCOUNT_NO','DT_BUSINESSDATE','FIRST_DISB_DATE','I_DPD']]"
   ]
  },
  {
   "cell_type": "code",
   "execution_count": 37,
   "metadata": {},
   "outputs": [],
   "source": [
    "perf_sub_3_agg = pd.merge(perf_sub_2_agg,df_snapshot,left_on = ['SZ_LOAN_ACCOUNT_NO','Snapshot_dt'],\n",
    "                         right_on = ['SZ_LOAN_ACCOUNT_NO','DT_BUSINESSDATE'],\n",
    "                         how='left')"
   ]
  },
  {
   "cell_type": "code",
   "execution_count": 41,
   "metadata": {},
   "outputs": [],
   "source": [
    "perf_sub_3_agg[\"MOB\"] = round(((perf_sub_3_agg[\"Snapshot_dt\"] - perf_sub_3_agg[\"FIRST_DISB_DATE\"])/np.timedelta64(1, 'M')))"
   ]
  },
  {
   "cell_type": "code",
   "execution_count": 42,
   "metadata": {},
   "outputs": [],
   "source": [
    "perf_sub_3_agg.loc[perf_sub_3_agg['I_DPD'] == 0, 'DEL_BUCKET'] = '1.Current'\n",
    "perf_sub_3_agg.loc[(perf_sub_3_agg['I_DPD'] >=1) & (perf_sub_3_agg['I_DPD'] <=29) , 'DEL_BUCKET'] = '2.[1-29]'\n",
    "perf_sub_3_agg.loc[(perf_sub_3_agg['I_DPD'] >=30) & (perf_sub_3_agg['I_DPD'] <=59) , 'DEL_BUCKET'] = '3.[30-59]'\n",
    "perf_sub_3_agg.loc[(perf_sub_3_agg['I_DPD'] >=60) & (perf_sub_3_agg['I_DPD'] <=89) , 'DEL_BUCKET'] = '4.[60-89]'\n",
    "perf_sub_3_agg.loc[(perf_sub_3_agg['I_DPD'] >=90)  , 'DEL_BUCKET'] = '5.[90+)'"
   ]
  },
  {
   "cell_type": "code",
   "execution_count": 45,
   "metadata": {},
   "outputs": [],
   "source": [
    "perf_sub_3_agg.loc[:,['SZ_LOAN_ACCOUNT_NO',\n",
    "                      'Snapshot_dt',\n",
    "                     'xdays_ever_3m',\n",
    "                     'MOB',\n",
    "                     'DEL_BUCKET']].to_csv('xdays_ever_N3M_dv_trigMod.csv',index=False)"
   ]
  },
  {
   "cell_type": "code",
   "execution_count": 48,
   "metadata": {},
   "outputs": [
    {
     "data": {
      "text/plain": [
       "2019-12-31    3533\n",
       "2019-11-30    3466\n",
       "2019-09-30    3408\n",
       "2019-10-31    3322\n",
       "2019-08-31    3198\n",
       "2019-07-31    3056\n",
       "Name: Snapshot_dt, dtype: int64"
      ]
     },
     "execution_count": 48,
     "metadata": {},
     "output_type": "execute_result"
    }
   ],
   "source": [
    "perf_sub_3_agg[(perf_sub_3_agg['MOB']>=6)&(perf_sub_3_agg['DEL_BUCKET']=='1.Current')]['Snapshot_dt'].value_counts()"
   ]
  },
  {
   "cell_type": "code",
   "execution_count": null,
   "metadata": {},
   "outputs": [],
   "source": []
  }
 ],
 "metadata": {
  "kernelspec": {
   "display_name": "Python 3",
   "language": "python",
   "name": "python3"
  },
  "language_info": {
   "codemirror_mode": {
    "name": "ipython",
    "version": 3
   },
   "file_extension": ".py",
   "mimetype": "text/x-python",
   "name": "python",
   "nbconvert_exporter": "python",
   "pygments_lexer": "ipython3",
   "version": "3.8.3"
  }
 },
 "nbformat": 4,
 "nbformat_minor": 4
}
